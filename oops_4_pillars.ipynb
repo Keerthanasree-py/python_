{
  "nbformat": 4,
  "nbformat_minor": 0,
  "metadata": {
    "colab": {
      "provenance": []
    },
    "kernelspec": {
      "name": "python3",
      "display_name": "Python 3"
    },
    "language_info": {
      "name": "python"
    }
  },
  "cells": [
    {
      "cell_type": "markdown",
      "source": [
        "# The four pillars of OOPS (object-oriented programming) are\n",
        "\n",
        "\n",
        " - Inheritance\n",
        " - Polymorphism\n",
        " - Encapsulation\n",
        " - Data Abstraction"
      ],
      "metadata": {
        "id": "ezU26aIuBBDJ"
      }
    },
    {
      "cell_type": "markdown",
      "source": [
        "**- inheritance:**\n",
        "\n",
        "Inheritance allows us to define a class that inherits all the methods and properties from another class. Parent class is the class being inherited from, also called base class. Child class is the class that inherits from another class, also called derived class."
      ],
      "metadata": {
        "id": "LEqVxyqdBnSO"
      }
    },
    {
      "cell_type": "code",
      "execution_count": null,
      "metadata": {
        "colab": {
          "base_uri": "https://localhost:8080/"
        },
        "id": "WYCQ_vM-9xde",
        "outputId": "04d5f450-7e41-419d-c61b-5690d9dfff88"
      },
      "outputs": [
        {
          "output_type": "stream",
          "name": "stdout",
          "text": [
            "Satyam 102\n"
          ]
        }
      ],
      "source": [
        "class Person(object):\n",
        "\n",
        "  # Constructor\n",
        "  def __init__(self, name, id):\n",
        "    self.name = name\n",
        "    self.id = id\n",
        "\n",
        "  # To check if this person is an employee\n",
        "  def Display(self):\n",
        "    print(self.name, self.id)\n",
        "\n",
        "\n",
        "# Driver code\n",
        "emp = Person(\"Satyam\", 102) # An Object of Person\n",
        "emp.Display()"
      ]
    },
    {
      "cell_type": "code",
      "source": [
        "class Person(object):\n",
        "\n",
        "    def __init__(self, name):\n",
        "        self.name = name\n",
        "\n",
        "    def getName(self):\n",
        "        return self.name\n",
        "\n",
        "    def isEmployee(self):\n",
        "        return False\n",
        "\n",
        "\n",
        "class Employee(Person):\n",
        "\n",
        "    def isEmployee(self):\n",
        "        return True\n",
        "\n",
        "emp = Person(\"Geek1\")\n",
        "print(emp.getName(), emp.isEmployee())\n",
        "\n",
        "emp = Employee(\"Geek2\")\n",
        "print(emp.getName(), emp.isEmployee())"
      ],
      "metadata": {
        "colab": {
          "base_uri": "https://localhost:8080/"
        },
        "id": "lkkjj6wG0yT6",
        "outputId": "92588bd7-c4ee-4563-b726-9891d72d009f"
      },
      "execution_count": null,
      "outputs": [
        {
          "output_type": "stream",
          "name": "stdout",
          "text": [
            "Geek1 False\n",
            "Geek2 True\n"
          ]
        }
      ]
    },
    {
      "cell_type": "code",
      "source": [
        "class Animal:\n",
        "    def __init__(self, name, age):\n",
        "        self.name = name\n",
        "        self.age = age\n",
        "\n",
        "    def eat(self):\n",
        "        print(f\"{self.name} is eating.\")\n",
        "\n",
        "    def sleep(self):\n",
        "        print(f\"{self.name} is sleeping.\")\n",
        "\n",
        "\n",
        "class Dog(Animal):\n",
        "    def __init__(self, name, age, breed):\n",
        "        super().__init__(name, age)\n",
        "        self.breed = breed\n",
        "\n",
        "    def bark(self):\n",
        "        print(f\"{self.name} the {self.breed} dog is barking.\")\n",
        "\n",
        "name = input(\"Enter dog's name: \")\n",
        "age = int(input(\"Enter dog's age: \"))\n",
        "breed = input(\"Enter dog's breed: \")\n",
        "\n",
        "my_dog = Dog(name, age, breed)\n",
        "\n",
        "my_dog.eat()\n",
        "my_dog.sleep()\n",
        "\n",
        "my_dog.bark()\n"
      ],
      "metadata": {
        "colab": {
          "base_uri": "https://localhost:8080/"
        },
        "id": "aEP2lc5j0yjp",
        "outputId": "48ab3ffb-f2e6-4f3f-ded2-397bf9a48f86"
      },
      "execution_count": null,
      "outputs": [
        {
          "output_type": "stream",
          "name": "stdout",
          "text": [
            "Enter dog's name: max\n",
            "Enter dog's age: 2\n",
            "Enter dog's breed: golden\n",
            "max is eating.\n",
            "max is sleeping.\n",
            "max the golden dog is barking.\n"
          ]
        }
      ]
    },
    {
      "cell_type": "markdown",
      "source": [
        "\n",
        "**Encapsulation**\n",
        "\n",
        "the concept of binding fields (object state) and methods (behavior) together as a single unit. Programming languages such as Java use encapsulation in the form of classes. A class allows programmers to create objects with variables (data) and behaviors (methods or function\n",
        "\n",
        "\n"
      ],
      "metadata": {
        "id": "P9la7u06V9Tw"
      }
    },
    {
      "cell_type": "code",
      "source": [
        "#protected\n",
        "class Base:\n",
        "    def __init__(self):\n",
        "\n",
        "        self._a = 2\n",
        "\n",
        "class Derived(Base):\n",
        "    def __init__(self):\n",
        "\n",
        "        Base.__init__(self)\n",
        "        print(\"Calling protected member of base class: \",\n",
        "              self._a)\n",
        "\n",
        "        self._a = 3\n",
        "        print(\"Calling modified protected member outside class: \",\n",
        "              self._a)\n",
        "\n",
        "\n",
        "obj1 = Derived()\n",
        "\n",
        "obj2 = Base()\n",
        "\n",
        "print(\"Accessing protected member of obj1: \", obj1._a)\n",
        "\n",
        "print(\"Accessing protected member of obj2: \", obj2._a)\n"
      ],
      "metadata": {
        "colab": {
          "base_uri": "https://localhost:8080/"
        },
        "id": "s4Ewdh_vWLro",
        "outputId": "a1e9033b-1970-4764-eeb2-e962efb18ad4"
      },
      "execution_count": null,
      "outputs": [
        {
          "output_type": "stream",
          "name": "stdout",
          "text": [
            "Calling protected member of base class:  2\n",
            "Calling modified protected member outside class:  3\n",
            "Accessing protected member of obj1:  3\n",
            "Accessing protected member of obj2:  2\n"
          ]
        }
      ]
    },
    {
      "cell_type": "code",
      "source": [
        "#private\n",
        "class Base:\n",
        "\n",
        "    # Declaring public method\n",
        "    def fun(self):\n",
        "        print(\"Public method\")\n",
        "\n",
        "    # Declaring private method\n",
        "    def __fun(self):\n",
        "        print(\"Private method\")\n",
        "\n",
        "# Creating a derived class\n",
        "\n",
        "\n",
        "class Derived(Base):\n",
        "    def __init__(self):\n",
        "\n",
        "        # Calling constructor of\n",
        "        # Base class\n",
        "        Base.__init__(self)\n",
        "\n",
        "    def call_public(self):\n",
        "\n",
        "        # Calling public method of base class\n",
        "        print(\"\\nInside derived class\")\n",
        "        self.fun()\n",
        "\n",
        "    def call_private(self):\n",
        "\n",
        "        # Calling private method of base class\n",
        "        self.__fun()\n",
        "\n",
        "\n",
        "# Driver code\n",
        "obj1 = Base()\n",
        "\n",
        "# Calling public method\n",
        "obj1.fun()\n",
        "\n",
        "obj2 = Derived()\n",
        "obj2.call_public()"
      ],
      "metadata": {
        "colab": {
          "base_uri": "https://localhost:8080/"
        },
        "id": "xYRWHuq8XaCE",
        "outputId": "acbbf74d-0ffb-4dcb-a2d7-259e0c879f0b"
      },
      "execution_count": null,
      "outputs": [
        {
          "output_type": "stream",
          "name": "stdout",
          "text": [
            "Public method\n",
            "\n",
            "Inside derived class\n",
            "Public method\n"
          ]
        }
      ]
    },
    {
      "cell_type": "markdown",
      "source": [
        "**polymorphism**\n",
        "\n",
        " means having many forms. In programming, polymorphism means the same function name (but different signatures) being used for different types. The key difference is the data types and number of arguments used in function."
      ],
      "metadata": {
        "id": "Pfry4Ne2eEvQ"
      }
    },
    {
      "cell_type": "code",
      "source": [
        "def add(x, y, z = 0):\n",
        "    return x + y+z\n",
        "\n",
        "# Driver code\n",
        "print(add(2, 3))\n",
        "print(add(2, 3, 4))"
      ],
      "metadata": {
        "colab": {
          "base_uri": "https://localhost:8080/"
        },
        "id": "JyqJsUZJeFGe",
        "outputId": "53f2addb-b762-4f72-d582-9ab557c9045e"
      },
      "execution_count": null,
      "outputs": [
        {
          "output_type": "stream",
          "name": "stdout",
          "text": [
            "5\n",
            "9\n"
          ]
        }
      ]
    },
    {
      "cell_type": "code",
      "source": [
        "class India():\n",
        "    def capital(self):\n",
        "        print(\"New Delhi is the capital of India.\")\n",
        "\n",
        "    def language(self):\n",
        "        print(\"Hindi is the most widely spoken language of India.\")\n",
        "\n",
        "    def type(self):\n",
        "        print(\"India is a developing country.\")\n",
        "\n",
        "class USA():\n",
        "    def capital(self):\n",
        "        print(\"Washington, D.C. is the capital of USA.\")\n",
        "\n",
        "    def language(self):\n",
        "        print(\"English is the primary language of USA.\")\n",
        "\n",
        "    def type(self):\n",
        "        print(\"USA is a developed country.\")\n",
        "\n",
        "obj_ind = India()\n",
        "obj_usa = USA()\n",
        "for country in (obj_ind, obj_usa):\n",
        "    country.capital()\n",
        "    country.language()\n",
        "    country.type()"
      ],
      "metadata": {
        "colab": {
          "base_uri": "https://localhost:8080/"
        },
        "id": "K0mtrwOkhTWV",
        "outputId": "10a31cc9-1b5e-416d-8a61-5683ac5c69c1"
      },
      "execution_count": null,
      "outputs": [
        {
          "output_type": "stream",
          "name": "stdout",
          "text": [
            "New Delhi is the capital of India.\n",
            "Hindi is the most widely spoken language of India.\n",
            "India is a developing country.\n",
            "Washington, D.C. is the capital of USA.\n",
            "English is the primary language of USA.\n",
            "USA is a developed country.\n"
          ]
        }
      ]
    },
    {
      "cell_type": "markdown",
      "source": [
        "**Method Overloading:**\n",
        "\n",
        "Two or more methods have the same name but different numbers of parameters or different types of parameters, or both. These methods are called overloaded methods and this is called method overloading."
      ],
      "metadata": {
        "id": "62w87Qsghdsy"
      }
    },
    {
      "cell_type": "code",
      "source": [
        "def product(a, b):\n",
        "    p = a * b\n",
        "    print(p)\n",
        "\n",
        "# Second product method\n",
        "# Takes three argument and print their\n",
        "# product\n",
        "\n",
        "\n",
        "def product(a, b, c):\n",
        "    p = a * b*c\n",
        "    print(p)\n",
        "\n",
        "# Uncommenting the below line shows an error\n",
        "# product(4, 5)\n",
        "\n",
        "\n",
        "# This line will call the second product method\n",
        "product(4, 5, 5)"
      ],
      "metadata": {
        "colab": {
          "base_uri": "https://localhost:8080/"
        },
        "id": "l44iXRWHherA",
        "outputId": "1b732973-8236-4148-fb03-db054d726f9e"
      },
      "execution_count": null,
      "outputs": [
        {
          "output_type": "stream",
          "name": "stdout",
          "text": [
            "100\n"
          ]
        }
      ]
    },
    {
      "cell_type": "markdown",
      "source": [
        "**Method overriding:**\n",
        "\n",
        " The Child class overrides the show() method of the Parent class, so when show() is called on an instance of Child, it uses the Child class’s implementation.\n",
        "\n",
        "**Super(). __ init __():**\n",
        "\n",
        "This ensures that the parent class’s constructor is called, initializing any attributes defined in the parent class. It’s good practice to call the parent class constructor if it does important initialization."
      ],
      "metadata": {
        "id": "S0LnbdeZiMOR"
      }
    },
    {
      "cell_type": "code",
      "source": [
        "# Python program to demonstrate\n",
        "# Defining parent class\n",
        "class Parent():\n",
        "\n",
        "    # Constructor\n",
        "    def __init__(self):\n",
        "        self.value = \"Inside Parent\"\n",
        "\n",
        "    # Parent's show method\n",
        "    def show(self):\n",
        "        print(self.value)\n",
        "\n",
        "# Defining child class\n",
        "class Child(Parent):\n",
        "\n",
        "    # Constructor\n",
        "    def __init__(self):\n",
        "        super().__init__()  # Call parent constructor\n",
        "        self.value = \"Inside Child\"\n",
        "\n",
        "    # Child's show method\n",
        "    def show(self):\n",
        "        print(self.value)\n",
        "\n",
        "# Driver's code\n",
        "obj1 = Parent()\n",
        "obj2 = Child()\n",
        "\n",
        "obj1.show()  # Should print \"Inside Parent\"\n",
        "obj2.show()"
      ],
      "metadata": {
        "colab": {
          "base_uri": "https://localhost:8080/"
        },
        "id": "DN093lUpiLZ9",
        "outputId": "3be8dff5-f26f-4d44-a4a3-51319f1b384c"
      },
      "execution_count": null,
      "outputs": [
        {
          "output_type": "stream",
          "name": "stdout",
          "text": [
            "Inside Parent\n",
            "Inside Child\n"
          ]
        }
      ]
    },
    {
      "cell_type": "markdown",
      "source": [
        "**Abstraction: **\n",
        "\n",
        "in OOP is the process of hiding complex details and showing only essential features of an object, allowing users to interact with it at a high level without knowing its internal workings."
      ],
      "metadata": {
        "id": "TP9bvhN5lRfn"
      }
    },
    {
      "cell_type": "code",
      "source": [
        "from abc import ABC, abstractmethod\n",
        "\n",
        "class Vehicle(ABC):\n",
        "    @abstractmethod\n",
        "    def start_engine(self):\n",
        "        pass\n",
        "\n",
        "class Car(Vehicle):\n",
        "    def start_engine(self):\n",
        "        print(\"Car engine started\")\n",
        "\n",
        "class Motorcycle(Vehicle):\n",
        "    def start_engine(self):\n",
        "        print(\"Motorcycle engine started\")\n",
        "\n",
        "# Abstraction in action\n",
        "vehicles = [Car(), Motorcycle()]\n",
        "for vehicle in vehicles:\n",
        "    vehicle.start_engine()"
      ],
      "metadata": {
        "colab": {
          "base_uri": "https://localhost:8080/"
        },
        "id": "18UvWOhSlR4A",
        "outputId": "1e7cff4e-89d5-4de9-9dfa-c663adcf003c"
      },
      "execution_count": null,
      "outputs": [
        {
          "output_type": "stream",
          "name": "stdout",
          "text": [
            "Car engine started\n",
            "Motorcycle engine started\n"
          ]
        }
      ]
    }
  ]
}