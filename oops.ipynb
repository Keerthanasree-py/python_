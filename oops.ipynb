{
  "nbformat": 4,
  "nbformat_minor": 0,
  "metadata": {
    "colab": {
      "provenance": []
    },
    "kernelspec": {
      "name": "python3",
      "display_name": "Python 3"
    },
    "language_info": {
      "name": "python"
    }
  },
  "cells": [
    {
      "cell_type": "markdown",
      "source": [
        "# oops:\n",
        "\n",
        "In Python, object-oriented Programming (OOPs) is a programming paradigm that uses objects and classes in programming. OOPs, concepts in python, aim to implement real-world entities like inheritance, polymorphisms, encapsulation, etc., in the programming."
      ],
      "metadata": {
        "id": "Dp934mEaKOpm"
      }
    },
    {
      "cell_type": "markdown",
      "source": [
        "**The four pillars of OOPS (object-oriented programming)**\n",
        "\n",
        " - class-blueprint\n",
        " - object-instances of class\n",
        " - Inheritance,\n",
        " - Polymorphism,\n",
        " - Encapsulation\n",
        " - Data Abstraction"
      ],
      "metadata": {
        "id": "W3lmLpg-K3BH"
      }
    },
    {
      "cell_type": "markdown",
      "source": [
        "syntax:\n",
        "\n",
        "class ClassName:\n",
        "  # Statement-1\n",
        "   .\n",
        "   .\n",
        "   .\n",
        "   # Statement-N"
      ],
      "metadata": {
        "id": "7f21r5FzSohf"
      }
    },
    {
      "cell_type": "code",
      "source": [],
      "metadata": {
        "id": "86csVbHJS69Q"
      },
      "execution_count": null,
      "outputs": []
    },
    {
      "cell_type": "code",
      "execution_count": null,
      "metadata": {
        "id": "gz6SUuHtNOKC",
        "colab": {
          "base_uri": "https://localhost:8080/"
        },
        "outputId": "7f80b0c2-ad4f-4973-d57f-8f491f4a144a"
      },
      "outputs": [
        {
          "output_type": "stream",
          "name": "stdout",
          "text": [
            "<__main__.tv object at 0x78e1c4ec70a0>\n"
          ]
        }
      ],
      "source": [
        "class tv:\n",
        " def __init__(self,name):\n",
        "  self.name=name\n",
        "\n",
        " def display(self):\n",
        "  print(\"hello\",self.name)\n",
        "\n",
        "\n",
        "tv1=tv(\"amul\")\n",
        "print(tv1)"
      ]
    },
    {
      "cell_type": "code",
      "source": [
        "print(f'its my tv name {tv1.name}')"
      ],
      "metadata": {
        "id": "RHAomM0iQLaM",
        "colab": {
          "base_uri": "https://localhost:8080/"
        },
        "outputId": "f49a5bea-adf0-4e78-9296-19bbaafba448"
      },
      "execution_count": null,
      "outputs": [
        {
          "output_type": "stream",
          "name": "stdout",
          "text": [
            "its my tv name amul\n"
          ]
        }
      ]
    },
    {
      "cell_type": "code",
      "source": [
        "tv1.display()"
      ],
      "metadata": {
        "id": "RVfo0vigQLdF",
        "colab": {
          "base_uri": "https://localhost:8080/"
        },
        "outputId": "da22f896-2324-4bd9-9fbe-fa23c4718e8b"
      },
      "execution_count": null,
      "outputs": [
        {
          "output_type": "stream",
          "name": "stdout",
          "text": [
            "hello amul\n"
          ]
        }
      ]
    },
    {
      "cell_type": "code",
      "source": [],
      "metadata": {
        "id": "72Zm54EXQLge"
      },
      "execution_count": null,
      "outputs": []
    },
    {
      "cell_type": "code",
      "source": [
        "class banking:\n",
        "  def __init__(self,name,accountno):\n",
        "    self.name=name\n",
        "    self.accountno=accountno\n",
        "\n",
        "  def staff(office):\n",
        "    print(\"they r many people\")\n",
        "\n",
        "banking1=banking(\"sree\",123)\n",
        "print(f'my name is {banking1.name} and my accountno is {banking1.accountno}')\n",
        "banking1.staff()"
      ],
      "metadata": {
        "id": "WVBgygjPQLmo",
        "colab": {
          "base_uri": "https://localhost:8080/"
        },
        "outputId": "e364478c-b0a0-452d-cd8c-fd4bbce41cd6"
      },
      "execution_count": null,
      "outputs": [
        {
          "output_type": "stream",
          "name": "stdout",
          "text": [
            "my name is sree and my accountno is 123\n",
            "they r many people\n"
          ]
        }
      ]
    },
    {
      "cell_type": "code",
      "source": [],
      "metadata": {
        "id": "KgHBT6twQLqG"
      },
      "execution_count": null,
      "outputs": []
    },
    {
      "cell_type": "code",
      "source": [
        "class IT:\n",
        "  def __init__(self,name,address):\n",
        "   self.name=name\n",
        "   self.address=address\n",
        "  def new(members):\n",
        "    return f'my company name {members.name} and address {members.address}'\n",
        "\n",
        "IT1=IT(\"tata\",\"hyd\")\n",
        "IT1.new()"
      ],
      "metadata": {
        "id": "T7W22pv3QLt6",
        "colab": {
          "base_uri": "https://localhost:8080/",
          "height": 36
        },
        "outputId": "ec7215a3-10fb-4da4-da95-9f398eaeb0f8"
      },
      "execution_count": null,
      "outputs": [
        {
          "output_type": "execute_result",
          "data": {
            "text/plain": [
              "'my company name tata and address hyd'"
            ],
            "application/vnd.google.colaboratory.intrinsic+json": {
              "type": "string"
            }
          },
          "metadata": {},
          "execution_count": 22
        }
      ]
    },
    {
      "cell_type": "code",
      "source": [],
      "metadata": {
        "id": "eD3x479bQLxN"
      },
      "execution_count": null,
      "outputs": []
    },
    {
      "cell_type": "code",
      "source": [
        "class Hospital:\n",
        "    def __init__(icu, patient_name, disease):\n",
        "        icu.patient_name = patient_name\n",
        "        icu.disease = disease\n",
        "\n",
        "    def receipt(patients):\n",
        "        print(f\"my name {patients.patient_name} and disease is {patients.disease}\")\n",
        "        print(\"will i be cure\")\n",
        "\n",
        "patient= Hospital(\"keerthana\",\"eyes\")\n",
        "patient.receipt()"
      ],
      "metadata": {
        "colab": {
          "base_uri": "https://localhost:8080/"
        },
        "id": "BnITMxybFVrm",
        "outputId": "10e188c6-5587-4cd7-94a2-2f80e0e33ab4"
      },
      "execution_count": null,
      "outputs": [
        {
          "output_type": "stream",
          "name": "stdout",
          "text": [
            "my name keerthana and disease is eyes\n",
            "will i be cure\n"
          ]
        }
      ]
    },
    {
      "cell_type": "code",
      "source": [],
      "metadata": {
        "id": "B90uECw0FV0q"
      },
      "execution_count": null,
      "outputs": []
    },
    {
      "cell_type": "code",
      "source": [
        "class transport:\n",
        "    def __init__(road, vechile_type, vechile_brand):\n",
        "        road.vechile_type = vechile_type\n",
        "        road.vechile_brand = vechile_brand\n",
        "\n",
        "    def roadways(road):\n",
        "        print(\" mellaga vellu\")\n",
        "BMW = transport(\"Car\",\"BMW\")\n",
        "BMW.roadways()\n",
        "print(f\"My vechile is {BMW.vechile_type} and it is from {BMW.vechile_brand} 's Brand\")"
      ],
      "metadata": {
        "colab": {
          "base_uri": "https://localhost:8080/"
        },
        "id": "aXhmD3j0FV4Q",
        "outputId": "e45b3dcc-aa36-4807-c456-ea611d40236d"
      },
      "execution_count": null,
      "outputs": [
        {
          "output_type": "stream",
          "name": "stdout",
          "text": [
            " mellaga vellu\n",
            "My vechile is Car and it is from BMW 's Brand\n"
          ]
        }
      ]
    },
    {
      "cell_type": "code",
      "source": [],
      "metadata": {
        "id": "Fei4ceGQIQ8o"
      },
      "execution_count": null,
      "outputs": []
    },
    {
      "cell_type": "code",
      "source": [
        "class Telecom:\n",
        "    def __init__(s, sim_brand, cost_recharge):\n",
        "        s.sim_brand = sim_brand\n",
        "        s.cost_recharge = cost_recharge\n",
        "    def signel(sitara):\n",
        "        print(f\"name of the Comunication is {sitara.sim_brand} and can cost you  {sitara.cost_recharge} to recharge\")\n",
        "t=Telecom(\"Airtel\",\"399\")\n",
        "t.signel()"
      ],
      "metadata": {
        "colab": {
          "base_uri": "https://localhost:8080/"
        },
        "id": "t8ux-tw3IRAC",
        "outputId": "3c6b84f8-1a44-4d58-cf92-288a858ebc18"
      },
      "execution_count": null,
      "outputs": [
        {
          "output_type": "stream",
          "name": "stdout",
          "text": [
            "name of the Comunication is Airtel and can cost you  399 to recharge\n"
          ]
        }
      ]
    },
    {
      "cell_type": "code",
      "source": [],
      "metadata": {
        "id": "2FHI1c2VIfUv"
      },
      "execution_count": null,
      "outputs": []
    },
    {
      "cell_type": "code",
      "source": [
        "class members:\n",
        "    def __init__(g,father_name,mother_name,sister_name,my_name):\n",
        "        g.father_name = father_name\n",
        "        g.mother_name = mother_name\n",
        "        g.sister_name = sister_name\n",
        "        g.my_name = my_name\n",
        "    def family(mem):\n",
        "        print(f\"my father name is :{mem.father_name} ,and mother name is :{mem.mother_name} ,and my brother name is :{mem.sister_name}, and my name is :{mem.my_name},this is my famly \")\n",
        "fem = members(\"x\",\"y\",\"z\",\"z\")\n",
        "fem.family()"
      ],
      "metadata": {
        "colab": {
          "base_uri": "https://localhost:8080/"
        },
        "id": "Ab1njfEOIfYJ",
        "outputId": "7fb52944-16c9-4dac-e728-2417236f2c88"
      },
      "execution_count": null,
      "outputs": [
        {
          "output_type": "stream",
          "name": "stdout",
          "text": [
            "my father name is :x ,and mother name is :y ,and my brother name is :z, and my name is :z,this is my famly \n"
          ]
        }
      ]
    },
    {
      "cell_type": "code",
      "source": [],
      "metadata": {
        "id": "coB3V1hWI8Cc"
      },
      "execution_count": null,
      "outputs": []
    },
    {
      "cell_type": "code",
      "source": [
        "class Education:\n",
        "    def __init__(edu,name,location):\n",
        "        edu.name = name\n",
        "        edu.location = location\n",
        "\n",
        "    def __str__(self):\n",
        "        return f\"Institution name is {self.name} and it is located in {self.location}.\"\n",
        "college = Education(\"a\",\"b\")\n",
        "print(college)"
      ],
      "metadata": {
        "colab": {
          "base_uri": "https://localhost:8080/"
        },
        "id": "MxW0JxRaI8Ev",
        "outputId": "33ec2f89-8b26-46f7-d375-01d9bad7bec9"
      },
      "execution_count": null,
      "outputs": [
        {
          "output_type": "stream",
          "name": "stdout",
          "text": [
            "Institution name is a and it is located in b.\n"
          ]
        }
      ]
    },
    {
      "cell_type": "code",
      "source": [],
      "metadata": {
        "id": "GUnJDnU3Jiaf"
      },
      "execution_count": null,
      "outputs": []
    },
    {
      "cell_type": "code",
      "source": [
        "A = input(\"Enter what brand of laptop u want :\")\n",
        "B = input(\"Enter what configaration you want :\")\n",
        "class Arun:\n",
        "    def __init__(q,A,B):\n",
        "        q.A=A\n",
        "        q.B=B\n",
        "    def __str__(c):\n",
        "        return f\"i want {c.A} laptop with a configaration of {c.B}\"\n",
        "\n",
        "con = Arun(A,B)\n",
        "print(con)"
      ],
      "metadata": {
        "colab": {
          "base_uri": "https://localhost:8080/"
        },
        "id": "G-7K939rJidx",
        "outputId": "d03797cd-a73e-415e-b651-b74505955abe"
      },
      "execution_count": null,
      "outputs": [
        {
          "output_type": "stream",
          "name": "stdout",
          "text": [
            "Enter what brand of laptop u want :lenovo\n",
            "Enter what configaration you want :13\n",
            "i want lenovo laptop with a configaration of 13\n"
          ]
        }
      ]
    },
    {
      "cell_type": "code",
      "source": [],
      "metadata": {
        "id": "ExNqJP0YI8IN"
      },
      "execution_count": null,
      "outputs": []
    }
  ]
}