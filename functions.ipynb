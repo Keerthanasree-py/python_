{
  "nbformat": 4,
  "nbformat_minor": 0,
  "metadata": {
    "colab": {
      "provenance": []
    },
    "kernelspec": {
      "name": "python3",
      "display_name": "Python 3"
    },
    "language_info": {
      "name": "python"
    }
  },
  "cells": [
    {
      "cell_type": "markdown",
      "source": [
        "**Functions**\n",
        "\n",
        "-A function is a block of code which only runs when it is called.\n",
        "\n",
        "-You can pass data, known as parameters, into a function.\n",
        "\n",
        "-A function can return data as a result.\n",
        "\n",
        "**-There are 2 types of functions:**\n",
        "\n",
        "   1.Built-in library function\n",
        "\n",
        "   2.User-defined function"
      ],
      "metadata": {
        "id": "LKcxo8LCRxW5"
      }
    },
    {
      "cell_type": "markdown",
      "source": [
        "**1.Built in library function:**\n",
        "\n",
        "-These are Standard functions in Python that are available to use.\n",
        "\n",
        "**2.User defined function:**\n",
        "\n",
        "-We can create our own functions based on our requirements."
      ],
      "metadata": {
        "id": "Dhs-ET0PR_0V"
      }
    },
    {
      "cell_type": "code",
      "execution_count": null,
      "metadata": {
        "id": "2kEkUKDmReg0"
      },
      "outputs": [],
      "source": [
        "def person(name, age):\n",
        "    print(f\"My name is {name} and I am {age}\")"
      ]
    },
    {
      "cell_type": "code",
      "source": [
        "person(\"sai\",200)"
      ],
      "metadata": {
        "colab": {
          "base_uri": "https://localhost:8080/"
        },
        "id": "4TsmlXrwSxSj",
        "outputId": "ab008214-e1db-4537-ec86-d7541f3db450"
      },
      "execution_count": null,
      "outputs": [
        {
          "output_type": "stream",
          "name": "stdout",
          "text": [
            "My name is sai and I am 200\n"
          ]
        }
      ]
    },
    {
      "cell_type": "code",
      "source": [
        "person(\"sreeja\",10)"
      ],
      "metadata": {
        "colab": {
          "base_uri": "https://localhost:8080/"
        },
        "id": "PQT8uuZVS7bj",
        "outputId": "fb05de96-1b35-4423-83b2-94443f1bbbca"
      },
      "execution_count": null,
      "outputs": [
        {
          "output_type": "stream",
          "name": "stdout",
          "text": [
            "My name is sreeja and I am 10\n"
          ]
        }
      ]
    },
    {
      "cell_type": "code",
      "source": [
        "bike= ['duke','fz', 'bullet']\n",
        "print(bike)\n",
        "bike_name = input(\"Enter the bike name: \")\n",
        "\n",
        "def bike_showroom(bike_name):\n",
        "\n",
        "    if bike_name in bike:\n",
        "        print(f\"Yes, we have {bike_name}\")\n",
        "    else:\n",
        "        print(\"No, we don't have that bike.\")\n",
        "\n",
        "bike_showroom(bike_name)"
      ],
      "metadata": {
        "colab": {
          "base_uri": "https://localhost:8080/"
        },
        "id": "GdOVPh2bTCwX",
        "outputId": "7e87242b-a626-48ff-b6e7-b08710f58014"
      },
      "execution_count": null,
      "outputs": [
        {
          "output_type": "stream",
          "name": "stdout",
          "text": [
            "['duke', 'fz', 'bullet']\n",
            "Enter the bike name: fz\n",
            "Yes, we have fz\n"
          ]
        }
      ]
    },
    {
      "cell_type": "code",
      "source": [
        "nonveg=['chicken','fish','egg','prawn','mutton']\n",
        "veg=['tomato','potato','paneer','cucumber','beans']\n",
        "\n",
        "print(nonveg,veg)\n",
        "\n",
        "restaurant_vamsi= input(\"Enter the name: \")\n",
        "\n",
        "def restaurant(restaurant_vamsi):\n",
        "\n",
        "    if restaurant_vamsi in nonveg:\n",
        "        print(f\"Your nonveg {restaurant_vamsi} please wait\")\n",
        "    elif restaurant_vamsi in veg:\n",
        "        print(f\"your veg {restaurant_vamsi} please wait\")\n",
        "    else:\n",
        "        print(\"we don't serve these item\")\n",
        "\n",
        "restaurant(restaurant_vamsi)"
      ],
      "metadata": {
        "id": "mvHSg-hxq8wL",
        "colab": {
          "base_uri": "https://localhost:8080/"
        },
        "outputId": "bee7b4d5-5ec8-4e89-af0b-a8dc0f5f0bb4"
      },
      "execution_count": 22,
      "outputs": [
        {
          "output_type": "stream",
          "name": "stdout",
          "text": [
            "['chicken', 'fish', 'egg', 'prawn', 'mutton'] ['tomato', 'potato', 'paneer', 'cucumber', 'beans']\n",
            "Enter the name: halwa\n",
            "we don't serve these item\n"
          ]
        }
      ]
    },
    {
      "cell_type": "markdown",
      "source": [
        "**Map Reduce and Filter Operations**\n",
        "\n",
        "*  map() Function\n",
        "*  Reduce() Function\n",
        "*  Filter() Function\n",
        "\n",
        "\n",
        "**Map Function**\n",
        "\n",
        "The map () function returns a map object(which is an iterator) of the results after applying the given function to each item of a given iterable (list, tuple, etc.).\n",
        "\n",
        "Syntax: map(fun, iter)\n",
        "\n",
        "\n"
      ],
      "metadata": {
        "id": "pojXILceMve6"
      }
    },
    {
      "cell_type": "code",
      "source": [
        "def double(n):\n",
        "    return n * 2\n",
        "\n",
        "# Using map to double all numbers\n",
        "numbers = [5, 6, 7, 8]\n",
        "result = map(double, numbers)\n",
        "print(list(result))"
      ],
      "metadata": {
        "id": "wUyOMYA1Pauf",
        "colab": {
          "base_uri": "https://localhost:8080/"
        },
        "outputId": "33ab9a3c-20ec-43a7-e4ce-7bdc2047a7b9"
      },
      "execution_count": 21,
      "outputs": [
        {
          "output_type": "stream",
          "name": "stdout",
          "text": [
            "[10, 12, 14, 16]\n"
          ]
        }
      ]
    },
    {
      "cell_type": "markdown",
      "source": [
        "**Reduce Function**\n",
        "\n",
        "The reduce function is used to apply a particular function passed in its argument to all of the list elements mentioned in the sequence passed along.This function is defined in “functools” module.\n",
        "\n",
        "Syntax: reduce(func, iterable[, initial])\n",
        "\n"
      ],
      "metadata": {
        "id": "Pk8h-_qKPljp"
      }
    },
    {
      "cell_type": "code",
      "source": [
        "import functools\n",
        "\n",
        "# Define a list of numbers\n",
        "numbers = [1, 2, 3, 4]\n",
        "\n",
        "# Use reduce to compute the product of list elements\n",
        "product = functools.reduce(lambda x, y: x * y, numbers)\n",
        "print(\"Product of list elements:\", product)"
      ],
      "metadata": {
        "id": "GkmG_11KPxyL",
        "colab": {
          "base_uri": "https://localhost:8080/"
        },
        "outputId": "8728bf84-1c56-4d0e-cd7d-316ed3806032"
      },
      "execution_count": 20,
      "outputs": [
        {
          "output_type": "stream",
          "name": "stdout",
          "text": [
            "Product of list elements: 24\n"
          ]
        }
      ]
    },
    {
      "cell_type": "markdown",
      "source": [
        "**Filter Function**\n",
        "\n",
        "The filter() method filters the given sequence with the help of a function that tests each element in the sequence to be true or not.\n",
        "\n",
        "Syntax: filter(function, sequence)"
      ],
      "metadata": {
        "id": "psJUNbmzPz3-"
      }
    },
    {
      "cell_type": "code",
      "source": [
        "def is_even(n):\n",
        "    return n % 2 == 0\n",
        "\n",
        "# Define a list of numbers\n",
        "numbers = [1, 2, 3, 4, 5, 6, 7, 8, 9, 10]\n",
        "\n",
        "# Use filter to filter out even numbers\n",
        "even_numbers = filter(is_even, numbers)\n",
        "print(\"Even numbers:\", list(even_numbers))"
      ],
      "metadata": {
        "id": "l00PYzX-QYBC",
        "colab": {
          "base_uri": "https://localhost:8080/"
        },
        "outputId": "7ac12db6-d44d-49be-95f1-0f668fa8cce7"
      },
      "execution_count": 19,
      "outputs": [
        {
          "output_type": "stream",
          "name": "stdout",
          "text": [
            "Even numbers: [2, 4, 6, 8, 10]\n"
          ]
        }
      ]
    },
    {
      "cell_type": "markdown",
      "source": [
        "1.write a python code to given number is prime number or not?"
      ],
      "metadata": {
        "id": "2fo9oP8qTHbC"
      }
    },
    {
      "cell_type": "code",
      "source": [
        "def prime_numbers(num):\n",
        "    for i in range(2,num):\n",
        "        if num % i==0:\n",
        "            print(\"Not prime\")\n",
        "            break\n",
        "    else:\n",
        "        print(\"prime number\")\n",
        "\n",
        "\n",
        "num=int(input(\"Enter a number:\"))\n",
        "prime_numbers(num)"
      ],
      "metadata": {
        "id": "C2hkQpPUTz0K",
        "colab": {
          "base_uri": "https://localhost:8080/"
        },
        "outputId": "fcca1f95-56dc-4434-d5dd-a1d085e5ec21"
      },
      "execution_count": 18,
      "outputs": [
        {
          "output_type": "stream",
          "name": "stdout",
          "text": [
            "Enter a number:23\n",
            "prime number\n"
          ]
        }
      ]
    },
    {
      "cell_type": "markdown",
      "source": [
        "2.write a python code to print the following number pattern?\n",
        "\n",
        "       1 1 1 1 1\n",
        "       2 2 2 2\n",
        "       3 3 3\n",
        "       4 4\n",
        "       5"
      ],
      "metadata": {
        "id": "9NzsF3ydTFAt"
      }
    },
    {
      "cell_type": "code",
      "source": [
        "for i in range(1,6):\n",
        "    for j in range (6-i):\n",
        "        print(i,end=' ')\n",
        "    print()"
      ],
      "metadata": {
        "id": "Hjky5pmvTm6_",
        "colab": {
          "base_uri": "https://localhost:8080/"
        },
        "outputId": "35943e5e-a656-4115-e981-b814455aed50"
      },
      "execution_count": 17,
      "outputs": [
        {
          "output_type": "stream",
          "name": "stdout",
          "text": [
            "1 1 1 1 1 \n",
            "2 2 2 2 \n",
            "3 3 3 \n",
            "4 4 \n",
            "5 \n"
          ]
        }
      ]
    },
    {
      "cell_type": "markdown",
      "source": [
        "3.write a pyt code to convert celsius to fahrenheit?"
      ],
      "metadata": {
        "id": "_0RIBi_padS6"
      }
    },
    {
      "cell_type": "code",
      "source": [
        "def celsius_to_fahrenheit(celsius):\n",
        "\n",
        "  fahrenheit = (celsius * 9/5) + 32\n",
        "  print(f\"fahrenheit temperaure {fahrenheit}\")\n",
        "\n",
        "celsius = float(input(\"Enter temperature in Celsius: \"))\n",
        "\n",
        "celsius_to_fahrenheit(celsius)"
      ],
      "metadata": {
        "id": "T4elK27ohmK3",
        "colab": {
          "base_uri": "https://localhost:8080/"
        },
        "outputId": "2876f2a1-b1d0-4b82-8003-1d483c3eb0e0"
      },
      "execution_count": 16,
      "outputs": [
        {
          "output_type": "stream",
          "name": "stdout",
          "text": [
            "Enter temperature in Celsius: 38\n",
            "fahrenheit temperaure 100.4\n"
          ]
        }
      ]
    },
    {
      "cell_type": "markdown",
      "source": [
        "4.write a code to calculate the simple interest ?"
      ],
      "metadata": {
        "id": "p6pAZlSchwg6"
      }
    },
    {
      "cell_type": "code",
      "source": [
        "def simple_interest(p,t,r):\n",
        "    print('The principal is', p)\n",
        "    print('The time period is', t)\n",
        "    print('The rate of interest is',r)\n",
        "\n",
        "    i = (p * t * r)/100\n",
        "\n",
        "    print('The Simple Interest is', i)\n",
        "\n",
        "simple_interest(8, 6, 8)"
      ],
      "metadata": {
        "id": "iIJVs2z6iIkp",
        "colab": {
          "base_uri": "https://localhost:8080/"
        },
        "outputId": "6835e5df-a20a-4306-cc4f-e53f7766ec52"
      },
      "execution_count": 15,
      "outputs": [
        {
          "output_type": "stream",
          "name": "stdout",
          "text": [
            "The principal is 8\n",
            "The time period is 6\n",
            "The rate of interest is 8\n",
            "The Simple Interest is 3.84\n"
          ]
        }
      ]
    },
    {
      "cell_type": "markdown",
      "source": [
        "5.write a pyt code to convert integer to digit?"
      ],
      "metadata": {
        "id": "0yx9MYadm-vP"
      }
    },
    {
      "cell_type": "code",
      "source": [
        "def digit(n):\n",
        "\n",
        "    return list(map(int, str(n)))\n",
        "\n",
        "digit(123)"
      ],
      "metadata": {
        "id": "zvN44TywnI5B",
        "colab": {
          "base_uri": "https://localhost:8080/"
        },
        "outputId": "7c0045c3-fb91-468e-9c0f-43d32c0a21cd"
      },
      "execution_count": 14,
      "outputs": [
        {
          "output_type": "execute_result",
          "data": {
            "text/plain": [
              "[1, 2, 3]"
            ]
          },
          "metadata": {},
          "execution_count": 14
        }
      ]
    },
    {
      "cell_type": "markdown",
      "source": [
        "6.write a python code to given character is digit or not?"
      ],
      "metadata": {
        "id": "_GFCw9suqVJN"
      }
    },
    {
      "cell_type": "code",
      "source": [
        "char=input(\"Enter a string\")\n",
        "for i in char:\n",
        "    if i.isdigit():\n",
        "        print(f\"{i} is a digit\")\n",
        "    elif i.isalpha():\n",
        "        print(f\"{i} is a alphabet\")\n",
        "    else:\n",
        "        print(f\"{i} is a special character\")"
      ],
      "metadata": {
        "id": "0m2K0AsMqvOc",
        "colab": {
          "base_uri": "https://localhost:8080/"
        },
        "outputId": "37dd24b9-71e8-4b2a-e1fc-fdc33a3e866d"
      },
      "execution_count": 13,
      "outputs": [
        {
          "output_type": "stream",
          "name": "stdout",
          "text": [
            "Enter a stringwelcome @ to world #python#\n",
            "w is a alphabet\n",
            "e is a alphabet\n",
            "l is a alphabet\n",
            "c is a alphabet\n",
            "o is a alphabet\n",
            "m is a alphabet\n",
            "e is a alphabet\n",
            "  is a special character\n",
            "@ is a special character\n",
            "  is a special character\n",
            "t is a alphabet\n",
            "o is a alphabet\n",
            "  is a special character\n",
            "w is a alphabet\n",
            "o is a alphabet\n",
            "r is a alphabet\n",
            "l is a alphabet\n",
            "d is a alphabet\n",
            "  is a special character\n",
            "# is a special character\n",
            "p is a alphabet\n",
            "y is a alphabet\n",
            "t is a alphabet\n",
            "h is a alphabet\n",
            "o is a alphabet\n",
            "n is a alphabet\n",
            "# is a special character\n"
          ]
        }
      ]
    },
    {
      "cell_type": "markdown",
      "source": [
        "7.write a code number is armstrong or not?"
      ],
      "metadata": {
        "id": "8aLAYYWr_FDa"
      }
    },
    {
      "cell_type": "code",
      "source": [
        "num=int(input(\"Enter a number:\"))\n",
        "\n",
        "digits = [int(digit) for digit in str(num)]\n",
        "count=0\n",
        "#print(digits)\n",
        "for i in digits:\n",
        "    i=i**3\n",
        "    #print(i)\n",
        "    count=count+i\n",
        "    #print(count)\n",
        "if count==num:\n",
        "    print(count,\"Armstrong number\")\n",
        "else:\n",
        "    print(count,\"Not Armstrong number\")"
      ],
      "metadata": {
        "id": "YQNvs0DG_jb9",
        "colab": {
          "base_uri": "https://localhost:8080/"
        },
        "outputId": "d7e587bc-b924-4b5d-de11-3de6c831c2e2"
      },
      "execution_count": 12,
      "outputs": [
        {
          "output_type": "stream",
          "name": "stdout",
          "text": [
            "Enter a number:153\n",
            "153 Armstrong number\n"
          ]
        }
      ]
    },
    {
      "cell_type": "markdown",
      "source": [
        "8.write a code to check weather string are anagram or not?"
      ],
      "metadata": {
        "id": "8I9Z0kWHwp6e"
      }
    },
    {
      "cell_type": "code",
      "source": [
        "def check(s1, s2):\n",
        "\n",
        "    # the sorted strings are checked\n",
        "    if(sorted(s1)== sorted(s2)):\n",
        "        print(\"The strings are anagrams.\")\n",
        "    else:\n",
        "        print(\"The strings aren't anagrams.\")\n",
        "\n",
        "# driver code\n",
        "s1 =\"listen\"\n",
        "s2 =\"silent\"\n",
        "check(s1, s2)"
      ],
      "metadata": {
        "id": "ggP-KR5dw4h9",
        "colab": {
          "base_uri": "https://localhost:8080/"
        },
        "outputId": "848c7ac1-c354-4ae9-9c6d-1bf714d1524a"
      },
      "execution_count": 11,
      "outputs": [
        {
          "output_type": "stream",
          "name": "stdout",
          "text": [
            "The strings are anagrams.\n"
          ]
        }
      ]
    },
    {
      "cell_type": "markdown",
      "source": [
        "9.write a python code to check non-repeating of first occurence char in string"
      ],
      "metadata": {
        "id": "IouAm5D0uSek"
      }
    },
    {
      "cell_type": "code",
      "source": [
        "strs=input(\"Enter a string:\")\n",
        "lst=[]\n",
        "for i in strs:\n",
        "    #print(i)\n",
        "    lst.append(i)\n",
        "print(lst)\n",
        "lst=list(set(lst))\n",
        "print(lst)"
      ],
      "metadata": {
        "id": "qVEjijzFufY4",
        "colab": {
          "base_uri": "https://localhost:8080/"
        },
        "outputId": "00849464-996a-4e6e-cc18-1eef211fd0f4"
      },
      "execution_count": 10,
      "outputs": [
        {
          "output_type": "stream",
          "name": "stdout",
          "text": [
            "Enter a string:welcome\n",
            "['w', 'e', 'l', 'c', 'o', 'm', 'e']\n",
            "['m', 'e', 'l', 'o', 'c', 'w']\n"
          ]
        }
      ]
    },
    {
      "cell_type": "markdown",
      "source": [
        "10.write a python program to greatest common divisior"
      ],
      "metadata": {
        "id": "zrGvjvwIxG2G"
      }
    },
    {
      "cell_type": "code",
      "source": [
        "def gcd(a, b):\n",
        "\n",
        "    while b != 0:\n",
        "        a, b = b, a % b\n",
        "    return (a)\n",
        "\n",
        "num1 = int(input(\"Enter first number: \"))\n",
        "num2 = int(input(\"Enter second number: \"))\n",
        "\n",
        "print(f\"GCD of {num1} and {num2} is: {gcd(num1, num2)}\")"
      ],
      "metadata": {
        "id": "iZIEijyjxY43",
        "colab": {
          "base_uri": "https://localhost:8080/"
        },
        "outputId": "ac011a44-bbf3-444c-8d14-b8906cc87dc9"
      },
      "execution_count": 8,
      "outputs": [
        {
          "output_type": "stream",
          "name": "stdout",
          "text": [
            "Enter first number: 8\n",
            "Enter second number: 10\n",
            "GCD of 8 and 10 is: 2\n"
          ]
        }
      ]
    },
    {
      "cell_type": "markdown",
      "source": [
        "11.write a code remove duplicates from a list?"
      ],
      "metadata": {
        "id": "pxP9U50KxXBX"
      }
    },
    {
      "cell_type": "code",
      "source": [
        "def remove_duplicates(lst):\n",
        "\n",
        "    return list(set(lst))\n",
        "\n",
        "# Example usage:\n",
        "my_list = [1, 2, 2, 3, 4, 4, 5, 6, 6]\n",
        "print(my_list)\n",
        "\n",
        "print(\"without duplicates\",remove_duplicates(my_list))"
      ],
      "metadata": {
        "id": "JL8oUa00yLua",
        "colab": {
          "base_uri": "https://localhost:8080/"
        },
        "outputId": "c394d6e1-5cf4-4356-9051-b5dc925ebfbe"
      },
      "execution_count": 7,
      "outputs": [
        {
          "output_type": "stream",
          "name": "stdout",
          "text": [
            "[1, 2, 2, 3, 4, 4, 5, 6, 6]\n",
            "without duplicates [1, 2, 3, 4, 5, 6]\n"
          ]
        }
      ]
    },
    {
      "cell_type": "markdown",
      "source": [
        "12.write a python code to replace the string space by given character"
      ],
      "metadata": {
        "id": "TXchng4p4v5K"
      }
    },
    {
      "cell_type": "code",
      "source": [
        "a=input(\"Enter a string\")\n",
        "b=input(\"Enter a charater to replace spaces:\")\n",
        "c=a.replace(\" \",b)\n",
        "print(f\"string after replacement: {c} \")"
      ],
      "metadata": {
        "id": "a9Ytk0kx429y",
        "colab": {
          "base_uri": "https://localhost:8080/"
        },
        "outputId": "387d5563-a805-4778-de39-48aea3e2276a"
      },
      "execution_count": 3,
      "outputs": [
        {
          "output_type": "stream",
          "name": "stdout",
          "text": [
            "Enter a stringwelcome to python class\n",
            "Enter a charater to replace spaces:=\n",
            "string after replacement: welcome=to=python=class \n"
          ]
        }
      ]
    },
    {
      "cell_type": "markdown",
      "source": [
        "13.write a python code to swap two number by not using any third variable"
      ],
      "metadata": {
        "id": "1UWE14AOyMKI"
      }
    },
    {
      "cell_type": "code",
      "source": [
        "a=int(input(\"Enter a number:\"))\n",
        "b=int(input(\"Enter a number:\"))\n",
        "print(\"Before swapping of a:\",a)\n",
        "print(\"Before swapping of b:\",b)\n",
        "a=a+b # a becomes 8\n",
        "b=a-b  # b becomes 8-5 b=3\n",
        "a=a-b  # a becomes 8-3 == 5\n",
        "\n",
        "print(\"After swapping of a:\",a)\n",
        "print(\"After swapping of b:\",b)"
      ],
      "metadata": {
        "id": "3-l3MflCzVVF",
        "colab": {
          "base_uri": "https://localhost:8080/"
        },
        "outputId": "2a899819-b4b9-4423-fb1d-4ae735913ee5"
      },
      "execution_count": 2,
      "outputs": [
        {
          "output_type": "stream",
          "name": "stdout",
          "text": [
            "Enter a number:5\n",
            "Enter a number:8\n",
            "Before swapping of a: 5\n",
            "Before swapping of b: 8\n",
            "After swapping of a: 8\n",
            "After swapping of b: 5\n"
          ]
        }
      ]
    },
    {
      "cell_type": "markdown",
      "source": [
        "14.write a python code to add two integer without any arithmetric operators?"
      ],
      "metadata": {
        "id": "_HILKXo8zUGU"
      }
    },
    {
      "cell_type": "code",
      "source": [
        "a=int(input(\"Enter a number:\"))\n",
        "b=int(input(\"Enter a number:\"))\n",
        "\n",
        "if a<=0 or b<=0:\n",
        "    print(\"Does not exist\")\n",
        "num = a | b\n",
        "print(num)"
      ],
      "metadata": {
        "id": "m47fZWQJglt0",
        "colab": {
          "base_uri": "https://localhost:8080/"
        },
        "outputId": "73cba21f-882c-4b08-b2d6-d58e3999a33b"
      },
      "execution_count": 1,
      "outputs": [
        {
          "output_type": "stream",
          "name": "stdout",
          "text": [
            "Enter a number:5\n",
            "Enter a number:10\n",
            "15\n"
          ]
        }
      ]
    }
  ]
}