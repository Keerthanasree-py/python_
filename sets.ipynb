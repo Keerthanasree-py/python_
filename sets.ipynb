{
  "nbformat": 4,
  "nbformat_minor": 0,
  "metadata": {
    "colab": {
      "provenance": []
    },
    "kernelspec": {
      "name": "python3",
      "display_name": "Python 3"
    },
    "language_info": {
      "name": "python"
    }
  },
  "cells": [
    {
      "cell_type": "markdown",
      "source": [
        "**Define sets**\n",
        "\n",
        "* unordered collections of unique elements.\n",
        "\n",
        "* Defined using curly braces {} and seperated by comas ,.\n",
        "\n",
        "* can store multiple items in a single variable\n",
        "\n",
        "* mutable,doesnot allow elements\n",
        "\n",
        "* provies variety of methods and set operations\n",
        "\n"
      ],
      "metadata": {
        "id": "Dk7wFt04YRzQ"
      }
    },
    {
      "cell_type": "code",
      "source": [
        "my_set = {1, 2, 3, 4}\n",
        "print(my_set)"
      ],
      "metadata": {
        "id": "cbwDUHanZSvG",
        "colab": {
          "base_uri": "https://localhost:8080/"
        },
        "outputId": "954cb7a7-c35d-487c-a19b-3494b93448cc"
      },
      "execution_count": 1,
      "outputs": [
        {
          "output_type": "stream",
          "name": "stdout",
          "text": [
            "{1, 2, 3, 4}\n"
          ]
        }
      ]
    },
    {
      "cell_type": "code",
      "source": [
        "my_set = {1, 2, 3, 4}\n",
        "print(my_set)"
      ],
      "metadata": {
        "id": "N_iSJZA7ZiYp",
        "colab": {
          "base_uri": "https://localhost:8080/"
        },
        "outputId": "1f880ec0-9c29-4e5a-c8fb-6751e655a365"
      },
      "execution_count": 2,
      "outputs": [
        {
          "output_type": "stream",
          "name": "stdout",
          "text": [
            "{1, 2, 3, 4}\n"
          ]
        }
      ]
    },
    {
      "cell_type": "code",
      "source": [
        "list_example = [1, 2, 2, 3, 4]\n",
        "my_set = set(list_example)\n",
        "print(my_set)"
      ],
      "metadata": {
        "id": "3SgkKbkTZibS",
        "colab": {
          "base_uri": "https://localhost:8080/"
        },
        "outputId": "fcba6243-50ea-4cf6-80ab-ee488358d01e"
      },
      "execution_count": 3,
      "outputs": [
        {
          "output_type": "stream",
          "name": "stdout",
          "text": [
            "{1, 2, 3, 4}\n"
          ]
        }
      ]
    },
    {
      "cell_type": "code",
      "source": [
        "empty_set = set()\n",
        "print(empty_set)"
      ],
      "metadata": {
        "id": "SDhZj9zJZiev",
        "colab": {
          "base_uri": "https://localhost:8080/"
        },
        "outputId": "28914f32-faf2-40dd-cc3b-db8bc5276124"
      },
      "execution_count": 4,
      "outputs": [
        {
          "output_type": "stream",
          "name": "stdout",
          "text": [
            "set()\n"
          ]
        }
      ]
    },
    {
      "cell_type": "markdown",
      "source": [
        "**accessing the code:**\n",
        "\n",
        "1.add()\n",
        "\n",
        "2.update()\n",
        "\n",
        "3.remove()"
      ],
      "metadata": {
        "id": "iwGixwQokj5K"
      }
    },
    {
      "cell_type": "markdown",
      "source": [
        "**Adding the element in set**\n",
        "\n",
        "*  add items to a set\n",
        "*  we use add()"
      ],
      "metadata": {
        "id": "5ZCQWyfxZxYc"
      }
    },
    {
      "cell_type": "code",
      "source": [
        "my_set = {1, 2, 3}\n",
        "my_set.add(4)\n",
        "print(\"After adding 4:\", my_set)"
      ],
      "metadata": {
        "id": "_sKldsN2ZimF",
        "colab": {
          "base_uri": "https://localhost:8080/"
        },
        "outputId": "18a386be-d004-4cf8-c5d8-8eae9f5899b9"
      },
      "execution_count": 5,
      "outputs": [
        {
          "output_type": "stream",
          "name": "stdout",
          "text": [
            "After adding 4: {1, 2, 3, 4}\n"
          ]
        }
      ]
    },
    {
      "cell_type": "code",
      "source": [
        "my_set.update([4, 5, 6])\n",
        "print(\"After adding 4, 5, 6:\", my_set)"
      ],
      "metadata": {
        "id": "kFTvAf5oaPQ2",
        "colab": {
          "base_uri": "https://localhost:8080/"
        },
        "outputId": "af4a7112-5687-4234-e03e-70a2aa66e4a0"
      },
      "execution_count": 6,
      "outputs": [
        {
          "output_type": "stream",
          "name": "stdout",
          "text": [
            "After adding 4, 5, 6: {1, 2, 3, 4, 5, 6}\n"
          ]
        }
      ]
    },
    {
      "cell_type": "code",
      "source": [],
      "metadata": {
        "id": "eS7VAIG0aPUG"
      },
      "execution_count": null,
      "outputs": []
    },
    {
      "cell_type": "code",
      "source": [
        "my_set.add(2)\n",
        "print(\"After trying to add 2 again:\", my_set)"
      ],
      "metadata": {
        "id": "qoocgyWlaf0W",
        "colab": {
          "base_uri": "https://localhost:8080/"
        },
        "outputId": "90940b16-88c3-4c2a-fa5f-32745fe3d88b"
      },
      "execution_count": 7,
      "outputs": [
        {
          "output_type": "stream",
          "name": "stdout",
          "text": [
            "After trying to add 2 again: {1, 2, 3, 4, 5, 6}\n"
          ]
        }
      ]
    },
    {
      "cell_type": "code",
      "source": [
        "my_set.add(10)\n",
        "print(my_set)"
      ],
      "metadata": {
        "id": "sIihN-TDaf3q",
        "colab": {
          "base_uri": "https://localhost:8080/"
        },
        "outputId": "a70f5ee3-6bf6-4e54-c51f-676be6555017"
      },
      "execution_count": 8,
      "outputs": [
        {
          "output_type": "stream",
          "name": "stdout",
          "text": [
            "{1, 2, 3, 4, 5, 6, 10}\n"
          ]
        }
      ]
    },
    {
      "cell_type": "markdown",
      "source": [
        "**Updating the set:**\n",
        "\n",
        "*  used to update the set with another collection types\n",
        "\n",
        "*  we use update()"
      ],
      "metadata": {
        "id": "sIzAnxepavXC"
      }
    },
    {
      "cell_type": "code",
      "source": [
        "set_a = {1, 2, 3}\n",
        "set_b = {4, 5, 6}\n",
        "set_a.update(set_b)\n",
        "print(\"After updating with another set:\", set_a)"
      ],
      "metadata": {
        "id": "AYq0eFEpbLTh",
        "colab": {
          "base_uri": "https://localhost:8080/"
        },
        "outputId": "99aa1dd6-6736-40ee-e812-88f6aafdbbd9"
      },
      "execution_count": 9,
      "outputs": [
        {
          "output_type": "stream",
          "name": "stdout",
          "text": [
            "After updating with another set: {1, 2, 3, 4, 5, 6}\n"
          ]
        }
      ]
    },
    {
      "cell_type": "code",
      "source": [
        "my_set.update([4, 5, 6])\n",
        "print(\"After adding from list:\", my_set)\n"
      ],
      "metadata": {
        "id": "NpcEXuUwbNsG",
        "colab": {
          "base_uri": "https://localhost:8080/"
        },
        "outputId": "03e3c80d-a560-4851-8679-7a3419663410"
      },
      "execution_count": 10,
      "outputs": [
        {
          "output_type": "stream",
          "name": "stdout",
          "text": [
            "After adding from list: {1, 2, 3, 4, 5, 6, 10}\n"
          ]
        }
      ]
    },
    {
      "cell_type": "code",
      "source": [
        "my_set.update((4, 5))\n",
        "print(\"After adding from tuple:\", my_set)"
      ],
      "metadata": {
        "id": "9BdvpwFabODf",
        "colab": {
          "base_uri": "https://localhost:8080/"
        },
        "outputId": "3180f91e-d793-4aa5-854d-fdccc35367b6"
      },
      "execution_count": 11,
      "outputs": [
        {
          "output_type": "stream",
          "name": "stdout",
          "text": [
            "After adding from tuple: {1, 2, 3, 4, 5, 6, 10}\n"
          ]
        }
      ]
    },
    {
      "cell_type": "markdown",
      "source": [
        "**Removing the item from set**\n",
        "\n",
        "*  removes the sepcified element from a set\n",
        "\n",
        "*  we use discard()"
      ],
      "metadata": {
        "id": "mKs9ffLWi6lf"
      }
    },
    {
      "cell_type": "code",
      "source": [
        "my_set.remove(3)\n",
        "print(my_set)"
      ],
      "metadata": {
        "id": "3uQ7wdnPjT9R",
        "colab": {
          "base_uri": "https://localhost:8080/"
        },
        "outputId": "dc05f2c8-2563-4fdc-ab41-b95b155b3771"
      },
      "execution_count": 12,
      "outputs": [
        {
          "output_type": "stream",
          "name": "stdout",
          "text": [
            "{1, 2, 4, 5, 6, 10}\n"
          ]
        }
      ]
    },
    {
      "cell_type": "code",
      "source": [
        "my_set = {1, 2, 3, 4, 5}\n",
        "my_set.remove(3)\n",
        "print(\"After removing 3:\", my_set)"
      ],
      "metadata": {
        "id": "DtYvNdiEja4z",
        "colab": {
          "base_uri": "https://localhost:8080/"
        },
        "outputId": "e4de35c4-bfe8-41fd-b4da-eacfff289f13"
      },
      "execution_count": 13,
      "outputs": [
        {
          "output_type": "stream",
          "name": "stdout",
          "text": [
            "After removing 3: {1, 2, 4, 5}\n"
          ]
        }
      ]
    },
    {
      "cell_type": "code",
      "source": [
        "my_set = {1, 2, 3, 4, 5}\n",
        "print(\"Original set:\", my_set)\n",
        "\n",
        "my_set.discard(2)\n",
        "print(\"After discarding 2:\", my_set)"
      ],
      "metadata": {
        "id": "8-Wiio2pja7m",
        "colab": {
          "base_uri": "https://localhost:8080/"
        },
        "outputId": "36b12d6a-0032-4ab3-8488-75a47f63ac1d"
      },
      "execution_count": 14,
      "outputs": [
        {
          "output_type": "stream",
          "name": "stdout",
          "text": [
            "Original set: {1, 2, 3, 4, 5}\n",
            "After discarding 2: {1, 3, 4, 5}\n"
          ]
        }
      ]
    },
    {
      "cell_type": "code",
      "source": [
        "my_set.discard(10)\n",
        "print(\"After trying to discard 10:\", my_set)"
      ],
      "metadata": {
        "id": "xR_Mn1Ssja--",
        "colab": {
          "base_uri": "https://localhost:8080/"
        },
        "outputId": "df9bd0cf-5634-413c-aa91-8a6b27b5c89c"
      },
      "execution_count": 15,
      "outputs": [
        {
          "output_type": "stream",
          "name": "stdout",
          "text": [
            "After trying to discard 10: {1, 3, 4, 5}\n"
          ]
        }
      ]
    },
    {
      "cell_type": "code",
      "source": [
        "my_set = {1, 2, 3, 4, 5}\n",
        "print(\"Original set:\", my_set)\n",
        "\n",
        "for item in [2, 4]:\n",
        "    my_set.remove(item)\n",
        "print(\"After removing 2 and 4:\", my_set)"
      ],
      "metadata": {
        "id": "RHG1xy9-juzX",
        "colab": {
          "base_uri": "https://localhost:8080/"
        },
        "outputId": "474e9203-5e45-4530-ad8a-650624d51634"
      },
      "execution_count": 16,
      "outputs": [
        {
          "output_type": "stream",
          "name": "stdout",
          "text": [
            "Original set: {1, 2, 3, 4, 5}\n",
            "After removing 2 and 4: {1, 3, 5}\n"
          ]
        }
      ]
    },
    {
      "cell_type": "markdown",
      "source": [
        "**Python operations**\n",
        "\n",
        "* provides different built in methods to perform mathematical set operation\n",
        "like union,difference,intesection\n",
        "\n",
        "1.union\n",
        "\n",
        "2.intersection\n",
        "\n",
        "3.difference\n",
        "\n",
        "4.symmetric Difference:"
      ],
      "metadata": {
        "id": "zaqRr_9Oj3o0"
      }
    },
    {
      "cell_type": "markdown",
      "source": [
        "**1.union:**\n",
        "\n",
        "*  the union of two sets A and B include all the elements of set A and set B\n",
        "\n",
        "*  combines all the elements from set A and set B\n",
        "\n",
        "*  symbol : |\n",
        "\n",
        "*  or set A.union(set B)"
      ],
      "metadata": {
        "id": "XjD9-1EPkfQH"
      }
    },
    {
      "cell_type": "code",
      "source": [
        "set_a = {1, 2, 3}\n",
        "set_b = {3, 4, 5}\n",
        "union_set = set_a | set_b\n",
        "print(union_set)\n"
      ],
      "metadata": {
        "colab": {
          "base_uri": "https://localhost:8080/"
        },
        "id": "y7-vj-NWepDX",
        "outputId": "7fbc8d33-7028-41d5-c736-63f9f4ee048b"
      },
      "execution_count": 17,
      "outputs": [
        {
          "output_type": "stream",
          "name": "stdout",
          "text": [
            "{1, 2, 3, 4, 5}\n"
          ]
        }
      ]
    },
    {
      "cell_type": "code",
      "source": [
        "set_a = {1, 2, 3}\n",
        "set_b = {3, 4, 5}\n",
        "union_set = set_a.union(set_b)\n",
        "print(\"Union:\", union_set)"
      ],
      "metadata": {
        "colab": {
          "base_uri": "https://localhost:8080/"
        },
        "id": "mjY8BQq3euFG",
        "outputId": "65edc4e6-738e-43d7-81cc-826160d64eaf"
      },
      "execution_count": 19,
      "outputs": [
        {
          "output_type": "stream",
          "name": "stdout",
          "text": [
            "Union: {1, 2, 3, 4, 5}\n"
          ]
        }
      ]
    },
    {
      "cell_type": "markdown",
      "source": [
        "**2.Intersection:**\n",
        "\n",
        "\n",
        "*  gives common elemnts in set A and set B\n",
        "\n",
        "*  symbol : &\n",
        "\n",
        "*  or set A.intersection(set B)"
      ],
      "metadata": {
        "id": "DMrmhR7jlQCU"
      }
    },
    {
      "cell_type": "code",
      "source": [
        "set_a = {1, 2, 3}\n",
        "set_b = {2, 3, 4}\n",
        "\n",
        "result = set_a.intersection(set_b)\n",
        "print(result)"
      ],
      "metadata": {
        "colab": {
          "base_uri": "https://localhost:8080/"
        },
        "id": "TRjk2PFCewNG",
        "outputId": "214394e2-567c-42b8-f5d3-4c8914db4b9b"
      },
      "execution_count": 18,
      "outputs": [
        {
          "output_type": "stream",
          "name": "stdout",
          "text": [
            "{2, 3}\n"
          ]
        }
      ]
    },
    {
      "cell_type": "code",
      "source": [
        "set_a = {1, 2, 3}\n",
        "set_b = {2, 3, 4}\n",
        "\n",
        "result = set_a & set_b\n",
        "print(result)"
      ],
      "metadata": {
        "colab": {
          "base_uri": "https://localhost:8080/"
        },
        "id": "dI_-pCmHewjd",
        "outputId": "06393ef0-26d7-411b-d4f0-529017cbfcc0"
      },
      "execution_count": 21,
      "outputs": [
        {
          "output_type": "stream",
          "name": "stdout",
          "text": [
            "{2, 3}\n"
          ]
        }
      ]
    },
    {
      "cell_type": "code",
      "source": [
        "set_a = {1, 'apple', 2.5}\n",
        "set_b = {2.5, 'banana', 'apple'}\n",
        "result = set_a & set_b\n",
        "print(result)"
      ],
      "metadata": {
        "colab": {
          "base_uri": "https://localhost:8080/"
        },
        "id": "OFyBNbeAe5zA",
        "outputId": "00e7d5b9-6bb1-4184-f648-6b7ba48b2c08"
      },
      "execution_count": 20,
      "outputs": [
        {
          "output_type": "stream",
          "name": "stdout",
          "text": [
            "{2.5, 'apple'}\n"
          ]
        }
      ]
    },
    {
      "cell_type": "markdown",
      "source": [
        "**3.Difference:**\n",
        "\n",
        "*  returns all the elements in set A not in set B\n",
        "\n",
        "*  no common items\n",
        "\n",
        "* symbol : -\n",
        " or setA.difference(set B)"
      ],
      "metadata": {
        "id": "U20IDO0MlQdR"
      }
    },
    {
      "cell_type": "code",
      "source": [
        "set_a = {1, 2, 3}\n",
        "set_b = {2, 3, 4}\n",
        "result = set_a - set_b\n",
        "print(result)"
      ],
      "metadata": {
        "colab": {
          "base_uri": "https://localhost:8080/"
        },
        "id": "nvhXu_TZfExv",
        "outputId": "5058b8dc-0856-476f-8cd3-b0cd778c9fcf"
      },
      "execution_count": 23,
      "outputs": [
        {
          "output_type": "stream",
          "name": "stdout",
          "text": [
            "{1}\n"
          ]
        }
      ]
    },
    {
      "cell_type": "code",
      "source": [
        "set_a = {1, 2, 2, 3}\n",
        "set_b = {2, 3, 4}\n",
        "result = set_a.difference(set_b)\n",
        "print(result)\n"
      ],
      "metadata": {
        "colab": {
          "base_uri": "https://localhost:8080/"
        },
        "id": "aqcic20bfFDB",
        "outputId": "566fae0f-9b64-4b64-bb8e-689948d7c3ea"
      },
      "execution_count": 22,
      "outputs": [
        {
          "output_type": "stream",
          "name": "stdout",
          "text": [
            "{1}\n"
          ]
        }
      ]
    },
    {
      "cell_type": "code",
      "source": [
        "set_a = {1, 2, 3}\n",
        "set_b = {2, 3, 4}\n",
        "set_c = {3, 5,2}\n",
        "result = set_a.difference(set_b, set_c)\n",
        "print(result)"
      ],
      "metadata": {
        "colab": {
          "base_uri": "https://localhost:8080/"
        },
        "id": "fg4Ke0tSfNkN",
        "outputId": "a27e3af1-28aa-427e-cf95-060af8625c8f"
      },
      "execution_count": 26,
      "outputs": [
        {
          "output_type": "stream",
          "name": "stdout",
          "text": [
            "{1}\n"
          ]
        }
      ]
    },
    {
      "cell_type": "markdown",
      "source": [
        "**4.symmetric Difference:**\n",
        "\n",
        "* returns all the elements in both sets A and B\n",
        "\n",
        "* but no common elements\n",
        "\n",
        "* symbol : ^\n",
        "or A.Symmetric_difference(B)"
      ],
      "metadata": {
        "id": "2NLEcPr6lQz_"
      }
    },
    {
      "cell_type": "code",
      "source": [
        "set_a = {1, 2, 3}\n",
        "set_b = {3, 4, 5}\n",
        "result = set_a ^ set_b\n",
        "print(result)"
      ],
      "metadata": {
        "colab": {
          "base_uri": "https://localhost:8080/"
        },
        "id": "sU49NT3pfSVC",
        "outputId": "b52dde66-03b5-47bd-e425-85902e81eb6c"
      },
      "execution_count": 25,
      "outputs": [
        {
          "output_type": "stream",
          "name": "stdout",
          "text": [
            "{1, 2, 4, 5}\n"
          ]
        }
      ]
    },
    {
      "cell_type": "code",
      "source": [
        "set_a = {1, 2, 2, 3}\n",
        "set_b = {3, 4, 5}\n",
        "result = set_a.symmetric_difference(set_b)\n",
        "print(result)"
      ],
      "metadata": {
        "colab": {
          "base_uri": "https://localhost:8080/"
        },
        "id": "WZMLu-aCfSiz",
        "outputId": "5953eb43-e5e5-4241-c3c4-b1060ff36e24"
      },
      "execution_count": 24,
      "outputs": [
        {
          "output_type": "stream",
          "name": "stdout",
          "text": [
            "{1, 2, 4, 5}\n"
          ]
        }
      ]
    }
  ]
}