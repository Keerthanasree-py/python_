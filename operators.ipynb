{
  "nbformat": 4,
  "nbformat_minor": 0,
  "metadata": {
    "colab": {
      "provenance": []
    },
    "kernelspec": {
      "name": "python3",
      "display_name": "Python 3"
    },
    "language_info": {
      "name": "python"
    }
  },
  "cells": [
    {
      "cell_type": "markdown",
      "source": [
        "1.explain about operators?\n",
        "\n",
        "are used with numeric values to perform common operators.\n",
        "\n",
        "there r 7types:\n",
        "\n",
        "1.   arithmetric\n",
        "2.   logical\n",
        "3.   comparsion\n",
        "4.   assignment\n",
        "5.   membership\n",
        "6.   identical\n",
        "7.   bitwise\n",
        "\n",
        "1.Arithmetric operators\n",
        "\n",
        "are used with numeric values to perform common operators\n",
        "\n",
        "there are 7 types of arithmetic operators\n",
        "1. + (addition)\n",
        "2. - (subtraction)\n",
        "3. * (Multiplication)\n",
        "4. / (Division) ( after division it gives output as Quotient)\n",
        "5. // (float division) ( it removes decimal points)\n",
        "6. ** (Exponention)\n",
        "7. % (Modules) ( after division it gives output as remainder)\n",
        "\n",
        "\n",
        "\n",
        "\n",
        "\n",
        "\n",
        "\n",
        "\n",
        "\n",
        "  \n",
        "\n",
        "\n",
        "\n"
      ],
      "metadata": {
        "id": "QWwjTbXvHpDl"
      }
    },
    {
      "cell_type": "code",
      "execution_count": null,
      "metadata": {
        "colab": {
          "base_uri": "https://localhost:8080/"
        },
        "id": "vVoS6ez2yl07",
        "outputId": "a50a54f5-8251-41ca-a569-d0e2200a9fc0"
      },
      "outputs": [
        {
          "output_type": "stream",
          "name": "stdout",
          "text": [
            "12\n",
            "-8\n",
            "20\n",
            "0.2\n",
            "0\n",
            "1024\n",
            "2\n"
          ]
        }
      ],
      "source": [
        "a=2\n",
        "b=10\n",
        "print(a+b)\n",
        "print(a-b)\n",
        "print(a*b)\n",
        "print(a/b)\n",
        "print(a//b)\n",
        "print(a**b)\n",
        "print(a%b)\n"
      ]
    },
    {
      "cell_type": "markdown",
      "source": [
        "2.comparision operator\n",
        "\n",
        "the output come as true or false.\n",
        "\n",
        "comparing two variables or values with == , > ,<\n",
        "connot able to compare using complex numbers\n",
        "\n",
        " There are 6 types of comparision operations\n",
        "\n",
        "1. ==(real equal to )\n",
        "\n",
        "2. !=(not equal to)\n",
        "\n",
        "3. <(less than )\n",
        "\n",
        "4. >(greater than)\n",
        "\n",
        "5. >=(greater than equal to )\n",
        "\n",
        "6. <= (Less than equal to )\n"
      ],
      "metadata": {
        "id": "Llbi3aWiEonr"
      }
    },
    {
      "cell_type": "code",
      "source": [
        "x=100\n",
        "y=200\n",
        "print(x==y)\n",
        "print(x!=y)\n",
        "print(x<y)\n",
        "print(x>y)\n",
        "print(x<=y)\n",
        "print(x>=y)\n"
      ],
      "metadata": {
        "colab": {
          "base_uri": "https://localhost:8080/"
        },
        "id": "6yoJiXzmC0KX",
        "outputId": "0639fad3-7a80-4b59-ee0d-a5acb1c0d4fa"
      },
      "execution_count": null,
      "outputs": [
        {
          "output_type": "stream",
          "name": "stdout",
          "text": [
            "False\n",
            "True\n",
            "True\n",
            "False\n",
            "True\n",
            "False\n"
          ]
        }
      ]
    },
    {
      "cell_type": "markdown",
      "source": [
        "3.Assignment operator\n",
        "\n",
        "combination of both arithmetic and equal to(=).\n",
        "\n",
        "Reduces the usage of memory\n",
        "\n",
        "7 types of operators\n",
        "\n",
        "1. a+=b = a=a+b\n",
        "\n",
        "2. a-=b = a=a-b\n",
        "\n",
        "3. a*=b = a=a*b\n",
        "\n",
        "4. a/=b = a=a/b\n",
        "\n",
        "5. a//=b = a=a//b\n",
        "\n",
        "6. a**=b = a=a**b\n",
        "\n",
        "7. a%=b = a=a%b\n"
      ],
      "metadata": {
        "id": "fr4ctZnOKC_P"
      }
    },
    {
      "cell_type": "code",
      "source": [
        "w=45\n",
        "b=5"
      ],
      "metadata": {
        "id": "75LbfFFyC0S4"
      },
      "execution_count": null,
      "outputs": []
    },
    {
      "cell_type": "code",
      "source": [
        "w+=5\n",
        "print(w)"
      ],
      "metadata": {
        "colab": {
          "base_uri": "https://localhost:8080/"
        },
        "id": "JbSsNdVHC0Vl",
        "outputId": "a23eb0d1-8265-4a65-fc44-1b455f979ab4"
      },
      "execution_count": null,
      "outputs": [
        {
          "output_type": "stream",
          "name": "stdout",
          "text": [
            "50\n"
          ]
        }
      ]
    },
    {
      "cell_type": "code",
      "source": [
        "w-=5\n",
        "print(w)"
      ],
      "metadata": {
        "colab": {
          "base_uri": "https://localhost:8080/"
        },
        "id": "D6IdGcK8C0Yg",
        "outputId": "5aeb5fc8-936a-4499-e1c9-81f5db8a1578"
      },
      "execution_count": null,
      "outputs": [
        {
          "output_type": "stream",
          "name": "stdout",
          "text": [
            "45\n"
          ]
        }
      ]
    },
    {
      "cell_type": "code",
      "source": [
        "w*=5\n",
        "print(w)\n"
      ],
      "metadata": {
        "colab": {
          "base_uri": "https://localhost:8080/"
        },
        "id": "xcV4od8bC0bJ",
        "outputId": "ad3629b9-b0be-48d8-a35d-1c7713bc996f"
      },
      "execution_count": null,
      "outputs": [
        {
          "output_type": "stream",
          "name": "stdout",
          "text": [
            "225\n"
          ]
        }
      ]
    },
    {
      "cell_type": "code",
      "source": [
        "w/=5\n",
        "print(w)\n"
      ],
      "metadata": {
        "colab": {
          "base_uri": "https://localhost:8080/"
        },
        "id": "m7bTKuj9C0eE",
        "outputId": "c26f511a-9ebe-4e62-a7f3-c75a5d4a223f"
      },
      "execution_count": null,
      "outputs": [
        {
          "output_type": "stream",
          "name": "stdout",
          "text": [
            "45.0\n"
          ]
        }
      ]
    },
    {
      "cell_type": "code",
      "source": [
        "w//=5\n",
        "print(w)\n"
      ],
      "metadata": {
        "colab": {
          "base_uri": "https://localhost:8080/"
        },
        "id": "SOcs0MlLC0he",
        "outputId": "b8ca0fd4-0223-4fb3-fb6b-7643654b7b3d"
      },
      "execution_count": null,
      "outputs": [
        {
          "output_type": "stream",
          "name": "stdout",
          "text": [
            "36905625.0\n"
          ]
        }
      ]
    },
    {
      "cell_type": "code",
      "source": [
        "w**=5\n",
        "print(w)\n"
      ],
      "metadata": {
        "colab": {
          "base_uri": "https://localhost:8080/"
        },
        "id": "UF9Gx1sDPqbC",
        "outputId": "9ad050a0-94c4-4dcc-c22d-40d4ae3b2ca6"
      },
      "execution_count": null,
      "outputs": [
        {
          "output_type": "stream",
          "name": "stdout",
          "text": [
            "184528125.0\n"
          ]
        }
      ]
    },
    {
      "cell_type": "code",
      "source": [
        "w%=5\n",
        "print(w)\n"
      ],
      "metadata": {
        "colab": {
          "base_uri": "https://localhost:8080/"
        },
        "id": "uI0XtLYjPqgx",
        "outputId": "177ba985-bc02-48f1-a03b-80182b4b695a"
      },
      "execution_count": null,
      "outputs": [
        {
          "output_type": "stream",
          "name": "stdout",
          "text": [
            "0.0\n"
          ]
        }
      ]
    },
    {
      "cell_type": "markdown",
      "source": [
        "4. logical operator\n",
        "\n",
        " are used to evaluate conditions\n",
        "\n",
        " and return boolean operations (True or False)\n",
        "\n",
        " there are 3 types of operaations (AND , OR, NOT)\n",
        "\n",
        "AND : If both the statements are TRUE then it gives the output TRUE\n",
        "\n",
        "    A1         A2     RESULT\n",
        "   \n",
        "    1          1        1\n",
        "\n",
        "    1          0        0\n",
        "\n",
        "    0          1        0\n",
        "\n",
        "    0          0        0\n",
        "\n",
        "OR : Either of the condition needs to be TRUE the the output will be TRUE\n",
        "\n",
        "    B1     B2      OUTPUT\n",
        "\n",
        "    1      1         1\n",
        "\n",
        "    1      0         1\n",
        "\n",
        "    0      1         1\n",
        "\n",
        "    1      1         1\n",
        "\n",
        "NOT : It is used to reversing the output If the condition is True, by using the not function u will get output False. If the condition is False, by using the not function u will get output True.\n",
        "\n",
        "    B1       B2     OUTPUT    USING NOT\n",
        "\n",
        "    1        1         1         0  \n",
        "\n",
        "    1        0         0         1\n",
        "\n",
        "    0        1         0         1\n",
        "\n",
        "    1        1         0         1\n"
      ],
      "metadata": {
        "id": "dvJuNsJfQYOb"
      }
    },
    {
      "cell_type": "code",
      "source": [
        "print(1==3 and 32==4)"
      ],
      "metadata": {
        "id": "Vn6fRv0-R6yi",
        "colab": {
          "base_uri": "https://localhost:8080/"
        },
        "outputId": "24a79c02-cfdd-4177-dd2a-a10a4d9e9132"
      },
      "execution_count": null,
      "outputs": [
        {
          "output_type": "stream",
          "name": "stdout",
          "text": [
            "False\n"
          ]
        }
      ]
    },
    {
      "cell_type": "code",
      "source": [
        "print(3<5 and 4==1)"
      ],
      "metadata": {
        "id": "2Adt9X16R61M",
        "colab": {
          "base_uri": "https://localhost:8080/"
        },
        "outputId": "567fc3b8-9b82-444f-f425-c46d4e1083c2"
      },
      "execution_count": null,
      "outputs": [
        {
          "output_type": "stream",
          "name": "stdout",
          "text": [
            "False\n"
          ]
        }
      ]
    },
    {
      "cell_type": "code",
      "source": [
        "print(32<145 and 4>5)"
      ],
      "metadata": {
        "id": "vvJ8HsQkR64F",
        "colab": {
          "base_uri": "https://localhost:8080/"
        },
        "outputId": "d6214e96-9ea6-4150-fc46-89242bac994f"
      },
      "execution_count": null,
      "outputs": [
        {
          "output_type": "stream",
          "name": "stdout",
          "text": [
            "False\n"
          ]
        }
      ]
    },
    {
      "cell_type": "code",
      "source": [
        "print(43<45 or 34==34)"
      ],
      "metadata": {
        "id": "3unuS4YoR66a",
        "colab": {
          "base_uri": "https://localhost:8080/"
        },
        "outputId": "8d24dec7-a778-4355-f0d7-6d5c8f86485d"
      },
      "execution_count": null,
      "outputs": [
        {
          "output_type": "stream",
          "name": "stdout",
          "text": [
            "True\n"
          ]
        }
      ]
    },
    {
      "cell_type": "code",
      "source": [
        "print(43<45 or 3>2)"
      ],
      "metadata": {
        "id": "aTLXbV69R69E",
        "colab": {
          "base_uri": "https://localhost:8080/"
        },
        "outputId": "45694bc0-4b4a-4b54-afc8-774424799a11"
      },
      "execution_count": null,
      "outputs": [
        {
          "output_type": "stream",
          "name": "stdout",
          "text": [
            "True\n"
          ]
        }
      ]
    },
    {
      "cell_type": "code",
      "source": [
        "print(1==3 or 32==4)"
      ],
      "metadata": {
        "colab": {
          "base_uri": "https://localhost:8080/"
        },
        "id": "o_gQ-kjaR7Ab",
        "outputId": "3a21053f-3f5b-4719-aa42-36b60cc9e197"
      },
      "execution_count": null,
      "outputs": [
        {
          "output_type": "stream",
          "name": "stdout",
          "text": [
            "False\n"
          ]
        }
      ]
    },
    {
      "cell_type": "code",
      "source": [
        "s=1>2 or 3<5\n",
        "print(not(s))"
      ],
      "metadata": {
        "id": "5LjaWXfhUqDp",
        "colab": {
          "base_uri": "https://localhost:8080/"
        },
        "outputId": "0757c2bf-75cc-44ad-a31c-7b86b22e580b"
      },
      "execution_count": null,
      "outputs": [
        {
          "output_type": "stream",
          "name": "stdout",
          "text": [
            "False\n"
          ]
        }
      ]
    },
    {
      "cell_type": "code",
      "source": [
        "x=(32<43 and 20>12)\n",
        "print(not(x))"
      ],
      "metadata": {
        "colab": {
          "base_uri": "https://localhost:8080/"
        },
        "id": "qO_GLt0z-yVo",
        "outputId": "e37ef023-4f1a-4160-be82-4639589a89a9"
      },
      "execution_count": null,
      "outputs": [
        {
          "output_type": "stream",
          "name": "stdout",
          "text": [
            "False\n"
          ]
        }
      ]
    },
    {
      "cell_type": "code",
      "source": [
        "x=(32>43 or 20<12)\n",
        "print(not(x))"
      ],
      "metadata": {
        "colab": {
          "base_uri": "https://localhost:8080/"
        },
        "id": "0WMYwwf7-yaS",
        "outputId": "11ff965e-4cdb-41af-a70b-060bd42ff2f3"
      },
      "execution_count": null,
      "outputs": [
        {
          "output_type": "stream",
          "name": "stdout",
          "text": [
            "True\n"
          ]
        }
      ]
    },
    {
      "cell_type": "markdown",
      "source": [
        "5.identity operator\n",
        "\n",
        "used to identify whether the value is present or not\n",
        "\n",
        "there 2 identity operators\n",
        "\n",
        "is\n",
        "\n",
        "in not\n",
        "\n",
        "is : when the value is present then the output is TRUE : when the value is not present then the output is FALSE\n",
        "\n",
        "is not : when the value is present then the output is FALSE : when the value is present then the output is TRUE"
      ],
      "metadata": {
        "id": "9N0bV4GXaMWO"
      }
    },
    {
      "cell_type": "code",
      "source": [
        "x=4\n",
        "y=8\n",
        "print(x is y)"
      ],
      "metadata": {
        "id": "A1wnhLxfUqGV",
        "colab": {
          "base_uri": "https://localhost:8080/"
        },
        "outputId": "f1019486-47a3-46a9-b9df-643217e3ad10"
      },
      "execution_count": null,
      "outputs": [
        {
          "output_type": "stream",
          "name": "stdout",
          "text": [
            "False\n"
          ]
        }
      ]
    },
    {
      "cell_type": "code",
      "source": [
        "z=\"python\"\n",
        "y=\"python\"\n",
        "print(z is y)\n"
      ],
      "metadata": {
        "colab": {
          "base_uri": "https://localhost:8080/"
        },
        "id": "sGBWSd6Z_HHF",
        "outputId": "3f74854f-8e1d-477a-dc3f-9d8d9cbe0db8"
      },
      "execution_count": null,
      "outputs": [
        {
          "output_type": "stream",
          "name": "stdout",
          "text": [
            "True\n"
          ]
        }
      ]
    },
    {
      "cell_type": "code",
      "source": [
        "a=2\n",
        "b=8\n",
        "(a is b)"
      ],
      "metadata": {
        "colab": {
          "base_uri": "https://localhost:8080/"
        },
        "id": "JmbBDA1WzXG4",
        "outputId": "9b454a5f-b1a9-4673-8e50-1637c4d51012"
      },
      "execution_count": null,
      "outputs": [
        {
          "output_type": "execute_result",
          "data": {
            "text/plain": [
              "False"
            ]
          },
          "metadata": {},
          "execution_count": 5
        }
      ]
    },
    {
      "cell_type": "code",
      "source": [
        "a=\"python\"\n",
        "b=\"thon\"\n",
        "(a is not b)"
      ],
      "metadata": {
        "colab": {
          "base_uri": "https://localhost:8080/"
        },
        "id": "ccLXXMmEzXi5",
        "outputId": "0b5ef9ab-31f0-48b0-b293-c27581086322"
      },
      "execution_count": null,
      "outputs": [
        {
          "output_type": "execute_result",
          "data": {
            "text/plain": [
              "True"
            ]
          },
          "metadata": {},
          "execution_count": 12
        }
      ]
    },
    {
      "cell_type": "code",
      "source": [
        "z=\"python\"\n",
        "y=\"python\"\n",
        "print(z is y)\n"
      ],
      "metadata": {
        "colab": {
          "base_uri": "https://localhost:8080/"
        },
        "id": "psykwY2y_QFv",
        "outputId": "ace4bd2b-dca4-4b6b-c675-8b95e997d94a"
      },
      "execution_count": null,
      "outputs": [
        {
          "output_type": "stream",
          "name": "stdout",
          "text": [
            "True\n"
          ]
        }
      ]
    },
    {
      "cell_type": "code",
      "source": [
        "z=\"python\"\n",
        "y=\"python\"\n",
        "print(z is not  y)"
      ],
      "metadata": {
        "colab": {
          "base_uri": "https://localhost:8080/"
        },
        "id": "2DcCBgQs_QZz",
        "outputId": "761a9201-f7f7-437b-f88e-a70177b6199f"
      },
      "execution_count": null,
      "outputs": [
        {
          "output_type": "stream",
          "name": "stdout",
          "text": [
            "False\n"
          ]
        }
      ]
    },
    {
      "cell_type": "markdown",
      "source": [
        "6.membership operator\n",
        "\n",
        "used to identify the value is found in the sequence of data or not\n",
        "\n",
        "there are two membership operators\n",
        "\n",
        "in\n",
        "\n",
        "not in\n",
        "\n",
        "in : TRUE - when the value is FOUND : FALSE - when the value is NOT FOUND\n",
        "\n",
        "not in : TRUE - when the value is NOT FOUND : FALSE - when the value is FOUND"
      ],
      "metadata": {
        "id": "yvNZ5SJ0cWSQ"
      }
    },
    {
      "cell_type": "code",
      "source": [
        "name=\"python\"\n",
        "print(\"p\" in name)"
      ],
      "metadata": {
        "id": "_BW2zxPP80tK",
        "colab": {
          "base_uri": "https://localhost:8080/"
        },
        "outputId": "d216e432-a530-4a80-97b9-ad275e00d86d"
      },
      "execution_count": null,
      "outputs": [
        {
          "output_type": "stream",
          "name": "stdout",
          "text": [
            "True\n"
          ]
        }
      ]
    },
    {
      "cell_type": "code",
      "source": [
        "fruits=\"apple\"\n",
        "print(\"o\"  not in fruits)"
      ],
      "metadata": {
        "colab": {
          "base_uri": "https://localhost:8080/"
        },
        "id": "hFRZm8OXdgWu",
        "outputId": "60d62ea7-7692-432e-9601-10d2aa4d15d3"
      },
      "execution_count": null,
      "outputs": [
        {
          "output_type": "stream",
          "name": "stdout",
          "text": [
            "True\n"
          ]
        }
      ]
    },
    {
      "cell_type": "code",
      "source": [
        "a=\"hello python\"\n",
        "print(\"o\" in a)"
      ],
      "metadata": {
        "id": "2LmCrOeKdgZr",
        "colab": {
          "base_uri": "https://localhost:8080/"
        },
        "outputId": "68c48f5f-b326-4d31-89c7-29fe30dde91b"
      },
      "execution_count": null,
      "outputs": [
        {
          "output_type": "stream",
          "name": "stdout",
          "text": [
            "True\n"
          ]
        }
      ]
    },
    {
      "cell_type": "code",
      "source": [
        "print(\"c\" not in a)"
      ],
      "metadata": {
        "id": "a7aE2yxFdgdE",
        "colab": {
          "base_uri": "https://localhost:8080/"
        },
        "outputId": "24048459-54b5-4113-f6ac-06d59871170d"
      },
      "execution_count": null,
      "outputs": [
        {
          "output_type": "stream",
          "name": "stdout",
          "text": [
            "True\n"
          ]
        }
      ]
    },
    {
      "cell_type": "code",
      "source": [
        "print(\"e\" not in a)"
      ],
      "metadata": {
        "id": "goWIf2Dfdggc",
        "colab": {
          "base_uri": "https://localhost:8080/"
        },
        "outputId": "4e779624-5f7c-407e-85b1-220e9a906a2d"
      },
      "execution_count": null,
      "outputs": [
        {
          "output_type": "stream",
          "name": "stdout",
          "text": [
            "False\n"
          ]
        }
      ]
    },
    {
      "cell_type": "markdown",
      "source": [
        "**7. bitwise operator**\n",
        "\n",
        "\n",
        "*   Bitwise operators are used to perform bitwise calculations on values\n",
        "*   There are 6 types of bitwise operators\n",
        "*   AND , OR , XOR , NOT , LEFT SHIFT , RIGHT SHIFT\n",
        "\n",
        "AND operator :\n",
        "*   represented by using ( & )called as BITWISE AND.\n",
        "*   If both the values are 1 then output is 1\n",
        "    Either one or both are 0 then output is 0\n",
        "*   if x,y are two values and bitwise and for x , y is represented as x & y\n",
        "\n"
      ],
      "metadata": {
        "id": "QmA-TZlyDCSN"
      }
    },
    {
      "cell_type": "code",
      "source": [
        "a = 10\n",
        "b = 4\n",
        "print(a&b)"
      ],
      "metadata": {
        "id": "pcORG7RaEooU",
        "colab": {
          "base_uri": "https://localhost:8080/"
        },
        "outputId": "c93186f7-dee3-44d6-e78c-6afd5d30d728"
      },
      "execution_count": null,
      "outputs": [
        {
          "output_type": "stream",
          "name": "stdout",
          "text": [
            "0\n"
          ]
        }
      ]
    },
    {
      "cell_type": "code",
      "source": [
        "a = 10\n",
        "b = 4\n",
        "print(a&b)"
      ],
      "metadata": {
        "id": "MAll4RAWEo5B",
        "colab": {
          "base_uri": "https://localhost:8080/"
        },
        "outputId": "18432eb7-0194-41b7-fa2a-99af2861ef81"
      },
      "execution_count": null,
      "outputs": [
        {
          "output_type": "stream",
          "name": "stdout",
          "text": [
            "0\n"
          ]
        }
      ]
    },
    {
      "cell_type": "code",
      "source": [
        "y=2026\n",
        "z=0\n",
        "print(y&z)"
      ],
      "metadata": {
        "id": "x9J3cUqLEo8A",
        "colab": {
          "base_uri": "https://localhost:8080/"
        },
        "outputId": "c0de0d84-7085-4873-ecd3-f1fc35932b85"
      },
      "execution_count": null,
      "outputs": [
        {
          "output_type": "stream",
          "name": "stdout",
          "text": [
            "0\n"
          ]
        }
      ]
    },
    {
      "cell_type": "code",
      "source": [
        "u=2029\n",
        "v=2040\n",
        "print(u & v)"
      ],
      "metadata": {
        "id": "MItSBoX4Eo_b",
        "colab": {
          "base_uri": "https://localhost:8080/"
        },
        "outputId": "3dd4a6fa-aa2c-4853-b7f9-af88052bb3e0"
      },
      "execution_count": null,
      "outputs": [
        {
          "output_type": "stream",
          "name": "stdout",
          "text": [
            "2024\n"
          ]
        }
      ]
    },
    {
      "cell_type": "markdown",
      "source": [
        "OR operator:\n",
        "*   represented by using ( | )called as BITWISE OR.\n",
        "*   If both the values are 0 then output is 0\n",
        "*   Either one or both are 1 then output is 1\n",
        "*   if x,y are two values and bitwise or for x , y is represented as x | y"
      ],
      "metadata": {
        "id": "7F-AYl95SfzJ"
      }
    },
    {
      "cell_type": "code",
      "source": [
        "a = 10\n",
        "b = 4\n",
        "print(a|b)"
      ],
      "metadata": {
        "colab": {
          "base_uri": "https://localhost:8080/"
        },
        "id": "SL1dVvKiTXkL",
        "outputId": "024e7ad2-775a-49c4-c4d6-acd92d577dbe"
      },
      "execution_count": null,
      "outputs": [
        {
          "output_type": "stream",
          "name": "stdout",
          "text": [
            "14\n"
          ]
        }
      ]
    },
    {
      "cell_type": "code",
      "source": [
        "x=18\n",
        "y=22\n",
        "print(x|y)"
      ],
      "metadata": {
        "colab": {
          "base_uri": "https://localhost:8080/"
        },
        "id": "GQEhZ04MTXzl",
        "outputId": "75bc806d-f542-41d1-ddf1-626c4ec95e6f"
      },
      "execution_count": null,
      "outputs": [
        {
          "output_type": "stream",
          "name": "stdout",
          "text": [
            "22\n"
          ]
        }
      ]
    },
    {
      "cell_type": "code",
      "source": [
        "s=2024\n",
        "n=2023\n",
        "print(s|n)"
      ],
      "metadata": {
        "colab": {
          "base_uri": "https://localhost:8080/"
        },
        "id": "Wrna7gBzTX2q",
        "outputId": "6177eeb1-2797-42e3-d302-376d4215d96b"
      },
      "execution_count": null,
      "outputs": [
        {
          "output_type": "stream",
          "name": "stdout",
          "text": [
            "2031\n"
          ]
        }
      ]
    },
    {
      "cell_type": "code",
      "source": [
        "y=2026\n",
        "z=0\n",
        "print(y|z)"
      ],
      "metadata": {
        "colab": {
          "base_uri": "https://localhost:8080/"
        },
        "id": "b2iDuB8qTX5P",
        "outputId": "752da655-8590-480f-d149-3f9f7bdd0878"
      },
      "execution_count": null,
      "outputs": [
        {
          "output_type": "stream",
          "name": "stdout",
          "text": [
            "2026\n"
          ]
        }
      ]
    },
    {
      "cell_type": "code",
      "source": [
        "s=234\n",
        "d=123\n",
        "print(s|d)"
      ],
      "metadata": {
        "colab": {
          "base_uri": "https://localhost:8080/"
        },
        "id": "VujhaAPkTX8v",
        "outputId": "c61a2188-eab8-4cb1-995b-f04569c8cef1"
      },
      "execution_count": null,
      "outputs": [
        {
          "output_type": "stream",
          "name": "stdout",
          "text": [
            "251\n"
          ]
        }
      ]
    },
    {
      "cell_type": "markdown",
      "source": [
        "XOR operator :\n",
        "\n",
        "*   represented by using ( ^ )called as BITWISE XOR.\n",
        "*   If both the values are same then output is 0\n",
        "*   If both th values are differen then the output is 1.\n",
        "*   if x,y are two values and bitwise or for x , y is represented as x ^ y"
      ],
      "metadata": {
        "id": "Q-jbYREXTye7"
      }
    },
    {
      "cell_type": "code",
      "source": [
        "a = 10\n",
        "b = 4\n",
        "print(a^b)"
      ],
      "metadata": {
        "colab": {
          "base_uri": "https://localhost:8080/"
        },
        "id": "n6sNeI9jUuuK",
        "outputId": "5c4fc664-98cb-4e6a-88c0-5337fa6c2fb3"
      },
      "execution_count": null,
      "outputs": [
        {
          "output_type": "stream",
          "name": "stdout",
          "text": [
            "14\n"
          ]
        }
      ]
    },
    {
      "cell_type": "code",
      "source": [
        "x=18\n",
        "y=22\n",
        "print(x^y)"
      ],
      "metadata": {
        "colab": {
          "base_uri": "https://localhost:8080/"
        },
        "id": "EoYPyGvHU78b",
        "outputId": "dcfaacf9-48a7-49c1-eb11-eede9bebc757"
      },
      "execution_count": null,
      "outputs": [
        {
          "output_type": "stream",
          "name": "stdout",
          "text": [
            "4\n"
          ]
        }
      ]
    },
    {
      "cell_type": "code",
      "source": [
        "a = 10\n",
        "b = 4\n",
        "print(a^b)"
      ],
      "metadata": {
        "colab": {
          "base_uri": "https://localhost:8080/"
        },
        "id": "26Ot5CCMUu3V",
        "outputId": "60245c65-6aaa-4710-da4e-fb8d96b0bf87"
      },
      "execution_count": null,
      "outputs": [
        {
          "output_type": "stream",
          "name": "stdout",
          "text": [
            "14\n"
          ]
        }
      ]
    },
    {
      "cell_type": "code",
      "source": [
        "a = 24\n",
        "b = 4\n",
        "print(a^b)\n"
      ],
      "metadata": {
        "colab": {
          "base_uri": "https://localhost:8080/"
        },
        "id": "mH08Qj1WUu60",
        "outputId": "c26bd65c-a4aa-47b5-878a-498d86a92ea1"
      },
      "execution_count": null,
      "outputs": [
        {
          "output_type": "stream",
          "name": "stdout",
          "text": [
            "28\n"
          ]
        }
      ]
    },
    {
      "cell_type": "code",
      "source": [
        "j=129\n",
        "k=143\n",
        "print(j^k)"
      ],
      "metadata": {
        "colab": {
          "base_uri": "https://localhost:8080/"
        },
        "id": "Ad_eaTfxUu_x",
        "outputId": "9398c3ca-f970-4f5c-8613-99eb975f6e07"
      },
      "execution_count": null,
      "outputs": [
        {
          "output_type": "stream",
          "name": "stdout",
          "text": [
            "14\n"
          ]
        }
      ]
    },
    {
      "cell_type": "markdown",
      "source": [
        "NOT operator :\n",
        "*   represented by using ( ~ )called as BITWISE NOT.\n",
        "*   If the output is 1 it reverse and gives the output as 0.\n",
        "*   If the output is 0 it reverse and gives the output as 1.\n",
        "*   if x is a value and bitwise not of x , represented as ~ x"
      ],
      "metadata": {
        "id": "duGqiLXvV-Mi"
      }
    },
    {
      "cell_type": "code",
      "source": [
        "a = 10\n",
        "print(~a)"
      ],
      "metadata": {
        "colab": {
          "base_uri": "https://localhost:8080/"
        },
        "id": "Yw8jtdqTWvEv",
        "outputId": "53911cc9-27b6-47ae-eed0-476b2adaabda"
      },
      "execution_count": null,
      "outputs": [
        {
          "output_type": "stream",
          "name": "stdout",
          "text": [
            "-11\n"
          ]
        }
      ]
    },
    {
      "cell_type": "code",
      "source": [
        "s=234\n",
        "print (~s)"
      ],
      "metadata": {
        "colab": {
          "base_uri": "https://localhost:8080/"
        },
        "id": "3QcmGGdYWvIE",
        "outputId": "d84d9efe-b846-422d-c994-b590a36f9bf7"
      },
      "execution_count": null,
      "outputs": [
        {
          "output_type": "stream",
          "name": "stdout",
          "text": [
            "-235\n"
          ]
        }
      ]
    },
    {
      "cell_type": "code",
      "source": [
        "x = 5\n",
        "print(~x)"
      ],
      "metadata": {
        "colab": {
          "base_uri": "https://localhost:8080/"
        },
        "id": "jRW8hmzsWvKF",
        "outputId": "bb497030-12a1-41ab-e67a-0cdbfb9f630f"
      },
      "execution_count": null,
      "outputs": [
        {
          "output_type": "stream",
          "name": "stdout",
          "text": [
            "-6\n"
          ]
        }
      ]
    },
    {
      "cell_type": "code",
      "source": [
        "z = -100\n",
        "print(~z)"
      ],
      "metadata": {
        "colab": {
          "base_uri": "https://localhost:8080/"
        },
        "id": "6JZxmOIAWvNn",
        "outputId": "9463bed0-9b5a-4333-ca10-39621e52ef32"
      },
      "execution_count": null,
      "outputs": [
        {
          "output_type": "stream",
          "name": "stdout",
          "text": [
            "99\n"
          ]
        }
      ]
    },
    {
      "cell_type": "code",
      "source": [
        "s = -500\n",
        "print(~s)"
      ],
      "metadata": {
        "colab": {
          "base_uri": "https://localhost:8080/"
        },
        "id": "ZEHHje7vXGC7",
        "outputId": "9ca65a18-05c3-4f22-db30-d4dd3fe28c60"
      },
      "execution_count": null,
      "outputs": [
        {
          "output_type": "stream",
          "name": "stdout",
          "text": [
            "499\n"
          ]
        }
      ]
    },
    {
      "cell_type": "markdown",
      "source": [
        "Right shift operator :\n",
        "\n",
        "\n",
        "*   represented by using ( >> )called as BITWISE RIGHT SHIFT.\n",
        "\n",
        "*   Shifts the bits to the right.\n",
        "*  For positive numbers it fills with 0.\n",
        "\n",
        "\n",
        "*   For negative numbers it fills with 1.\n",
        "\n",
        "*   if x is a number and we need to do right shift with n then the\n",
        "     representation is x>>n.\n",
        "\n",
        "\n",
        "\n"
      ],
      "metadata": {
        "id": "0bfcGvYXXmbr"
      }
    },
    {
      "cell_type": "code",
      "source": [
        "q = 3000\n",
        "print(q>>3)"
      ],
      "metadata": {
        "colab": {
          "base_uri": "https://localhost:8080/"
        },
        "id": "9WZCqHGmYbV1",
        "outputId": "9e102059-13a8-42e8-8e6d-d6c9155070e8"
      },
      "execution_count": null,
      "outputs": [
        {
          "output_type": "stream",
          "name": "stdout",
          "text": [
            "375\n"
          ]
        }
      ]
    },
    {
      "cell_type": "code",
      "source": [
        "s=32\n",
        "print(q>>2)"
      ],
      "metadata": {
        "colab": {
          "base_uri": "https://localhost:8080/"
        },
        "id": "OGLZ2Gj5YbYP",
        "outputId": "1f4eb753-ff74-4329-d73a-eb85491a0617"
      },
      "execution_count": null,
      "outputs": [
        {
          "output_type": "stream",
          "name": "stdout",
          "text": [
            "750\n"
          ]
        }
      ]
    },
    {
      "cell_type": "code",
      "source": [
        "v=-2040\n",
        "print(v>>7)"
      ],
      "metadata": {
        "colab": {
          "base_uri": "https://localhost:8080/"
        },
        "id": "_8mlzfofYvms",
        "outputId": "faca7099-3dbd-4547-de11-94af70349b03"
      },
      "execution_count": null,
      "outputs": [
        {
          "output_type": "stream",
          "name": "stdout",
          "text": [
            "-16\n"
          ]
        }
      ]
    },
    {
      "cell_type": "code",
      "source": [
        "a = 10\n",
        "print(a>>9)"
      ],
      "metadata": {
        "colab": {
          "base_uri": "https://localhost:8080/"
        },
        "id": "fXgUSXL7YwFq",
        "outputId": "63a7807b-92ab-40c4-ab2f-18ea032f53ee"
      },
      "execution_count": null,
      "outputs": [
        {
          "output_type": "stream",
          "name": "stdout",
          "text": [
            "0\n"
          ]
        }
      ]
    },
    {
      "cell_type": "code",
      "source": [
        "s = -500\n",
        "print(s>>3)\n"
      ],
      "metadata": {
        "colab": {
          "base_uri": "https://localhost:8080/"
        },
        "id": "oeMVG-vlYbbj",
        "outputId": "82f70f85-e52c-4e06-d2be-77c927b55cfe"
      },
      "execution_count": null,
      "outputs": [
        {
          "output_type": "stream",
          "name": "stdout",
          "text": [
            "-63\n"
          ]
        }
      ]
    },
    {
      "cell_type": "markdown",
      "source": [
        " left shift operator:\n",
        "\n",
        "\n",
        "*   represented by using ( >> )called as BITWISE LEFT SHIFT.\n",
        "\n",
        "*   Shifts the bits to the left.\n",
        "*   The left shift operator moves all bits in a binary representation to the left by a specified number of positions\n",
        "\n",
        "*   if x is a number and we need to do right shift with n then the representation is x<\n",
        "\n"
      ],
      "metadata": {
        "id": "XWQ4A5amZEMm"
      }
    },
    {
      "cell_type": "code",
      "source": [
        "q = 3000\n",
        "print(q<<3)\n"
      ],
      "metadata": {
        "colab": {
          "base_uri": "https://localhost:8080/"
        },
        "id": "4QA-_sLiZgK9",
        "outputId": "ce9a34ca-80b3-4438-fce8-19c8128cc3ee"
      },
      "execution_count": null,
      "outputs": [
        {
          "output_type": "stream",
          "name": "stdout",
          "text": [
            "24000\n"
          ]
        }
      ]
    },
    {
      "cell_type": "code",
      "source": [
        "s=32\n",
        "print(q<<2)"
      ],
      "metadata": {
        "colab": {
          "base_uri": "https://localhost:8080/"
        },
        "id": "Lv3A8JlFZgOf",
        "outputId": "5cec844f-d21b-4045-de07-41434538dcb6"
      },
      "execution_count": null,
      "outputs": [
        {
          "output_type": "stream",
          "name": "stdout",
          "text": [
            "12000\n"
          ]
        }
      ]
    },
    {
      "cell_type": "code",
      "source": [
        "s = -500\n",
        "print(s<<13)\n"
      ],
      "metadata": {
        "colab": {
          "base_uri": "https://localhost:8080/"
        },
        "id": "xEsmMUpyZgWC",
        "outputId": "86c7239e-1395-4857-bc00-98582f1fddc4"
      },
      "execution_count": null,
      "outputs": [
        {
          "output_type": "stream",
          "name": "stdout",
          "text": [
            "-4096000\n"
          ]
        }
      ]
    },
    {
      "cell_type": "code",
      "source": [
        "x = 5\n",
        "print(s<<3)"
      ],
      "metadata": {
        "colab": {
          "base_uri": "https://localhost:8080/"
        },
        "id": "8DSHH2OrZgYk",
        "outputId": "4750a62d-ffe7-4c7d-ba47-09746177748a"
      },
      "execution_count": null,
      "outputs": [
        {
          "output_type": "stream",
          "name": "stdout",
          "text": [
            "256\n"
          ]
        }
      ]
    },
    {
      "cell_type": "code",
      "source": [
        "a = 10\n",
        "print(a<<9)"
      ],
      "metadata": {
        "colab": {
          "base_uri": "https://localhost:8080/"
        },
        "id": "zZyETqg6ZgcC",
        "outputId": "700ffc35-d2c8-412e-df48-7e7e22b15a30"
      },
      "execution_count": null,
      "outputs": [
        {
          "output_type": "stream",
          "name": "stdout",
          "text": [
            "5120\n"
          ]
        }
      ]
    },
    {
      "cell_type": "markdown",
      "source": [
        "PRECEDENCE RULES\n",
        "*  knows which operator need to perform first in the expression\n",
        "*  And the operators we ned to do that in an order\n",
        "*  we need to give the priority in the given precedence order\n",
        "*  so the order is present bellow\n",
        "*   () - paranthesie\n",
        "*   ** - exponentional\n",
        "*   +x,-x,~x - uni plus,uni minus,bitwise not\n",
        "*   +,- - Addition , subtraction\n",
        "*   <<,>> - Bitwise left and bitwise minus\n",
        "*   & - Bitwise AND\n",
        "*   ^ - Bitwise XOR\n",
        "*   | - Bitwise OR\n",
        "\n",
        "*   ==,!=,>=,<=,is,is not,in ,not in - operators(idential,membership and\n",
        "    assignment)\n",
        "\n",
        "*   NOT - not\n",
        "*   AND - and\n",
        "*   OR - or\n",
        "\n",
        "\n",
        "\n",
        "\n",
        "\n",
        "\n",
        "\n"
      ],
      "metadata": {
        "id": "KRA36qJZcUmS"
      }
    },
    {
      "cell_type": "code",
      "source": [
        "(4+9)**2-6/2"
      ],
      "metadata": {
        "colab": {
          "base_uri": "https://localhost:8080/"
        },
        "id": "6bjUvDZPgQUk",
        "outputId": "b35f9fd2-1281-4b52-8ca2-9fab8d935147"
      },
      "execution_count": null,
      "outputs": [
        {
          "output_type": "execute_result",
          "data": {
            "text/plain": [
              "166.0"
            ]
          },
          "metadata": {},
          "execution_count": 31
        }
      ]
    },
    {
      "cell_type": "code",
      "source": [
        "6+4*(4-1)**2/5"
      ],
      "metadata": {
        "colab": {
          "base_uri": "https://localhost:8080/"
        },
        "id": "ql-DckBIgQbX",
        "outputId": "37dd1fcd-0017-42ec-a9d0-3f807d55bd71"
      },
      "execution_count": null,
      "outputs": [
        {
          "output_type": "execute_result",
          "data": {
            "text/plain": [
              "13.2"
            ]
          },
          "metadata": {},
          "execution_count": 32
        }
      ]
    },
    {
      "cell_type": "code",
      "source": [
        "\n",
        "(4+2+3)-(4**2-9)+15/2"
      ],
      "metadata": {
        "colab": {
          "base_uri": "https://localhost:8080/"
        },
        "id": "S-9Gzbq0gQfs",
        "outputId": "d4dc1495-5759-4fe2-e480-1deef63cf8e2"
      },
      "execution_count": null,
      "outputs": [
        {
          "output_type": "execute_result",
          "data": {
            "text/plain": [
              "9.5"
            ]
          },
          "metadata": {},
          "execution_count": 30
        }
      ]
    },
    {
      "cell_type": "code",
      "source": [
        "(4+2+3)-(4**2-9)+15/2"
      ],
      "metadata": {
        "colab": {
          "base_uri": "https://localhost:8080/"
        },
        "id": "-OWH_UW9gRgp",
        "outputId": "ba8fb718-5baf-440a-8e5b-2bfdbbe3e1dd"
      },
      "execution_count": null,
      "outputs": [
        {
          "output_type": "execute_result",
          "data": {
            "text/plain": [
              "9.5"
            ]
          },
          "metadata": {},
          "execution_count": 33
        }
      ]
    },
    {
      "cell_type": "code",
      "source": [
        "10>>(8**1)"
      ],
      "metadata": {
        "colab": {
          "base_uri": "https://localhost:8080/"
        },
        "id": "r-M9VJtRhUfU",
        "outputId": "e8aa7308-2c0d-4d8f-da77-6b40d2c9e8ca"
      },
      "execution_count": null,
      "outputs": [
        {
          "output_type": "execute_result",
          "data": {
            "text/plain": [
              "0"
            ]
          },
          "metadata": {},
          "execution_count": 34
        }
      ]
    },
    {
      "cell_type": "code",
      "source": [
        "8**1+5&4"
      ],
      "metadata": {
        "colab": {
          "base_uri": "https://localhost:8080/"
        },
        "id": "Qn2tCDOFhifU",
        "outputId": "7cb0cefe-8f28-411d-b920-101413741bb7"
      },
      "execution_count": null,
      "outputs": [
        {
          "output_type": "execute_result",
          "data": {
            "text/plain": [
              "4"
            ]
          },
          "metadata": {},
          "execution_count": 36
        }
      ]
    },
    {
      "cell_type": "code",
      "source": [
        "2002!=2000**1"
      ],
      "metadata": {
        "colab": {
          "base_uri": "https://localhost:8080/"
        },
        "id": "OE9sXIkhhiiv",
        "outputId": "2777c35a-d93b-48de-852d-2f455a1dabb7"
      },
      "execution_count": null,
      "outputs": [
        {
          "output_type": "execute_result",
          "data": {
            "text/plain": [
              "True"
            ]
          },
          "metadata": {},
          "execution_count": 37
        }
      ]
    }
  ]
}