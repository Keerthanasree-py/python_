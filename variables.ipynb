{
  "nbformat": 4,
  "nbformat_minor": 0,
  "metadata": {
    "colab": {
      "provenance": []
    },
    "kernelspec": {
      "name": "python3",
      "display_name": "Python 3"
    },
    "language_info": {
      "name": "python"
    }
  },
  "cells": [
    {
      "cell_type": "markdown",
      "source": [
        "1) Explain about python?\n",
        "\n",
        "\n",
        "*  Python is a very popular , general purpose programming language.\n",
        "\n",
        "*  Python is a programming language that is widely used in web applications, software development, data science, and machine learning.\n",
        "\n",
        "*  Python is a computer programming language often used to build websites and software, automate tasks, and analyze data.\n",
        "\n",
        "*  Python is a programming language that lets you work quickly and integrate systems more effectively.\n",
        "\n",
        "*  Python is the most accessible open-source coding language as it has a simple syntax to code."
      ],
      "metadata": {
        "id": "CaD5up4ajkOv"
      }
    },
    {
      "cell_type": "markdown",
      "source": [
        "2) Rules of python?\n",
        "\n",
        "1.   variables can be written in alpha-numeric structure / character\n",
        "\n",
        " ex: a=1 hi=5\n",
        "\n",
        "2.   varaible can't start with special characters except underscore (_)\n",
        "\n",
        " ex: @s=9 (false) _s=9 (true)\n",
        "\n",
        "3.   varaible can't start with digits\n",
        "\n",
        " ex: 9=a ( false) 54=hello world (false )\n",
        "\n",
        "4.   varaible can't start with keywords\n",
        "\n",
        " ex: if = 8 ( false ) async = 67 ( false )\n",
        "\n",
        "5.   varaiables are case sensitive\n",
        "\n",
        " ex: a=2 print(a) [ true]\n",
        "    s=34 print(S) [ false][ false]"
      ],
      "metadata": {
        "id": "XINVTREfkKRJ"
      }
    },
    {
      "cell_type": "markdown",
      "source": [
        "3) Types of variables?\n",
        "\n",
        "There are two types of varaibles\n",
        "\n",
        "* single variables\n",
        "\n",
        "* multiple variables\n",
        "\n",
        "single variables:\n",
        "single variable is storing single value\n",
        "like a=1 , b=2\n",
        "\n",
        "ex: age = 25 name = \"Alice\" height = 5.9\n",
        "\n",
        "multiple variables:\n",
        "multiple variables stores multiple values\n",
        "divides the variable and value using comma(,)\n",
        "like a,b,c = 1,2,3\n",
        "\n",
        "ex: x, y, z = 10, 20, 30"
      ],
      "metadata": {
        "id": "HQyo9OpClVLU"
      }
    },
    {
      "cell_type": "markdown",
      "source": [
        "4) Examples of types of variables ?"
      ],
      "metadata": {
        "id": "LPdDW1IbmuvO"
      }
    },
    {
      "cell_type": "code",
      "source": [
        "a=8.j\n",
        "print (type(a))"
      ],
      "metadata": {
        "id": "WYuYXlCHnOs4",
        "colab": {
          "base_uri": "https://localhost:8080/"
        },
        "outputId": "3a617086-c4fe-4763-8feb-8b64592d3e8d"
      },
      "execution_count": null,
      "outputs": [
        {
          "output_type": "stream",
          "name": "stdout",
          "text": [
            "<class 'complex'>\n"
          ]
        }
      ]
    },
    {
      "cell_type": "code",
      "source": [
        "college = 12.3"
      ],
      "metadata": {
        "id": "IMEX1vUMnPO7"
      },
      "execution_count": null,
      "outputs": []
    },
    {
      "cell_type": "code",
      "source": [
        "datascience = 345"
      ],
      "metadata": {
        "id": "L402Sd8znPRo"
      },
      "execution_count": null,
      "outputs": []
    },
    {
      "cell_type": "code",
      "source": [
        "data = 3454678"
      ],
      "metadata": {
        "id": "hwG29tynnPUM"
      },
      "execution_count": null,
      "outputs": []
    },
    {
      "cell_type": "code",
      "source": [
        "enginneering=14"
      ],
      "metadata": {
        "id": "3TQOxzU_nPW8"
      },
      "execution_count": null,
      "outputs": []
    },
    {
      "cell_type": "code",
      "source": [
        "name=\"harini\""
      ],
      "metadata": {
        "id": "cp6Dcr3knPZk"
      },
      "execution_count": null,
      "outputs": []
    },
    {
      "cell_type": "code",
      "source": [
        "str='grand-parentsparentschildrens'\n",
        "print(type(str))"
      ],
      "metadata": {
        "id": "MoT0jYDEnPcc",
        "colab": {
          "base_uri": "https://localhost:8080/"
        },
        "outputId": "c51aed25-d74f-415e-c8ab-d5ae949505e4"
      },
      "execution_count": null,
      "outputs": [
        {
          "output_type": "stream",
          "name": "stdout",
          "text": [
            "<class 'str'>\n"
          ]
        }
      ]
    },
    {
      "cell_type": "code",
      "source": [
        "number=(21.2,2.3,345.67)"
      ],
      "metadata": {
        "id": "F4QXXrkHnPgD"
      },
      "execution_count": null,
      "outputs": []
    },
    {
      "cell_type": "code",
      "source": [
        "f= 1.2\n",
        "print(type(f))"
      ],
      "metadata": {
        "id": "wGRwPDlOocN6",
        "colab": {
          "base_uri": "https://localhost:8080/"
        },
        "outputId": "2357d8a4-d26f-4fb5-8d27-4bb19e919b47"
      },
      "execution_count": null,
      "outputs": [
        {
          "output_type": "stream",
          "name": "stdout",
          "text": [
            "<class 'float'>\n"
          ]
        }
      ]
    },
    {
      "cell_type": "code",
      "source": [
        "water=3.0"
      ],
      "metadata": {
        "id": "w8LC_OmlocQi"
      },
      "execution_count": null,
      "outputs": []
    },
    {
      "cell_type": "code",
      "source": [
        "number=1.9j\n",
        "print(type(number))"
      ],
      "metadata": {
        "colab": {
          "base_uri": "https://localhost:8080/"
        },
        "id": "ium0qH9aocTa",
        "outputId": "d417123d-1ed3-4863-e626-9f88d7643a6f"
      },
      "execution_count": null,
      "outputs": [
        {
          "output_type": "stream",
          "name": "stdout",
          "text": [
            "<class 'complex'>\n"
          ]
        }
      ]
    },
    {
      "cell_type": "code",
      "source": [
        "books = 123489\n",
        "print(type(books))"
      ],
      "metadata": {
        "id": "HhmPxF75ocWA",
        "colab": {
          "base_uri": "https://localhost:8080/"
        },
        "outputId": "01b073c8-3f62-4253-8689-4efe0ede0f7e"
      },
      "execution_count": null,
      "outputs": [
        {
          "output_type": "stream",
          "name": "stdout",
          "text": [
            "<class 'int'>\n"
          ]
        }
      ]
    },
    {
      "cell_type": "code",
      "source": [
        "data = 67.0j\n",
        "print(type(data))"
      ],
      "metadata": {
        "id": "LPQVqEAfocYr",
        "colab": {
          "base_uri": "https://localhost:8080/"
        },
        "outputId": "4a7eb4c0-6bf9-4d0f-c6d5-e4749164624f"
      },
      "execution_count": null,
      "outputs": [
        {
          "output_type": "stream",
          "name": "stdout",
          "text": [
            "<class 'complex'>\n"
          ]
        }
      ]
    },
    {
      "cell_type": "code",
      "source": [
        "hi = -45.98\n",
        "print(type(hi))"
      ],
      "metadata": {
        "id": "UsdkPij_ocbP",
        "colab": {
          "base_uri": "https://localhost:8080/"
        },
        "outputId": "95b8e33d-8a34-4d41-9bbf-595e1c1f672a"
      },
      "execution_count": null,
      "outputs": [
        {
          "output_type": "stream",
          "name": "stdout",
          "text": [
            "<class 'float'>\n"
          ]
        }
      ]
    },
    {
      "cell_type": "code",
      "source": [],
      "metadata": {
        "id": "3Cboo4-Gocdo"
      },
      "execution_count": null,
      "outputs": []
    },
    {
      "cell_type": "code",
      "source": [],
      "metadata": {
        "id": "Lb9WOi7Cocf_"
      },
      "execution_count": null,
      "outputs": []
    },
    {
      "cell_type": "code",
      "source": [],
      "metadata": {
        "id": "OTr3-dfaocii"
      },
      "execution_count": null,
      "outputs": []
    },
    {
      "cell_type": "code",
      "source": [],
      "metadata": {
        "id": "LhTS5Hqmock3"
      },
      "execution_count": null,
      "outputs": []
    },
    {
      "cell_type": "code",
      "source": [],
      "metadata": {
        "id": "RyhS_BOSocnC"
      },
      "execution_count": null,
      "outputs": []
    },
    {
      "cell_type": "code",
      "source": [],
      "metadata": {
        "id": "2naFGAU3ocql"
      },
      "execution_count": null,
      "outputs": []
    }
  ]
}