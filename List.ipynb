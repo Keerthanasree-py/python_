{
  "nbformat": 4,
  "nbformat_minor": 0,
  "metadata": {
    "colab": {
      "provenance": []
    },
    "kernelspec": {
      "name": "python3",
      "display_name": "Python 3"
    },
    "language_info": {
      "name": "python"
    }
  },
  "cells": [
    {
      "cell_type": "markdown",
      "source": [
        "**1)define list?**\n",
        "\n",
        "\n",
        "* Lists are used to store multiple items in a single variable\n",
        "\n",
        "*  It is a common data type\n",
        "*  Used to collect the data / element\n",
        "*  stores different datatypes like boolean,int,float,complex\n",
        "*  List can be modified,add and can change\n",
        "*  represented bt square brackets[] and the elements are seperated by comas(,)\n",
        "*  list allows duplicate\n",
        "*  list is mutable\n"
      ],
      "metadata": {
        "id": "Y1cZfPbv0yGy"
      }
    },
    {
      "cell_type": "code",
      "source": [
        "List=[\"a\",\"b\"]"
      ],
      "metadata": {
        "id": "P2EAPGfoQYLp"
      },
      "execution_count": null,
      "outputs": []
    },
    {
      "cell_type": "code",
      "execution_count": null,
      "metadata": {
        "id": "Jbpxpt_RMm_V"
      },
      "outputs": [],
      "source": [
        "fruits=[\"Apple\",\"banana\", \"grapes\"]"
      ]
    },
    {
      "cell_type": "code",
      "source": [
        "my_list=['x','u','z']"
      ],
      "metadata": {
        "id": "if5G-jjiMshT"
      },
      "execution_count": null,
      "outputs": []
    },
    {
      "cell_type": "code",
      "source": [
        "list=['1','2','3']"
      ],
      "metadata": {
        "id": "pTR33m_aMskd"
      },
      "execution_count": null,
      "outputs": []
    },
    {
      "cell_type": "code",
      "source": [
        "animals=[\"monkey\",\"donkey\",\"horse\"]"
      ],
      "metadata": {
        "id": "4isW4Md9Msno"
      },
      "execution_count": null,
      "outputs": []
    },
    {
      "cell_type": "code",
      "source": [
        "my_list=[int,float]"
      ],
      "metadata": {
        "id": "DCmX9t6LMsp4"
      },
      "execution_count": null,
      "outputs": []
    },
    {
      "cell_type": "code",
      "source": [
        "numbers=[2,6,88,678,0.2,6.3]"
      ],
      "metadata": {
        "id": "_QEhwg8wMtmg"
      },
      "execution_count": null,
      "outputs": []
    },
    {
      "cell_type": "code",
      "source": [
        "complex=[\"1+2i\",\"3+j9\"]"
      ],
      "metadata": {
        "id": "0pYpiTPvMsvd"
      },
      "execution_count": null,
      "outputs": []
    },
    {
      "cell_type": "code",
      "source": [
        "bool=['true','46','0.5','false','apple','animals']"
      ],
      "metadata": {
        "id": "7OszWW1NMsyL"
      },
      "execution_count": null,
      "outputs": []
    },
    {
      "cell_type": "markdown",
      "source": [
        "**2)accessing the list**\n",
        "\n",
        "\n",
        "*  List are ordered and each item in a list is a associated with a number. The number is called as a \"list index\"\n",
        "\n",
        "*   The first element in a list is inder 0;and second is index is 1 and so on\n",
        "*   There are 2 types of index :\n",
        "\n",
        "     positve index\n",
        "\n",
        "    Negative index\n",
        "\n",
        "\n",
        "*   \n",
        "\n"
      ],
      "metadata": {
        "id": "Rwnf5O-w3HqZ"
      }
    },
    {
      "cell_type": "code",
      "source": [
        "numbers=['2','3','4','5','6','7','8','9','3','4','5','6','8','6','1','2']"
      ],
      "metadata": {
        "id": "dKKXHOSVQg2G"
      },
      "execution_count": null,
      "outputs": []
    },
    {
      "cell_type": "code",
      "source": [
        "print(numbers [0:15])"
      ],
      "metadata": {
        "colab": {
          "base_uri": "https://localhost:8080/"
        },
        "id": "WuZwKJ_7Qg9d",
        "outputId": "a93230fc-d0bc-4c83-9fb1-d760405c29cc"
      },
      "execution_count": null,
      "outputs": [
        {
          "output_type": "stream",
          "name": "stdout",
          "text": [
            "['2', '3', '4', '5', '6', '7', '8', '9', '3', '4', '5', '6', '8', '6', '1']\n"
          ]
        }
      ]
    },
    {
      "cell_type": "code",
      "source": [
        "print(numbers [:16])"
      ],
      "metadata": {
        "colab": {
          "base_uri": "https://localhost:8080/"
        },
        "id": "dXEw-k-CQXcc",
        "outputId": "bb9e0a81-0eb2-4d99-86a8-89d83fec6d99"
      },
      "execution_count": null,
      "outputs": [
        {
          "output_type": "stream",
          "name": "stdout",
          "text": [
            "['2', '3', '4', '5', '6', '7', '8', '9', '3', '4', '5', '6', '8', '6', '1', '2']\n"
          ]
        }
      ]
    },
    {
      "cell_type": "code",
      "source": [
        "print(numbers [4:9])"
      ],
      "metadata": {
        "colab": {
          "base_uri": "https://localhost:8080/"
        },
        "id": "6T0JPLUgMs8s",
        "outputId": "66808612-1662-4a7e-8374-0a03dbebdeb4"
      },
      "execution_count": null,
      "outputs": [
        {
          "output_type": "stream",
          "name": "stdout",
          "text": [
            "['6', '7', '8', '9', '3']\n"
          ]
        }
      ]
    },
    {
      "cell_type": "code",
      "source": [
        "print (numbers [1:])"
      ],
      "metadata": {
        "colab": {
          "base_uri": "https://localhost:8080/"
        },
        "id": "YfD0WUEeMs-O",
        "outputId": "59194b42-859e-49f7-b450-83109a980e53"
      },
      "execution_count": null,
      "outputs": [
        {
          "output_type": "stream",
          "name": "stdout",
          "text": [
            "['3', '4', '5', '6', '7', '8', '9', '3', '4', '5', '6', '8', '6', '1', '2']\n"
          ]
        }
      ]
    },
    {
      "cell_type": "code",
      "source": [
        "print( numbers[8:21])"
      ],
      "metadata": {
        "colab": {
          "base_uri": "https://localhost:8080/"
        },
        "id": "6-HASBctMteZ",
        "outputId": "579b4390-10df-40c0-a1ae-44967f64d622"
      },
      "execution_count": null,
      "outputs": [
        {
          "output_type": "stream",
          "name": "stdout",
          "text": [
            "['3', '4', '5', '6', '8', '6', '1', '2']\n"
          ]
        }
      ]
    },
    {
      "cell_type": "code",
      "source": [
        "print( numbers [-8:-1])"
      ],
      "metadata": {
        "colab": {
          "base_uri": "https://localhost:8080/"
        },
        "id": "38NN_dlIYdHn",
        "outputId": "636bf594-b9d2-4d0f-9835-dd0fc654fdac"
      },
      "execution_count": null,
      "outputs": [
        {
          "output_type": "stream",
          "name": "stdout",
          "text": [
            "['3', '4', '5', '6', '8', '6', '1']\n"
          ]
        }
      ]
    },
    {
      "cell_type": "code",
      "source": [
        "print( numbers [-14:-5])"
      ],
      "metadata": {
        "colab": {
          "base_uri": "https://localhost:8080/"
        },
        "id": "rBLfhObsYdUw",
        "outputId": "2829dd6b-3944-4cf7-99d4-136313780ffd"
      },
      "execution_count": null,
      "outputs": [
        {
          "output_type": "stream",
          "name": "stdout",
          "text": [
            "['4', '5', '6', '7', '8', '9', '3', '4', '5']\n"
          ]
        }
      ]
    },
    {
      "cell_type": "code",
      "source": [
        "print ( numbers [-1:-7])"
      ],
      "metadata": {
        "colab": {
          "base_uri": "https://localhost:8080/"
        },
        "id": "vGzak58ZYdXo",
        "outputId": "8bc65c24-6a69-4436-a12b-2a0534d88e9c"
      },
      "execution_count": null,
      "outputs": [
        {
          "output_type": "stream",
          "name": "stdout",
          "text": [
            "[]\n"
          ]
        }
      ]
    },
    {
      "cell_type": "code",
      "source": [
        "print(numbers[1])"
      ],
      "metadata": {
        "colab": {
          "base_uri": "https://localhost:8080/"
        },
        "id": "k9rHSOeNYdmt",
        "outputId": "bbfb9672-7d9b-4373-a046-070bb8c7fae4"
      },
      "execution_count": null,
      "outputs": [
        {
          "output_type": "stream",
          "name": "stdout",
          "text": [
            "3\n"
          ]
        }
      ]
    },
    {
      "cell_type": "code",
      "source": [
        "print(numbers[-4])"
      ],
      "metadata": {
        "colab": {
          "base_uri": "https://localhost:8080/"
        },
        "id": "d1wJM8jEYcrp",
        "outputId": "79d9e69e-711b-4126-def8-2d9621134c2a"
      },
      "execution_count": null,
      "outputs": [
        {
          "output_type": "stream",
          "name": "stdout",
          "text": [
            "8\n"
          ]
        }
      ]
    },
    {
      "cell_type": "code",
      "source": [
        "CONCATENATION"
      ],
      "metadata": {
        "id": "xvgNoswcYc8U"
      },
      "execution_count": null,
      "outputs": []
    },
    {
      "cell_type": "code",
      "source": [
        "a=[\"1\",\"3\"]\n",
        "b=[\"5\",\"4\"]\n",
        "c=a+b\n",
        "print(c)"
      ],
      "metadata": {
        "colab": {
          "base_uri": "https://localhost:8080/"
        },
        "id": "QplkhIm9Yc-5",
        "outputId": "bd254dad-4b99-4662-d022-a08903fed298"
      },
      "execution_count": null,
      "outputs": [
        {
          "output_type": "stream",
          "name": "stdout",
          "text": [
            "['1', '3', '5', '4']\n"
          ]
        }
      ]
    },
    {
      "cell_type": "code",
      "source": [
        "a=['Apple']\n",
        "b=['Banana']\n",
        "c=a+b\n",
        "print(c)"
      ],
      "metadata": {
        "colab": {
          "base_uri": "https://localhost:8080/"
        },
        "id": "l_CG2HW7YdBw",
        "outputId": "f149e05f-34c8-4bd8-ade5-00287810049b"
      },
      "execution_count": null,
      "outputs": [
        {
          "output_type": "stream",
          "name": "stdout",
          "text": [
            "['Apple', 'Banana']\n"
          ]
        }
      ]
    },
    {
      "cell_type": "code",
      "source": [
        "Repetition"
      ],
      "metadata": {
        "id": "xFARqVP6YcTw"
      },
      "execution_count": null,
      "outputs": []
    },
    {
      "cell_type": "code",
      "source": [
        "a=[\"welcome\"]\n",
        "c=a*5\n",
        "print(c)"
      ],
      "metadata": {
        "colab": {
          "base_uri": "https://localhost:8080/"
        },
        "id": "Jelj287XYcds",
        "outputId": "1d93b6d4-5ae6-42da-fafd-1ef7d1168d42"
      },
      "execution_count": null,
      "outputs": [
        {
          "output_type": "stream",
          "name": "stdout",
          "text": [
            "['welcome', 'welcome', 'welcome', 'welcome', 'welcome']\n"
          ]
        }
      ]
    },
    {
      "cell_type": "code",
      "source": [
        "Modifying"
      ],
      "metadata": {
        "id": "0H0NT4uyYcg_"
      },
      "execution_count": null,
      "outputs": []
    },
    {
      "cell_type": "code",
      "source": [
        "list=['comb','water', 'bottle','food', 'snacks', 'chocolate',' icecream','much','bed', 'room', 'dinner', 'lucky','key', 'break','fast', 'Delhi', 'happy']"
      ],
      "metadata": {
        "id": "qJBHFfcKYcj5"
      },
      "execution_count": null,
      "outputs": []
    },
    {
      "cell_type": "code",
      "source": [
        "list[2]='phone'\n",
        "print(list)"
      ],
      "metadata": {
        "colab": {
          "base_uri": "https://localhost:8080/"
        },
        "id": "Lx87cOT3hM6O",
        "outputId": "2a4eb301-94b2-4e7a-e0a1-ed884b00f87a"
      },
      "execution_count": null,
      "outputs": [
        {
          "output_type": "stream",
          "name": "stdout",
          "text": [
            "['comb', 'water', 'phone', 'food', 'snacks', 'chocolate', ' icecream', 'much', 'bed', 'room', 'dinner', 'lucky', 'key', 'break', 'fast', 'Delhi', 'happy']\n"
          ]
        }
      ]
    },
    {
      "cell_type": "code",
      "source": [
        "list[7]='bottle'\n",
        "print (list)"
      ],
      "metadata": {
        "colab": {
          "base_uri": "https://localhost:8080/"
        },
        "id": "mmuGIGZzhNGU",
        "outputId": "cfe29aa9-9c1b-4080-b723-3fa3355bffb9"
      },
      "execution_count": null,
      "outputs": [
        {
          "output_type": "stream",
          "name": "stdout",
          "text": [
            "['comb', 'water', 'phone', 'food', 'snacks', 'chocolate', ' icecream', 'bottle', 'bed', 'room', 'dinner', 'lucky', 'key', 'break', 'fast', 'Delhi', 'happy']\n"
          ]
        }
      ]
    },
    {
      "cell_type": "code",
      "source": [
        "list[-3]='songs'\n",
        "print(list)"
      ],
      "metadata": {
        "colab": {
          "base_uri": "https://localhost:8080/"
        },
        "id": "vPdzbIJRhNQw",
        "outputId": "c6aaa9cc-f22b-4d7c-b431-27774be96460"
      },
      "execution_count": null,
      "outputs": [
        {
          "output_type": "stream",
          "name": "stdout",
          "text": [
            "['comb', 'water', 'phone', 'food', 'snacks', 'chocolate', ' icecream', 'bottle', 'bed', 'room', 'dinner', 'lucky', 'key', 'break', 'songs', 'Delhi', 'happy']\n"
          ]
        }
      ]
    },
    {
      "cell_type": "code",
      "source": [
        "\n",
        "#  list of methods with examples\n",
        "\n",
        "\n",
        "1 . append()\n",
        "2 . extend()\n",
        "3 . insert()\n",
        "4 . remove()\n",
        "5 . pop()\n",
        "6 . index()\n",
        "7 . count()\n",
        "8 . sort()\n",
        "9 . reverse()\n",
        "10 . clear()"
      ],
      "metadata": {
        "id": "Fv9XzguIrvy6"
      },
      "execution_count": null,
      "outputs": []
    },
    {
      "cell_type": "code",
      "source": [
        "a=[1,2,3,4]\n",
        "a.append(5)\n",
        "print (a)"
      ],
      "metadata": {
        "colab": {
          "base_uri": "https://localhost:8080/"
        },
        "id": "lZaZFqnUrzVd",
        "outputId": "8225865a-64f1-45be-c79d-df930a88b46a"
      },
      "execution_count": null,
      "outputs": [
        {
          "output_type": "stream",
          "name": "stdout",
          "text": [
            "[1, 2, 3, 4, 5]\n"
          ]
        }
      ]
    },
    {
      "cell_type": "code",
      "source": [
        "a=[1,2]\n",
        "b=[3,4,5]\n",
        "a.extend(b)\n",
        "print(a)"
      ],
      "metadata": {
        "colab": {
          "base_uri": "https://localhost:8080/"
        },
        "id": "Rn3VaRSRr0cX",
        "outputId": "1f8da82d-ca4f-4576-f2f6-e10bf4ecc93d"
      },
      "execution_count": null,
      "outputs": [
        {
          "output_type": "stream",
          "name": "stdout",
          "text": [
            "[1, 2, 3, 4, 5]\n"
          ]
        }
      ]
    },
    {
      "cell_type": "code",
      "source": [
        "a=[1,2,3]\n",
        "a.insert(4,4)\n",
        "print (a)"
      ],
      "metadata": {
        "colab": {
          "base_uri": "https://localhost:8080/"
        },
        "id": "14IhDt3Tr1MB",
        "outputId": "b3bda3ff-21b9-436e-e551-79cf44d927b4"
      },
      "execution_count": null,
      "outputs": [
        {
          "output_type": "stream",
          "name": "stdout",
          "text": [
            "[1, 2, 3, 4]\n"
          ]
        }
      ]
    },
    {
      "cell_type": "code",
      "source": [
        "a=[1,2,3,4]\n",
        "a.remove(3)\n",
        "print (a)"
      ],
      "metadata": {
        "colab": {
          "base_uri": "https://localhost:8080/"
        },
        "id": "rDKewehJrv_f",
        "outputId": "7497700b-353f-4204-eed4-a47ea9544ff7"
      },
      "execution_count": null,
      "outputs": [
        {
          "output_type": "stream",
          "name": "stdout",
          "text": [
            "[1, 2, 4]\n"
          ]
        }
      ]
    },
    {
      "cell_type": "code",
      "source": [
        "a=[1,2,3,4]\n",
        "a.pop(0)\n",
        "print (a)"
      ],
      "metadata": {
        "colab": {
          "base_uri": "https://localhost:8080/"
        },
        "id": "H_MuOSFbrwKI",
        "outputId": "d2869920-a5be-4ded-d693-03f332e3363c"
      },
      "execution_count": null,
      "outputs": [
        {
          "output_type": "stream",
          "name": "stdout",
          "text": [
            "[2, 3, 4]\n"
          ]
        }
      ]
    },
    {
      "cell_type": "code",
      "source": [
        "a=[1,2,3,4]\n",
        "index= a.index(3)\n",
        "print (index)"
      ],
      "metadata": {
        "colab": {
          "base_uri": "https://localhost:8080/"
        },
        "id": "be6nKqSlvB9X",
        "outputId": "b7372ef6-3481-485c-a581-d3a742b5c89a"
      },
      "execution_count": null,
      "outputs": [
        {
          "output_type": "stream",
          "name": "stdout",
          "text": [
            "2\n"
          ]
        }
      ]
    },
    {
      "cell_type": "code",
      "source": [
        "a=[1,2,3,1,2,3,4,2,2,4]\n",
        "count=a.count(2)\n",
        "print (count)"
      ],
      "metadata": {
        "colab": {
          "base_uri": "https://localhost:8080/"
        },
        "id": "Km12DHrev9CQ",
        "outputId": "8fa669db-135c-4e25-dbe8-888905a022cb"
      },
      "execution_count": null,
      "outputs": [
        {
          "output_type": "stream",
          "name": "stdout",
          "text": [
            "4\n"
          ]
        }
      ]
    },
    {
      "cell_type": "code",
      "source": [
        "a=[1,2,3,4]\n",
        "a.sort()\n",
        "print (a)"
      ],
      "metadata": {
        "colab": {
          "base_uri": "https://localhost:8080/"
        },
        "id": "teDXSY5Hv9Nl",
        "outputId": "adb25996-7d21-4cf1-da70-c515d1c70419"
      },
      "execution_count": null,
      "outputs": [
        {
          "output_type": "stream",
          "name": "stdout",
          "text": [
            "[1, 2, 3, 4]\n"
          ]
        }
      ]
    },
    {
      "cell_type": "code",
      "source": [
        "a=[1,2,3,4]\n",
        "a.reverse()\n",
        "print (a)"
      ],
      "metadata": {
        "colab": {
          "base_uri": "https://localhost:8080/"
        },
        "id": "Y3tuHlpHxs9O",
        "outputId": "c3110ec3-ef33-4cb9-98ab-f8f8354cc48b"
      },
      "execution_count": null,
      "outputs": [
        {
          "output_type": "stream",
          "name": "stdout",
          "text": [
            "[4, 3, 2, 1]\n"
          ]
        }
      ]
    },
    {
      "cell_type": "code",
      "source": [
        "a=[1,2,3,4]\n",
        "a.clear()\n",
        "print (a)"
      ],
      "metadata": {
        "colab": {
          "base_uri": "https://localhost:8080/"
        },
        "id": "C70_4uNdxtKr",
        "outputId": "70785cb4-6aed-41da-b181-01e250a7c0ba"
      },
      "execution_count": null,
      "outputs": [
        {
          "output_type": "stream",
          "name": "stdout",
          "text": [
            "[]\n"
          ]
        }
      ]
    },
    {
      "cell_type": "code",
      "source": [],
      "metadata": {
        "id": "GiXdppSsyN-k"
      },
      "execution_count": null,
      "outputs": []
    },
    {
      "cell_type": "code",
      "source": [],
      "metadata": {
        "id": "1EtqWS_0yOJi"
      },
      "execution_count": null,
      "outputs": []
    }
  ]
}