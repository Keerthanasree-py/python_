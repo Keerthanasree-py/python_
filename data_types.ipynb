{
  "nbformat": 4,
  "nbformat_minor": 0,
  "metadata": {
    "colab": {
      "provenance": []
    },
    "kernelspec": {
      "name": "python3",
      "display_name": "Python 3"
    },
    "language_info": {
      "name": "python"
    }
  },
  "cells": [
    {
      "cell_type": "markdown",
      "source": [
        "1)explain about data types?\n",
        "\n",
        "data type refers to the type of value the variable stores.\n",
        "\n",
        "There are two types of data types :\n",
        "\n",
        " 1.primitive data type\n",
        "\n",
        " 2.non - primitive data type"
      ],
      "metadata": {
        "id": "J6Oyz5wwhcsB"
      }
    },
    {
      "cell_type": "markdown",
      "source": [
        "\n",
        "2) explain different types of data types?\n",
        "\n",
        "Primitive data type :\n",
        "Primitive data structure is a fundamental type of data structure that stores the data of only one type\n",
        "\n",
        "There are 4 types of data types ( int, float, complex, boolean)\n",
        "\n",
        "*  Int :\n",
        "Represents whole numbers without any decimal points\n",
        "\n",
        "Examples: -3, 0, 42\n",
        "\n",
        "\n",
        "*  Float :\n",
        "Represents real numbers with decimal points\n",
        "\n",
        "examples: 3.14, -0.001, 2.0\n",
        "\n",
        "*  complex :\n",
        "Represents complex numbers, which have a real part and an imaginary part.\n",
        "\n",
        "examples: 4+7j , 0j , 3452+65j\n",
        "\n",
        "* boolean :\n",
        "true or false\n",
        "\n",
        "examples:false,true\n",
        "\n",
        "Non primitive data type :\n",
        "They can store multiple values and provide more functionality\n",
        "\n",
        "There are 5 types ( list,strings,tuples,dictonary ,set)"
      ],
      "metadata": {
        "id": "tKrqOWUBiBS-"
      }
    },
    {
      "cell_type": "code",
      "source": [
        "a= 2\n",
        "print(type(a))\n"
      ],
      "metadata": {
        "colab": {
          "base_uri": "https://localhost:8080/"
        },
        "id": "MNnVlltHj4nP",
        "outputId": "bfc11d9c-6d52-4097-a1af-6ad0a830cc14"
      },
      "execution_count": null,
      "outputs": [
        {
          "output_type": "stream",
          "name": "stdout",
          "text": [
            "<class 'int'>\n"
          ]
        }
      ]
    },
    {
      "cell_type": "code",
      "source": [
        "c= 34+8j\n",
        "print(type(c))"
      ],
      "metadata": {
        "colab": {
          "base_uri": "https://localhost:8080/"
        },
        "id": "EiG_VuSLkGtt",
        "outputId": "82867d35-fc1f-43f8-bf92-65e200bed500"
      },
      "execution_count": null,
      "outputs": [
        {
          "output_type": "stream",
          "name": "stdout",
          "text": [
            "<class 'complex'>\n"
          ]
        }
      ]
    },
    {
      "cell_type": "code",
      "source": [
        "r=3.3\n",
        "print(type(r))"
      ],
      "metadata": {
        "colab": {
          "base_uri": "https://localhost:8080/"
        },
        "id": "3ZybhfwwkGwq",
        "outputId": "83161b1a-9679-4d28-b327-67e54b9d52d9"
      },
      "execution_count": null,
      "outputs": [
        {
          "output_type": "stream",
          "name": "stdout",
          "text": [
            "<class 'float'>\n"
          ]
        }
      ]
    },
    {
      "cell_type": "code",
      "source": [
        "a=455\n",
        "b=45+0j\n",
        "m=5438.9\n",
        "print(type(a))"
      ],
      "metadata": {
        "colab": {
          "base_uri": "https://localhost:8080/"
        },
        "id": "W16Tmlq4kG3O",
        "outputId": "b2967c2c-797b-430e-d1fc-e301bc93637d"
      },
      "execution_count": null,
      "outputs": [
        {
          "output_type": "stream",
          "name": "stdout",
          "text": [
            "<class 'int'>\n"
          ]
        }
      ]
    },
    {
      "cell_type": "code",
      "source": [
        "print(type(b))"
      ],
      "metadata": {
        "colab": {
          "base_uri": "https://localhost:8080/"
        },
        "id": "9MOBfnALmVi5",
        "outputId": "13ec8cc1-6701-418f-8919-c18f1f16c651"
      },
      "execution_count": null,
      "outputs": [
        {
          "output_type": "stream",
          "name": "stdout",
          "text": [
            "<class 'complex'>\n"
          ]
        }
      ]
    },
    {
      "cell_type": "code",
      "source": [
        "print(type(m))"
      ],
      "metadata": {
        "colab": {
          "base_uri": "https://localhost:8080/"
        },
        "id": "x2WGeAGxmVmK",
        "outputId": "a2bbefe9-104f-4cc3-b9ae-33497e5812c8"
      },
      "execution_count": null,
      "outputs": [
        {
          "output_type": "stream",
          "name": "stdout",
          "text": [
            "<class 'float'>\n"
          ]
        }
      ]
    },
    {
      "cell_type": "markdown",
      "source": [
        "3)explain about boolean datatype?\n",
        "\n",
        "*   When we use the data type boolean we will get the output either true or false\n",
        "\n",
        "*   true (1) false(0)\n",
        "\n",
        "*   If the condition satisfies then the output will be true (1)\n",
        "\n",
        "*   If the condition satisfies then the output will be true (1)\n",
        "*  Representation : bool()\n",
        "\n",
        "\n",
        "*  If value is present in the function then it is true\n",
        "\n",
        "\n",
        "*   If there is no value value prsent in the function it is false\n"
      ],
      "metadata": {
        "id": "v0nCRE5bnJJf"
      }
    },
    {
      "cell_type": "code",
      "source": [
        "bool  (1)"
      ],
      "metadata": {
        "colab": {
          "base_uri": "https://localhost:8080/"
        },
        "id": "WiyQJNDspT4Q",
        "outputId": "2a89df04-fbef-4b0b-da56-8e2109a2305f"
      },
      "execution_count": null,
      "outputs": [
        {
          "output_type": "execute_result",
          "data": {
            "text/plain": [
              "True"
            ]
          },
          "metadata": {},
          "execution_count": 12
        }
      ]
    },
    {
      "cell_type": "code",
      "source": [
        "bool(0)"
      ],
      "metadata": {
        "colab": {
          "base_uri": "https://localhost:8080/"
        },
        "id": "BOBsOIj_pUAG",
        "outputId": "3eb0d4d8-2146-4ddd-f64a-3a9677cfb7cc"
      },
      "execution_count": null,
      "outputs": [
        {
          "output_type": "execute_result",
          "data": {
            "text/plain": [
              "False"
            ]
          },
          "metadata": {},
          "execution_count": 13
        }
      ]
    },
    {
      "cell_type": "code",
      "source": [
        "bool(14000)"
      ],
      "metadata": {
        "colab": {
          "base_uri": "https://localhost:8080/"
        },
        "id": "RQp8AUpZpUCz",
        "outputId": "97e4445e-61ac-4fc5-f386-3ffae036a60a"
      },
      "execution_count": null,
      "outputs": [
        {
          "output_type": "execute_result",
          "data": {
            "text/plain": [
              "True"
            ]
          },
          "metadata": {},
          "execution_count": 15
        }
      ]
    },
    {
      "cell_type": "code",
      "source": [
        "bool()"
      ],
      "metadata": {
        "colab": {
          "base_uri": "https://localhost:8080/"
        },
        "id": "C5N0ihPypUGM",
        "outputId": "3386377a-4c8f-4065-fd5f-fca5bd2c144b"
      },
      "execution_count": null,
      "outputs": [
        {
          "output_type": "execute_result",
          "data": {
            "text/plain": [
              "False"
            ]
          },
          "metadata": {},
          "execution_count": 14
        }
      ]
    },
    {
      "cell_type": "code",
      "source": [
        "bool(6==7)"
      ],
      "metadata": {
        "colab": {
          "base_uri": "https://localhost:8080/"
        },
        "id": "bSxLRNeHqBB4",
        "outputId": "9ae2020e-2756-4cea-c8d0-dcd1c45ff9a2"
      },
      "execution_count": null,
      "outputs": [
        {
          "output_type": "execute_result",
          "data": {
            "text/plain": [
              "False"
            ]
          },
          "metadata": {},
          "execution_count": 17
        }
      ]
    },
    {
      "cell_type": "code",
      "source": [
        "bool(91>8)"
      ],
      "metadata": {
        "colab": {
          "base_uri": "https://localhost:8080/"
        },
        "id": "0TrloSmBqCGQ",
        "outputId": "207fcdcd-6e6d-4072-82a9-c31f18331aff"
      },
      "execution_count": null,
      "outputs": [
        {
          "output_type": "execute_result",
          "data": {
            "text/plain": [
              "True"
            ]
          },
          "metadata": {},
          "execution_count": 16
        }
      ]
    },
    {
      "cell_type": "code",
      "source": [
        "bool(32+54>100)"
      ],
      "metadata": {
        "colab": {
          "base_uri": "https://localhost:8080/"
        },
        "id": "YWTXmuwYqBEx",
        "outputId": "d3bb452c-eaf5-4f28-f340-1716059b3aa0"
      },
      "execution_count": null,
      "outputs": [
        {
          "output_type": "execute_result",
          "data": {
            "text/plain": [
              "False"
            ]
          },
          "metadata": {},
          "execution_count": 18
        }
      ]
    },
    {
      "cell_type": "markdown",
      "source": [
        "4)type conversion/type casting?\n",
        "\n",
        "\n",
        "*   used to change the type of data\n",
        "*   we cant convert complex to int / float\n",
        "\n"
      ],
      "metadata": {
        "id": "PIOKjo9oqzWd"
      }
    },
    {
      "cell_type": "markdown",
      "source": [
        "converting int to float"
      ],
      "metadata": {
        "id": "brxIZ6ZFuO3H"
      }
    },
    {
      "cell_type": "code",
      "source": [
        "a=2\n",
        "b=float(a)\n",
        "print(b)"
      ],
      "metadata": {
        "colab": {
          "base_uri": "https://localhost:8080/"
        },
        "id": "s8l0jC8QqBHj",
        "outputId": "84317d2b-3617-4429-da27-b12a00061b6b"
      },
      "execution_count": null,
      "outputs": [
        {
          "output_type": "stream",
          "name": "stdout",
          "text": [
            "2.0\n"
          ]
        }
      ]
    },
    {
      "cell_type": "code",
      "source": [
        "a=2345\n",
        "b=float(a)\n",
        "print((b))\n",
        "print((a))"
      ],
      "metadata": {
        "colab": {
          "base_uri": "https://localhost:8080/"
        },
        "id": "-JsP1AprqBKW",
        "outputId": "c7026ac8-0244-4f2d-a40d-a58ac4b64b34"
      },
      "execution_count": null,
      "outputs": [
        {
          "output_type": "stream",
          "name": "stdout",
          "text": [
            "2345.0\n",
            "2345\n"
          ]
        }
      ]
    },
    {
      "cell_type": "markdown",
      "source": [
        "converting int to complex\n"
      ],
      "metadata": {
        "id": "zqXLVwpjt7sm"
      }
    },
    {
      "cell_type": "code",
      "source": [
        "a=10\n",
        "b=complex(a)\n",
        "print(type(b))"
      ],
      "metadata": {
        "colab": {
          "base_uri": "https://localhost:8080/"
        },
        "id": "0OVDHoD2qBNH",
        "outputId": "170822e2-e55b-4f6a-b40f-2cc6d41fa4a6"
      },
      "execution_count": null,
      "outputs": [
        {
          "output_type": "stream",
          "name": "stdout",
          "text": [
            "<class 'complex'>\n"
          ]
        }
      ]
    },
    {
      "cell_type": "code",
      "source": [
        "a=56\n",
        "b=34.4\n",
        "c=complex (a,b)\n",
        "print(type(c))"
      ],
      "metadata": {
        "colab": {
          "base_uri": "https://localhost:8080/"
        },
        "id": "fQ6sFSMwqBPx",
        "outputId": "c0406379-1d3d-4afd-da28-18fa87b40d87"
      },
      "execution_count": null,
      "outputs": [
        {
          "output_type": "stream",
          "name": "stdout",
          "text": [
            "<class 'complex'>\n"
          ]
        }
      ]
    },
    {
      "cell_type": "code",
      "source": [
        "print (type(b))"
      ],
      "metadata": {
        "colab": {
          "base_uri": "https://localhost:8080/"
        },
        "id": "bReEDXQuqBSQ",
        "outputId": "39c5308b-b868-4f30-a79b-16d934d153a4"
      },
      "execution_count": null,
      "outputs": [
        {
          "output_type": "stream",
          "name": "stdout",
          "text": [
            "<class 'float'>\n"
          ]
        }
      ]
    },
    {
      "cell_type": "code",
      "source": [
        "a=56\n",
        "d=complex(a)\n",
        "print(a)"
      ],
      "metadata": {
        "colab": {
          "base_uri": "https://localhost:8080/"
        },
        "id": "f96TK50wqBVu",
        "outputId": "9ab547bb-ddd5-49ee-e630-73bfdfe343d7"
      },
      "execution_count": null,
      "outputs": [
        {
          "output_type": "stream",
          "name": "stdout",
          "text": [
            "56\n"
          ]
        }
      ]
    },
    {
      "cell_type": "markdown",
      "source": [
        "converting float to int,complex."
      ],
      "metadata": {
        "id": "PQ16__odv9Rz"
      }
    },
    {
      "cell_type": "code",
      "source": [
        "hello=23.45\n",
        "people=int(hello)\n",
        "print(type(hello))\n",
        "print(type(people))"
      ],
      "metadata": {
        "colab": {
          "base_uri": "https://localhost:8080/"
        },
        "id": "uCIArMejwgcK",
        "outputId": "4346e16f-61cc-49fe-9ce9-a553bade423b"
      },
      "execution_count": null,
      "outputs": [
        {
          "output_type": "stream",
          "name": "stdout",
          "text": [
            "<class 'float'>\n",
            "<class 'int'>\n"
          ]
        }
      ]
    },
    {
      "cell_type": "code",
      "source": [
        "s=34.9\n",
        "fruits=complex(s)\n",
        "print(s)\n",
        "print(fruits)"
      ],
      "metadata": {
        "colab": {
          "base_uri": "https://localhost:8080/"
        },
        "id": "m4R57Xg3wgfh",
        "outputId": "2af8b2f3-624b-4681-e994-16221b2878ec"
      },
      "execution_count": null,
      "outputs": [
        {
          "output_type": "stream",
          "name": "stdout",
          "text": [
            "34.9\n",
            "(34.9+0j)\n"
          ]
        }
      ]
    }
  ]
}