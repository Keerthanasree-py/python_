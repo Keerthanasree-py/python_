{
  "nbformat": 4,
  "nbformat_minor": 0,
  "metadata": {
    "colab": {
      "provenance": []
    },
    "kernelspec": {
      "name": "python3",
      "display_name": "Python 3"
    },
    "language_info": {
      "name": "python"
    }
  },
  "cells": [
    {
      "cell_type": "markdown",
      "source": [
        "**Define Tuples**\n",
        "\n",
        "- Python Tuple is a collection of Python Programming objects much like a list.\n",
        "- The data type that represents an ordered, immutable and sequence of elements\n",
        "- Similar to lists but the only difference is tuples and cannot be modified\n",
        "- Defines using paranthesis ()\n",
        "- seperated by commas ,."
      ],
      "metadata": {
        "id": "LAuKfozqG2Gy"
      }
    },
    {
      "cell_type": "markdown",
      "source": [
        "**Features of tuples**\n",
        "\n",
        "- Immutable\n",
        "- Each element in a tuple has a specified order that will never change becoz tuples are ordered sequences"
      ],
      "metadata": {
        "id": "D748eC2-HBnT"
      }
    },
    {
      "cell_type": "markdown",
      "source": [
        "**Creating 10 examples**"
      ],
      "metadata": {
        "id": "m8pjABCnHOw1"
      }
    },
    {
      "cell_type": "code",
      "execution_count": null,
      "metadata": {
        "colab": {
          "base_uri": "https://localhost:8080/"
        },
        "id": "goD3iTjoFpBd",
        "outputId": "55c25617-78fb-480d-944b-ea55be7294e0"
      },
      "outputs": [
        {
          "output_type": "stream",
          "name": "stdout",
          "text": [
            "Tuple using List: \n",
            "(1, 2, 4, 5, 6)\n"
          ]
        }
      ],
      "source": [
        "list1 = [1, 2, 4, 5, 6]\n",
        "print(\"Tuple using List: \")\n",
        "print(tuple(list1))"
      ]
    },
    {
      "cell_type": "code",
      "source": [
        "Tuple1 = ()\n",
        "print(\"Initial empty Tuple: \")\n",
        "print(Tuple1)"
      ],
      "metadata": {
        "colab": {
          "base_uri": "https://localhost:8080/"
        },
        "id": "lmYqzMW9HYz4",
        "outputId": "75495e11-9578-45f9-bb06-b9c872f83f74"
      },
      "execution_count": null,
      "outputs": [
        {
          "output_type": "stream",
          "name": "stdout",
          "text": [
            "Initial empty Tuple: \n",
            "()\n"
          ]
        }
      ]
    },
    {
      "cell_type": "code",
      "source": [
        "fruits=(\"apple\",\"banana\",\"grapes\")\n",
        "print(fruits)\n",
        "print(type(fruits))"
      ],
      "metadata": {
        "colab": {
          "base_uri": "https://localhost:8080/"
        },
        "id": "l_w6ecM2HY_8",
        "outputId": "25cb6281-1ad1-4618-e9ee-803a1848eb68"
      },
      "execution_count": null,
      "outputs": [
        {
          "output_type": "stream",
          "name": "stdout",
          "text": [
            "('apple', 'banana', 'grapes')\n",
            "<class 'tuple'>\n"
          ]
        }
      ]
    },
    {
      "cell_type": "code",
      "source": [
        "thistuple = (\"apple\", \"banana\", \"cherry\")\n",
        "print(len(thistuple))"
      ],
      "metadata": {
        "colab": {
          "base_uri": "https://localhost:8080/"
        },
        "id": "Ot-p7kakHZDn",
        "outputId": "eceba746-b963-4aca-d175-ddf015ec6471"
      },
      "execution_count": null,
      "outputs": [
        {
          "output_type": "stream",
          "name": "stdout",
          "text": [
            "3\n"
          ]
        }
      ]
    },
    {
      "cell_type": "code",
      "source": [
        "thistuple = (\"apple\",)\n",
        "print(type(thistuple))"
      ],
      "metadata": {
        "colab": {
          "base_uri": "https://localhost:8080/"
        },
        "id": "5It3yE3CJQB8",
        "outputId": "b7e713fc-4538-41d5-8b55-9ff3b17a1e24"
      },
      "execution_count": null,
      "outputs": [
        {
          "output_type": "stream",
          "name": "stdout",
          "text": [
            "<class 'tuple'>\n"
          ]
        }
      ]
    },
    {
      "cell_type": "code",
      "source": [
        "tuple1 = (\"apple\", \"banana\", \"cherry\")\n",
        "tuple2 = (1, 5, 7, 9, 3)\n",
        "tuple3 = (True, False, False)\n",
        "print(type(tuple1))\n",
        "print(type(tuple2))\n",
        "print(type(tuple3))"
      ],
      "metadata": {
        "colab": {
          "base_uri": "https://localhost:8080/"
        },
        "id": "oAANvtDpJgy_",
        "outputId": "0837f16e-f73a-4896-9cd3-06efd9e61440"
      },
      "execution_count": null,
      "outputs": [
        {
          "output_type": "stream",
          "name": "stdout",
          "text": [
            "<class 'tuple'>\n",
            "<class 'tuple'>\n",
            "<class 'tuple'>\n"
          ]
        }
      ]
    },
    {
      "cell_type": "code",
      "source": [
        "tuple1 = ('be', 34, True , 40, 'apple')\n",
        "print(tuple1)\n",
        "print(type(tuple1))"
      ],
      "metadata": {
        "colab": {
          "base_uri": "https://localhost:8080/"
        },
        "id": "AGMXKZ1pJhBx",
        "outputId": "c6d65307-fd66-42d0-fab0-b8ce7e9b8de2"
      },
      "execution_count": null,
      "outputs": [
        {
          "output_type": "stream",
          "name": "stdout",
          "text": [
            "('be', 34, True, 40, 'apple')\n",
            "<class 'tuple'>\n"
          ]
        }
      ]
    },
    {
      "cell_type": "markdown",
      "source": [
        "**Accessing of tuples**\n",
        "\n",
        "*  supports only indexing and slicing"
      ],
      "metadata": {
        "id": "_jpeoEDIGzE9"
      }
    },
    {
      "cell_type": "code",
      "source": [
        "thistuple = (\"apple\", \"banana\", \"cherry\")\n",
        "print(thistuple[1])"
      ],
      "metadata": {
        "colab": {
          "base_uri": "https://localhost:8080/"
        },
        "id": "7RN8f9OELpwK",
        "outputId": "dc1cf636-be60-4575-a46d-8a3a0c93d73e"
      },
      "execution_count": null,
      "outputs": [
        {
          "output_type": "stream",
          "name": "stdout",
          "text": [
            "banana\n"
          ]
        }
      ]
    },
    {
      "cell_type": "code",
      "source": [
        "thistuple = (\"apple\", \"banana\", \"cherry\", \"orange\", \"kiwi\", \"melon\", \"mango\")\n",
        "print(thistuple[2:5])"
      ],
      "metadata": {
        "colab": {
          "base_uri": "https://localhost:8080/"
        },
        "id": "Y5dFZuPfL0mr",
        "outputId": "03b0061e-0267-4997-8933-4b336170448c"
      },
      "execution_count": null,
      "outputs": [
        {
          "output_type": "stream",
          "name": "stdout",
          "text": [
            "('cherry', 'orange', 'kiwi')\n"
          ]
        }
      ]
    },
    {
      "cell_type": "code",
      "source": [
        "thistuple = (\"apple\", \"banana\", \"cherry\", \"orange\", \"kiwi\", \"melon\", \"mango\")\n",
        "print(thistuple[:4])"
      ],
      "metadata": {
        "colab": {
          "base_uri": "https://localhost:8080/"
        },
        "id": "rzLaOGZGL0qR",
        "outputId": "632ef84d-6545-4f33-e5af-f7e714a38883"
      },
      "execution_count": null,
      "outputs": [
        {
          "output_type": "stream",
          "name": "stdout",
          "text": [
            "('apple', 'banana', 'cherry', 'orange')\n"
          ]
        }
      ]
    },
    {
      "cell_type": "markdown",
      "source": [
        "**Tuple Operation**\n",
        "\n",
        "1.concatation :\n",
        "combining two tuples\n",
        "\n",
        "2.Repetition:\n",
        "repeating the tuple\n"
      ],
      "metadata": {
        "id": "65itD548MlOh"
      }
    },
    {
      "cell_type": "markdown",
      "source": [
        "**concatation:**"
      ],
      "metadata": {
        "id": "Mwt02vhmQPLr"
      }
    },
    {
      "cell_type": "code",
      "source": [
        "tuple1=(1,2,3)\n",
        "tuple2=(4,5,6)\n",
        "result=tuple1+tuple2\n",
        "print(result)"
      ],
      "metadata": {
        "colab": {
          "base_uri": "https://localhost:8080/"
        },
        "id": "sm8cC107MmoD",
        "outputId": "db6277b6-f4f7-434c-89a3-47303aecc3f1"
      },
      "execution_count": null,
      "outputs": [
        {
          "output_type": "stream",
          "name": "stdout",
          "text": [
            "(1, 2, 3, 4, 5, 6)\n"
          ]
        }
      ]
    },
    {
      "cell_type": "code",
      "source": [
        "tuple1=(1,2,3)\n",
        "tuple2=(\"apple\",\"mango\")\n",
        "result=tuple1+tuple2\n",
        "print(result)"
      ],
      "metadata": {
        "colab": {
          "base_uri": "https://localhost:8080/"
        },
        "id": "obtjIiirMmqw",
        "outputId": "47ab3a28-c8ae-459a-f926-88396f78fcd8"
      },
      "execution_count": null,
      "outputs": [
        {
          "output_type": "stream",
          "name": "stdout",
          "text": [
            "(1, 2, 3, 'apple', 'mango')\n"
          ]
        }
      ]
    },
    {
      "cell_type": "code",
      "source": [
        "t1=(\"a\",\"b\",\"c\",\"s\",\"d\")\n",
        "t2=(1,2,4,5,9)\n",
        "t=t1  +t2\n",
        "print(t)\n",
        "print(type(t))"
      ],
      "metadata": {
        "colab": {
          "base_uri": "https://localhost:8080/"
        },
        "id": "AbALOkOVMmtJ",
        "outputId": "d9befb4c-9b71-42b4-b363-b58f041f9f0e"
      },
      "execution_count": null,
      "outputs": [
        {
          "output_type": "stream",
          "name": "stdout",
          "text": [
            "('a', 'b', 'c', 's', 'd', 1, 2, 4, 5, 9)\n",
            "<class 'tuple'>\n"
          ]
        }
      ]
    },
    {
      "cell_type": "code",
      "source": [
        "tuple1=(1,2,3)\n",
        "tuple2=(9,10,11,12)\n",
        "result=tuple1+tuple2\n",
        "print(result)"
      ],
      "metadata": {
        "colab": {
          "base_uri": "https://localhost:8080/"
        },
        "id": "evFyvfFaMmwr",
        "outputId": "46d85a22-dc5d-44e2-c05d-205354967bf5"
      },
      "execution_count": null,
      "outputs": [
        {
          "output_type": "stream",
          "name": "stdout",
          "text": [
            "(1, 2, 3, 9, 10, 11, 12)\n"
          ]
        }
      ]
    },
    {
      "cell_type": "markdown",
      "source": [
        "**2.Repetition:**"
      ],
      "metadata": {
        "id": "GstrmFHfQKqa"
      }
    },
    {
      "cell_type": "code",
      "source": [
        "tuple1=(1,2,3)\n",
        "print(tuple1*2)"
      ],
      "metadata": {
        "colab": {
          "base_uri": "https://localhost:8080/"
        },
        "id": "hpWawt2JRh81",
        "outputId": "bf88fa23-150b-40cd-faad-1aad8c462b20"
      },
      "execution_count": null,
      "outputs": [
        {
          "output_type": "stream",
          "name": "stdout",
          "text": [
            "(1, 2, 3, 1, 2, 3)\n"
          ]
        }
      ]
    },
    {
      "cell_type": "code",
      "source": [
        "tuple1=(\"welcome  \")\n",
        "print(tuple1*3)"
      ],
      "metadata": {
        "colab": {
          "base_uri": "https://localhost:8080/"
        },
        "id": "aOHmgzfmRh_M",
        "outputId": "65bb7cd4-16f8-4bca-ccf6-3b592de619ed"
      },
      "execution_count": null,
      "outputs": [
        {
          "output_type": "stream",
          "name": "stdout",
          "text": [
            "welcome  welcome  welcome  \n"
          ]
        }
      ]
    },
    {
      "cell_type": "code",
      "source": [
        "tuple1=(\"% \")\n",
        "print(tuple1*10)"
      ],
      "metadata": {
        "colab": {
          "base_uri": "https://localhost:8080/"
        },
        "id": "K2ancVKLRiCQ",
        "outputId": "e152efa1-bc13-4fcc-f222-3b53ad657b6a"
      },
      "execution_count": null,
      "outputs": [
        {
          "output_type": "stream",
          "name": "stdout",
          "text": [
            "% % % % % % % % % % \n"
          ]
        }
      ]
    },
    {
      "cell_type": "code",
      "source": [
        "tuple1=('true ')\n",
        "print(tuple1*13)"
      ],
      "metadata": {
        "colab": {
          "base_uri": "https://localhost:8080/"
        },
        "id": "n1zrDFvJRiFJ",
        "outputId": "17dcd460-6f9c-468b-9900-6e6e388db37a"
      },
      "execution_count": null,
      "outputs": [
        {
          "output_type": "stream",
          "name": "stdout",
          "text": [
            "true true true true true true true true true true true true true \n"
          ]
        }
      ]
    },
    {
      "cell_type": "markdown",
      "source": [
        "**Methods:**\n",
        "\n",
        "1.count()\n",
        "\n",
        "2.index()"
      ],
      "metadata": {
        "id": "TkV8I5ThSs3q"
      }
    },
    {
      "cell_type": "markdown",
      "source": [
        "**1.count:**\n",
        "returns the number of occurences of specified value"
      ],
      "metadata": {
        "id": "lQuw9I2OTHRZ"
      }
    },
    {
      "cell_type": "code",
      "source": [
        "t = (1, 2, 2, 3)\n",
        "print(t.count(2))"
      ],
      "metadata": {
        "colab": {
          "base_uri": "https://localhost:8080/"
        },
        "id": "I-8zp32fRiIM",
        "outputId": "26988a70-c89e-451c-f139-29f7804ab775"
      },
      "execution_count": null,
      "outputs": [
        {
          "output_type": "stream",
          "name": "stdout",
          "text": [
            "2\n"
          ]
        }
      ]
    },
    {
      "cell_type": "code",
      "source": [
        "fruits = ('apple', 'banana', 'orange', 'apple', 'kiwi')\n",
        "print(fruits.count('apple'))"
      ],
      "metadata": {
        "colab": {
          "base_uri": "https://localhost:8080/"
        },
        "id": "JFbL9z9-RiLq",
        "outputId": "938cdc7e-b5dd-40ff-8213-b33a728851f4"
      },
      "execution_count": null,
      "outputs": [
        {
          "output_type": "stream",
          "name": "stdout",
          "text": [
            "2\n"
          ]
        }
      ]
    },
    {
      "cell_type": "code",
      "source": [
        "a=(\"soaps\",\"bottle\",\"chocolate\",\"chips\")\n",
        "print(a.count(\"choco\"))"
      ],
      "metadata": {
        "colab": {
          "base_uri": "https://localhost:8080/"
        },
        "id": "qMGyXZpzThHK",
        "outputId": "ecea5776-75f5-4782-c653-891f2e88c6d7"
      },
      "execution_count": null,
      "outputs": [
        {
          "output_type": "stream",
          "name": "stdout",
          "text": [
            "0\n"
          ]
        }
      ]
    },
    {
      "cell_type": "markdown",
      "source": [
        "**2.index():**\n",
        "return the index of the first occurence of specified value"
      ],
      "metadata": {
        "id": "NT_Ed7CVVRsp"
      }
    },
    {
      "cell_type": "code",
      "source": [
        "t = (1, 2, 3)\n",
        "print(t.index(1))"
      ],
      "metadata": {
        "colab": {
          "base_uri": "https://localhost:8080/"
        },
        "id": "ejJtQi_9ThKn",
        "outputId": "b3502007-ebf7-47cf-8343-fe7d7b378fde"
      },
      "execution_count": null,
      "outputs": [
        {
          "output_type": "stream",
          "name": "stdout",
          "text": [
            "0\n"
          ]
        }
      ]
    },
    {
      "cell_type": "code",
      "source": [
        "colors = ('red','pink', 'blue', 'green', 'blue')\n",
        "print(colors.index('blue'))"
      ],
      "metadata": {
        "colab": {
          "base_uri": "https://localhost:8080/"
        },
        "id": "VazPCYo6V_AD",
        "outputId": "c90751e3-5539-4be1-d3f9-89d0130d7a57"
      },
      "execution_count": null,
      "outputs": [
        {
          "output_type": "stream",
          "name": "stdout",
          "text": [
            "2\n"
          ]
        }
      ]
    },
    {
      "cell_type": "code",
      "source": [
        "play=(\"draw\",\"paint\",\"sing\")\n",
        "print(play.index('paint'))"
      ],
      "metadata": {
        "colab": {
          "base_uri": "https://localhost:8080/"
        },
        "id": "LGGLI73tV_Dh",
        "outputId": "d4f73aef-81bb-4430-b02c-7167084260db"
      },
      "execution_count": null,
      "outputs": [
        {
          "output_type": "stream",
          "name": "stdout",
          "text": [
            "1\n"
          ]
        }
      ]
    }
  ]
}