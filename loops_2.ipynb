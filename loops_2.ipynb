{
  "nbformat": 4,
  "nbformat_minor": 0,
  "metadata": {
    "colab": {
      "provenance": []
    },
    "kernelspec": {
      "name": "python3",
      "display_name": "Python 3"
    },
    "language_info": {
      "name": "python"
    }
  },
  "cells": [
    {
      "cell_type": "markdown",
      "source": [
        "1.write a python program to identify given number is a prime or not ?"
      ],
      "metadata": {
        "id": "psoJCXvM5QRU"
      }
    },
    {
      "cell_type": "code",
      "execution_count": 6,
      "metadata": {
        "colab": {
          "base_uri": "https://localhost:8080/"
        },
        "id": "BiUKCcmd5O3d",
        "outputId": "bac15dec-0045-4252-b58b-ffcef8c0e281"
      },
      "outputs": [
        {
          "output_type": "stream",
          "name": "stdout",
          "text": [
            "enter the number:11\n",
            "11 is a prime number.\n"
          ]
        }
      ],
      "source": [
        "num=int(input(\"enter the number:\"))\n",
        "if num>1:\n",
        "   for i in range(2,num):\n",
        "    if num % i == 0:\n",
        "       print(num, \"is not a prime number.\")\n",
        "       break\n",
        "   else:\n",
        "       print(num, \"is a prime number.\")\n",
        "else:\n",
        "   print(num, \"is not a prime number.\")\n"
      ]
    },
    {
      "cell_type": "markdown",
      "source": [
        "2.write a python program to find Fibonacci sequence of 5?\n",
        "\n"
      ],
      "metadata": {
        "id": "0GJJAAiwQoBj"
      }
    },
    {
      "cell_type": "code",
      "source": [
        "a=0\n",
        "b=1\n",
        "count=0\n",
        "for i in range(10):\n",
        "  print(a)\n",
        "  c=a+b\n",
        "  a=b\n",
        "  b=c\n",
        "  count+=1"
      ],
      "metadata": {
        "colab": {
          "base_uri": "https://localhost:8080/"
        },
        "id": "w29bwmHBQrZu",
        "outputId": "6c1af63e-844e-4653-d669-dabf2e6cc3aa"
      },
      "execution_count": 5,
      "outputs": [
        {
          "output_type": "stream",
          "name": "stdout",
          "text": [
            "0\n",
            "1\n",
            "1\n",
            "2\n",
            "3\n",
            "5\n",
            "8\n",
            "13\n",
            "21\n",
            "34\n"
          ]
        }
      ]
    },
    {
      "cell_type": "markdown",
      "source": [
        "3.write a python program to find factorial number ?"
      ],
      "metadata": {
        "id": "T3xL8t_XVlCG"
      }
    },
    {
      "cell_type": "code",
      "source": [
        "a=int(input(\"enter a number:\"))\n",
        "num=1\n",
        "for i in range(1,a+1):\n",
        "    num=num*i\n",
        "    print(num)"
      ],
      "metadata": {
        "colab": {
          "base_uri": "https://localhost:8080/"
        },
        "id": "DuOiioB1QrjM",
        "outputId": "7d8c70d8-3c21-465f-c4e1-ed04bf0443b9"
      },
      "execution_count": 1,
      "outputs": [
        {
          "output_type": "stream",
          "name": "stdout",
          "text": [
            "enter a number:10\n",
            "1\n",
            "2\n",
            "6\n",
            "24\n",
            "120\n",
            "720\n",
            "5040\n",
            "40320\n",
            "362880\n",
            "3628800\n"
          ]
        }
      ]
    },
    {
      "cell_type": "markdown",
      "source": [
        "4.write a python program to print multiplction table of a given number ?"
      ],
      "metadata": {
        "id": "gDvJxS2iZJRV"
      }
    },
    {
      "cell_type": "code",
      "source": [
        "a = int(input(\"enter the table number :\"))\n",
        "for i in range(1,11):\n",
        "    print(a,\"*\",i,\"=\",a*i)"
      ],
      "metadata": {
        "colab": {
          "base_uri": "https://localhost:8080/"
        },
        "id": "Eefgt-fgZQ2p",
        "outputId": "0f27e109-ab83-4940-e22b-04480c82a08d"
      },
      "execution_count": 3,
      "outputs": [
        {
          "output_type": "stream",
          "name": "stdout",
          "text": [
            "enter the table number :12\n",
            "12 * 1 = 12\n",
            "12 * 2 = 24\n",
            "12 * 3 = 36\n",
            "12 * 4 = 48\n",
            "12 * 5 = 60\n",
            "12 * 6 = 72\n",
            "12 * 7 = 84\n",
            "12 * 8 = 96\n",
            "12 * 9 = 108\n",
            "12 * 10 = 120\n"
          ]
        }
      ]
    },
    {
      "cell_type": "markdown",
      "source": [
        "5.write a python program to count total number of digits in a number?"
      ],
      "metadata": {
        "id": "a_4S6EQObdI5"
      }
    },
    {
      "cell_type": "code",
      "source": [],
      "metadata": {
        "id": "hR11qpe6p89o"
      },
      "execution_count": null,
      "outputs": []
    },
    {
      "cell_type": "markdown",
      "source": [
        "6.write a python program to print list reverse using loop?"
      ],
      "metadata": {
        "id": "y4Ti_D7Fp9QW"
      }
    },
    {
      "cell_type": "code",
      "source": [
        "list=[1,2,3,4,5,6,7]\n",
        "for i in reversed(list):\n",
        "  print(i)"
      ],
      "metadata": {
        "colab": {
          "base_uri": "https://localhost:8080/"
        },
        "id": "LOdj-brjbhxt",
        "outputId": "30742bf3-59e7-40d9-96d4-36a9df5cfd5a"
      },
      "execution_count": 4,
      "outputs": [
        {
          "output_type": "stream",
          "name": "stdout",
          "text": [
            "7\n",
            "6\n",
            "5\n",
            "4\n",
            "3\n",
            "2\n",
            "1\n"
          ]
        }
      ]
    },
    {
      "cell_type": "markdown",
      "source": [
        "6.write a python program to display from -10 to -1?"
      ],
      "metadata": {
        "id": "EU4icKh2pgpy"
      }
    },
    {
      "cell_type": "code",
      "source": [
        "list=[1,2,3,4,5,6,7,8,9,10]\n",
        "for i in reversed(list):\n",
        "     print(-i)"
      ],
      "metadata": {
        "colab": {
          "base_uri": "https://localhost:8080/"
        },
        "id": "56gRtBe-psSB",
        "outputId": "e89e2c92-af09-4d97-e9dd-d210ef154ab6"
      },
      "execution_count": 5,
      "outputs": [
        {
          "output_type": "stream",
          "name": "stdout",
          "text": [
            "-10\n",
            "-9\n",
            "-8\n",
            "-7\n",
            "-6\n",
            "-5\n",
            "-4\n",
            "-3\n",
            "-2\n",
            "-1\n"
          ]
        }
      ]
    }
  ]
}