{
  "nbformat": 4,
  "nbformat_minor": 0,
  "metadata": {
    "colab": {
      "provenance": []
    },
    "kernelspec": {
      "name": "python3",
      "display_name": "Python 3"
    },
    "language_info": {
      "name": "python"
    }
  },
  "cells": [
    {
      "cell_type": "markdown",
      "source": [
        "**loops statement:**\n",
        "\n",
        "a sequence of instruction s that is continually repeated until a certain condition is reached.\n",
        "\n",
        "two types loops :\n",
        " 1. while loop:\n",
        " 2.for loop:"
      ],
      "metadata": {
        "id": "zDQlFSGJ86js"
      }
    },
    {
      "cell_type": "markdown",
      "source": [
        "**2. While loop:**\n",
        "\n",
        "The while loop is used to execute a set of statements as long as a condition is true."
      ],
      "metadata": {
        "id": "wKQzSHaV-1FK"
      }
    },
    {
      "cell_type": "code",
      "execution_count": null,
      "metadata": {
        "id": "h68csleL1F5N",
        "colab": {
          "base_uri": "https://localhost:8080/"
        },
        "outputId": "f9a9ee99-8951-46ff-9b85-1034b41ffbcc"
      },
      "outputs": [
        {
          "output_type": "stream",
          "name": "stdout",
          "text": [
            "10\n",
            "25\n",
            "40\n"
          ]
        }
      ],
      "source": [
        "i=10\n",
        "while i<=50:\n",
        "  print(i)\n",
        "  i=i+15"
      ]
    },
    {
      "cell_type": "code",
      "source": [
        "number = 1\n",
        "\n",
        "while number <= 3:\n",
        "    print(number)\n",
        "    number = number + 1"
      ],
      "metadata": {
        "colab": {
          "base_uri": "https://localhost:8080/"
        },
        "id": "rooTDLkRi_Bh",
        "outputId": "ebc473ea-c25a-48d1-c4e9-78ab045804dd"
      },
      "execution_count": 2,
      "outputs": [
        {
          "output_type": "stream",
          "name": "stdout",
          "text": [
            "1\n",
            "2\n",
            "3\n"
          ]
        }
      ]
    },
    {
      "cell_type": "markdown",
      "source": [
        "**1. For Loop:**\n",
        "\n",
        "A for loop in Python is used to iterate over a sequence (list, tuple, set, dictionary, and string)."
      ],
      "metadata": {
        "id": "MVyuSAHY-23V"
      }
    },
    {
      "cell_type": "code",
      "source": [
        "a='hello python'\n",
        "for i in a:\n",
        "  print(i)"
      ],
      "metadata": {
        "colab": {
          "base_uri": "https://localhost:8080/"
        },
        "id": "TfRq47ayAcAh",
        "outputId": "ad25ff30-9333-4637-b48c-309cce611ee4"
      },
      "execution_count": null,
      "outputs": [
        {
          "output_type": "stream",
          "name": "stdout",
          "text": [
            "h\n",
            "e\n",
            "l\n",
            "l\n",
            "o\n",
            " \n",
            "p\n",
            "y\n",
            "t\n",
            "h\n",
            "o\n",
            "n\n"
          ]
        }
      ]
    },
    {
      "cell_type": "markdown",
      "source": [
        "1.write a python program to check given year leap or not?"
      ],
      "metadata": {
        "id": "Ni52mzGgA1lL"
      }
    },
    {
      "cell_type": "code",
      "source": [
        "year=int(input(\"enter ur year:\"))\n",
        "\n",
        "for year in range(2000,3000):\n",
        "  if year % 4==0:\n",
        "    print(f\"{year} is a leap year.\")\n",
        "  else:\n",
        "    print(f\"{year} is not a leap year.\")\n",
        "    break"
      ],
      "metadata": {
        "id": "N1AiUKmOCkqB",
        "colab": {
          "base_uri": "https://localhost:8080/"
        },
        "outputId": "77687c55-9af7-4cd3-a0b4-75f27480ae22"
      },
      "execution_count": 4,
      "outputs": [
        {
          "output_type": "stream",
          "name": "stdout",
          "text": [
            "enter ur year:2002\n",
            "2000 is a leap year.\n",
            "2001 is not a leap year.\n"
          ]
        }
      ]
    },
    {
      "cell_type": "code",
      "source": [
        "year = int(input(\"Enter a year: \"))\n",
        "\n",
        "while year < 1:\n",
        "    print(\"year\")\n",
        "    year = int(input(\"Enter a year: \"))\n",
        "\n",
        "if year % 4 == 0:\n",
        "    print(f\"{year} is a leap year.\")\n",
        "else:\n",
        "    print(f\"{year} is not a leap year.\")"
      ],
      "metadata": {
        "colab": {
          "base_uri": "https://localhost:8080/"
        },
        "id": "3fLANj6imn6F",
        "outputId": "eef5b577-b7d2-4b51-d3e4-d8a9db0f326e"
      },
      "execution_count": 5,
      "outputs": [
        {
          "output_type": "stream",
          "name": "stdout",
          "text": [
            "Enter a year: 2002\n",
            "2002 is not a leap year.\n"
          ]
        }
      ]
    },
    {
      "cell_type": "markdown",
      "source": [
        "2.write a python prog to find a given even or not"
      ],
      "metadata": {
        "id": "goGlHMPdm8yJ"
      }
    },
    {
      "cell_type": "code",
      "source": [
        "num=[1,2,3,4,5,6,7,8,9,0,10]\n",
        "for i in num:\n",
        " if i% 2==0:\n",
        "  print(i,\"even\")\n",
        " else:\n",
        "  print(i,\"odd\")"
      ],
      "metadata": {
        "id": "gooa8wCiS0C7",
        "colab": {
          "base_uri": "https://localhost:8080/"
        },
        "outputId": "761ca0a3-8805-497d-eefb-5927eb84f50d"
      },
      "execution_count": 6,
      "outputs": [
        {
          "output_type": "stream",
          "name": "stdout",
          "text": [
            "1 odd\n",
            "2 even\n",
            "3 odd\n",
            "4 even\n",
            "5 odd\n",
            "6 even\n",
            "7 odd\n",
            "8 even\n",
            "9 odd\n",
            "0 even\n",
            "10 even\n"
          ]
        }
      ]
    },
    {
      "cell_type": "code",
      "source": [
        "num = int(input(\"Enter a number: \"))\n",
        "\n",
        "while num < 0:\n",
        "    print(\"num\")\n",
        "if num % 2 == 0:\n",
        "    print(f\"{num} is even.\")\n",
        "else:\n",
        "    print(f\"{num} is odd.\")\n"
      ],
      "metadata": {
        "colab": {
          "base_uri": "https://localhost:8080/"
        },
        "id": "iGshonZCnAys",
        "outputId": "2de97571-c30b-46ba-dc1d-ace72c2adae5"
      },
      "execution_count": 11,
      "outputs": [
        {
          "output_type": "stream",
          "name": "stdout",
          "text": [
            "Enter a number: 9\n",
            "9 is odd.\n"
          ]
        }
      ]
    },
    {
      "cell_type": "markdown",
      "source": [
        "3.python check if a list is empty or not"
      ],
      "metadata": {
        "id": "zaS_wEV2nOHy"
      }
    },
    {
      "cell_type": "code",
      "source": [
        "my_list = []\n",
        "\n",
        "for i in range(10):\n",
        "    if not my_list:\n",
        "        print(\"List is empty\")\n",
        "    else:\n",
        "        print(\"List is not empty\")"
      ],
      "metadata": {
        "id": "00d8W71YWTXt",
        "colab": {
          "base_uri": "https://localhost:8080/"
        },
        "outputId": "2bb4ac78-1809-4ea1-c033-6d071955f6da"
      },
      "execution_count": 12,
      "outputs": [
        {
          "output_type": "stream",
          "name": "stdout",
          "text": [
            "List is empty\n",
            "List is empty\n",
            "List is empty\n",
            "List is empty\n",
            "List is empty\n",
            "List is empty\n",
            "List is empty\n",
            "List is empty\n",
            "List is empty\n",
            "List is empty\n"
          ]
        }
      ]
    },
    {
      "cell_type": "code",
      "source": [
        "my_list = []\n",
        "\n",
        "for i in my_list:\n",
        "    print(i)\n",
        "if not my_list:\n",
        "    print(\"List is empty\")\n",
        "else:\n",
        "  print(\"not empty\")"
      ],
      "metadata": {
        "id": "LCu9W7UMWTbL",
        "colab": {
          "base_uri": "https://localhost:8080/"
        },
        "outputId": "6575b0a3-0859-4244-8be7-6723069d8684"
      },
      "execution_count": 13,
      "outputs": [
        {
          "output_type": "stream",
          "name": "stdout",
          "text": [
            "List is empty\n"
          ]
        }
      ]
    },
    {
      "cell_type": "code",
      "source": [
        "list = []\n",
        "index = 0\n",
        "\n",
        "while index == 0:\n",
        "    print(\"empty\")\n",
        "    break"
      ],
      "metadata": {
        "colab": {
          "base_uri": "https://localhost:8080/"
        },
        "id": "aT_TjSUinbNP",
        "outputId": "76257a4f-05ed-4066-9f9f-e630401e7748"
      },
      "execution_count": 14,
      "outputs": [
        {
          "output_type": "stream",
          "name": "stdout",
          "text": [
            "empty\n"
          ]
        }
      ]
    },
    {
      "cell_type": "markdown",
      "source": [
        "4.python to calculate of student marks?"
      ],
      "metadata": {
        "id": "0iUzPYWqoIWV"
      }
    },
    {
      "cell_type": "code",
      "source": [
        "marks=int(input(\"enter marks:\"))\n",
        "for i in range (0,101):\n",
        "\n",
        " if marks>=90:\n",
        "  print(\"a\")\n",
        " elif marks>=80:\n",
        "  print(\"b\")\n",
        " elif marks>=70:\n",
        "  print(\"c\")\n",
        " elif marks>=60:\n",
        "  print(\"d\")\n",
        " elif marks>=50:\n",
        "  print(\"e\")\n",
        " else:\n",
        "  print(\"fail\")\n",
        "  break"
      ],
      "metadata": {
        "id": "wtnUc9i-bwam",
        "colab": {
          "base_uri": "https://localhost:8080/"
        },
        "outputId": "e874d3e3-8385-4f70-945c-efc9365de822"
      },
      "execution_count": 16,
      "outputs": [
        {
          "output_type": "stream",
          "name": "stdout",
          "text": [
            "enter marks:45\n",
            "fail\n"
          ]
        }
      ]
    },
    {
      "cell_type": "code",
      "source": [
        "marks = int(input(\"Enter marks: \"))\n",
        "\n",
        "i = 0\n",
        "while i <= 100:\n",
        "    if marks >= 90:\n",
        "        print(\"A\")\n",
        "    elif marks >= 80:\n",
        "        print(\"B\")\n",
        "    elif marks >= 70:\n",
        "        print(\"C\")\n",
        "    elif marks >= 60:\n",
        "        print(\"D\")\n",
        "    elif marks >= 50:\n",
        "        print(\"E\")\n",
        "    else:\n",
        "        print(\"Fail\")\n",
        "    i += 1\n",
        "    break"
      ],
      "metadata": {
        "colab": {
          "base_uri": "https://localhost:8080/"
        },
        "id": "eMv3KeUTqjbM",
        "outputId": "59675a1e-a668-4a43-a8f3-4e815ef50801"
      },
      "execution_count": 17,
      "outputs": [
        {
          "output_type": "stream",
          "name": "stdout",
          "text": [
            "Enter marks: 45\n",
            "Fail\n"
          ]
        }
      ]
    },
    {
      "cell_type": "markdown",
      "source": [
        "5.check wheather palidrome or not?"
      ],
      "metadata": {
        "id": "kNmTxNmIqmp6"
      }
    },
    {
      "cell_type": "code",
      "source": [
        "word = input(\"Enter your word: \")\n",
        "for i in word:\n",
        "    if word == word[::-1]:\n",
        "        print(\"The word is a palindrome.\")\n",
        "        break\n",
        "    else:\n",
        "        print(\"The word is not a palindrome.\")\n",
        "        break"
      ],
      "metadata": {
        "id": "ADCLyWQ7bwj9",
        "colab": {
          "base_uri": "https://localhost:8080/"
        },
        "outputId": "4036c73e-e02c-45f8-c1ab-672417ebf003"
      },
      "execution_count": 18,
      "outputs": [
        {
          "output_type": "stream",
          "name": "stdout",
          "text": [
            "Enter your word: 121\n",
            "The word is a palindrome.\n"
          ]
        }
      ]
    },
    {
      "cell_type": "code",
      "source": [
        "word = input(\"Enter your word: \")\n",
        "while True:\n",
        "    if word == word[::-1]:\n",
        "        print(\"The word is a palindrome.\")\n",
        "        break\n",
        "    else:\n",
        "        print(\"The word is not a palindrome.\")\n",
        "        break"
      ],
      "metadata": {
        "colab": {
          "base_uri": "https://localhost:8080/"
        },
        "id": "w7eJdthrquUB",
        "outputId": "cca74508-47ff-4127-f8c1-e35f43b9ae76"
      },
      "execution_count": 19,
      "outputs": [
        {
          "output_type": "stream",
          "name": "stdout",
          "text": [
            "Enter your word: 121\n",
            "The word is a palindrome.\n"
          ]
        }
      ]
    },
    {
      "cell_type": "markdown",
      "source": [
        "6.write python prog to find samallest among three numbers?"
      ],
      "metadata": {
        "id": "jjIXGxUAr52K"
      }
    },
    {
      "cell_type": "code",
      "source": [
        "x=20\n",
        "y=10\n",
        "z=14\n",
        "for i in x,y,z:\n",
        " if x<y and x<z:\n",
        "  print(\"x is smallest number\")\n",
        " elif z<y:\n",
        "  print(\"z is smallest number\")\n",
        " else:\n",
        "  print(\"y is smallest number\")"
      ],
      "metadata": {
        "id": "FThQ5Pv1bwnX",
        "colab": {
          "base_uri": "https://localhost:8080/"
        },
        "outputId": "2c7e03e4-b680-46f1-81e9-65ba7bbbce83"
      },
      "execution_count": 20,
      "outputs": [
        {
          "output_type": "stream",
          "name": "stdout",
          "text": [
            "y is smallest number\n",
            "y is smallest number\n",
            "y is smallest number\n"
          ]
        }
      ]
    },
    {
      "cell_type": "code",
      "source": [
        "x = 20\n",
        "y = 10\n",
        "z = 14\n",
        "\n",
        "i = 0\n",
        "numbers = [x, y, z]\n",
        "smallest = numbers[0]\n",
        "\n",
        "while i < 3:\n",
        "    smallest = numbers[i]  if numbers[i] < smallest else smallest\n",
        "    i += 1\n",
        "\n",
        "print(f\"The smallest number is {smallest}\")\n"
      ],
      "metadata": {
        "colab": {
          "base_uri": "https://localhost:8080/"
        },
        "id": "APuaaSoAtnLl",
        "outputId": "375debb7-0ee2-4e82-9b96-f44937a56774"
      },
      "execution_count": 21,
      "outputs": [
        {
          "output_type": "stream",
          "name": "stdout",
          "text": [
            "The smallest number is 10\n"
          ]
        }
      ]
    },
    {
      "cell_type": "markdown",
      "source": [
        "7.find two second largest no. in list?"
      ],
      "metadata": {
        "id": "cPxy4OWStpPP"
      }
    },
    {
      "cell_type": "code",
      "source": [
        "numbers = [12, 45, 7, 23, 56, 89, 34]\n",
        "max_num = second_max = float('-inf')\n",
        "\n",
        "for num in numbers:\n",
        "    if num > max_num:\n",
        "        second_max = max_num\n",
        "        max_num = num\n",
        "    elif num > second_max:\n",
        "        second_max = num\n",
        "\n",
        "print(\"Largest:\", max_num)\n",
        "print(\"Second Largest:\",second_max)\n"
      ],
      "metadata": {
        "id": "lubUOPW2bwsq",
        "colab": {
          "base_uri": "https://localhost:8080/"
        },
        "outputId": "dc0f1188-ab54-45af-d5ab-9dee18241ee7"
      },
      "execution_count": 22,
      "outputs": [
        {
          "output_type": "stream",
          "name": "stdout",
          "text": [
            "Largest: 89\n",
            "Second Largest: 56\n"
          ]
        }
      ]
    },
    {
      "cell_type": "code",
      "source": [
        "numbers = [12, 45, 7, 23, 56, 89, 34]\n",
        "max_num = second_max = float('-inf')\n",
        "\n",
        "for num in numbers:\n",
        "    if num > max_num:\n",
        "        second_max = max_num\n",
        "        max_num = num\n",
        "    elif num > second_max:\n",
        "        second_max = num\n",
        "\n",
        "print(\"Largest:\", max_num)\n",
        "print(\"Second Largest:\",second_max)"
      ],
      "metadata": {
        "colab": {
          "base_uri": "https://localhost:8080/"
        },
        "id": "-7pZ5AaHuEx1",
        "outputId": "3daa0c08-53ea-42d7-d470-d14a7b04e976"
      },
      "execution_count": 23,
      "outputs": [
        {
          "output_type": "stream",
          "name": "stdout",
          "text": [
            "Largest: 89\n",
            "Second Largest: 56\n"
          ]
        }
      ]
    },
    {
      "cell_type": "markdown",
      "source": [
        "8.calculate bmi and categories it?"
      ],
      "metadata": {
        "id": "CfKDXMYLxWaR"
      }
    },
    {
      "cell_type": "code",
      "source": [
        "Height = float(input(\"Enter your height in cm: \")) / 100\n",
        "Weight = float(input(\"Enter your weight in kg: \"))\n",
        "for i in Height,Weight:\n",
        "\n",
        " BMI = Weight / (Height ** 2)\n",
        "\n",
        "if BMI <= 18.5:\n",
        "    print(\"You are underweight\")\n",
        "elif BMI <= 25:\n",
        "    print(\"You are healthy\")\n",
        "elif BMI <= 30:\n",
        "    print(\"You are overweight\")\n",
        "else:\n",
        "    print(\"You are obese\")"
      ],
      "metadata": {
        "id": "FIsn5Xg39rzM",
        "colab": {
          "base_uri": "https://localhost:8080/"
        },
        "outputId": "6943db61-47e1-443e-8ee1-872c4845f8e7"
      },
      "execution_count": 25,
      "outputs": [
        {
          "output_type": "stream",
          "name": "stdout",
          "text": [
            "Enter your height in cm: 180\n",
            "Enter your weight in kg: 75\n",
            "You are healthy\n"
          ]
        }
      ]
    },
    {
      "cell_type": "code",
      "source": [
        "while True:\n",
        "    Height = float(input(\"Enter your height in cm: \")) / 100\n",
        "    Weight = float(input(\"Enter your weight in kg: \"))\n",
        "\n",
        "    BMI = Weight / (Height ** 2)\n",
        "\n",
        "    if BMI <= 18.5:\n",
        "        print(\"You are underweight\")\n",
        "    elif BMI <= 25:\n",
        "        print(\"You are healthy\")\n",
        "    elif BMI <= 30:\n",
        "        print(\"You are overweight\")\n",
        "    else:\n",
        "        print(\"You are obese\")\n",
        "        break"
      ],
      "metadata": {
        "colab": {
          "base_uri": "https://localhost:8080/"
        },
        "id": "HYluzZOdyBlZ",
        "outputId": "7fdc911e-8299-4d28-9137-c2506e0ccc75"
      },
      "execution_count": 27,
      "outputs": [
        {
          "output_type": "stream",
          "name": "stdout",
          "text": [
            "Enter your height in cm: 160\n",
            "Enter your weight in kg: 80\n",
            "You are obese\n"
          ]
        }
      ]
    },
    {
      "cell_type": "markdown",
      "source": [
        "9.to check vote eliability?"
      ],
      "metadata": {
        "id": "lQdwWeZ4z1xX"
      }
    },
    {
      "cell_type": "code",
      "source": [
        "age=[12,34,3,17,56,10,21,83,19]\n",
        "for i in age:\n",
        "  if i >=18:\n",
        "    print(i,\"vote\")\n",
        "  else:\n",
        "    print(i,\"not vote\")"
      ],
      "metadata": {
        "id": "4MhNRy3n9r2a",
        "colab": {
          "base_uri": "https://localhost:8080/"
        },
        "outputId": "418dfd9d-8c1d-4392-e4bc-58ccd2fa22b4"
      },
      "execution_count": 28,
      "outputs": [
        {
          "output_type": "stream",
          "name": "stdout",
          "text": [
            "12 not vote\n",
            "34 vote\n",
            "3 not vote\n",
            "17 not vote\n",
            "56 vote\n",
            "10 not vote\n",
            "21 vote\n",
            "83 vote\n",
            "19 vote\n"
          ]
        }
      ]
    },
    {
      "cell_type": "code",
      "source": [
        "age = [12, 34, 3, 17, 56, 10, 21, 83, 19]\n",
        "i = 0\n",
        "\n",
        "while i < len(age):\n",
        "    if age[i] >= 18:\n",
        "        print(age[i], \"vote\")\n",
        "    else:\n",
        "        print(age[i], \"not vote\")\n",
        "    i += 1\n"
      ],
      "metadata": {
        "colab": {
          "base_uri": "https://localhost:8080/"
        },
        "id": "e2ssXUNn0Cr8",
        "outputId": "a481b730-8465-494b-a7fb-5ab1cbca8f3c"
      },
      "execution_count": 31,
      "outputs": [
        {
          "output_type": "stream",
          "name": "stdout",
          "text": [
            "12 not vote\n",
            "34 vote\n",
            "3 not vote\n",
            "17 not vote\n",
            "56 vote\n",
            "10 not vote\n",
            "21 vote\n",
            "83 vote\n",
            "19 vote\n"
          ]
        }
      ]
    },
    {
      "cell_type": "markdown",
      "source": [
        "10.find the person belong to which type of group?gruop school lesserthhan 22,\n",
        "work group lesser than 50 , retire greater than 50?"
      ],
      "metadata": {
        "id": "18o7q2Yi0DAS"
      }
    },
    {
      "cell_type": "code",
      "source": [
        "age=int(input(\"enter the age:\"))\n",
        "for i in range(0,100):\n",
        " if age<=22:\n",
        "  print(\"you r school group\")\n",
        " elif age<=50:\n",
        "  print(\"you r work group\")\n",
        " else:\n",
        "  print(\"you r retire group\")\n",
        " break"
      ],
      "metadata": {
        "id": "Xr6bhMjHIGGq",
        "outputId": "616733a3-71b9-4aca-d91d-54ac10b6409d",
        "colab": {
          "base_uri": "https://localhost:8080/"
        }
      },
      "execution_count": 34,
      "outputs": [
        {
          "output_type": "stream",
          "name": "stdout",
          "text": [
            "enter the age:50\n",
            "you r work group\n"
          ]
        }
      ]
    },
    {
      "cell_type": "code",
      "source": [
        "age = int(input(\"Enter your age: \"))\n",
        "count = 0\n",
        "\n",
        "while count < 1:\n",
        "    if age <= 22:\n",
        "        print(f\"Age {age}: School group\")\n",
        "    elif age > 22 and age <= 50:\n",
        "        print(f\"Age {age}: Work group\")\n",
        "    else:\n",
        "        print(f\"Age {age}: Retire group\")\n",
        "\n",
        "    count += 1"
      ],
      "metadata": {
        "colab": {
          "base_uri": "https://localhost:8080/"
        },
        "id": "6TdXwTT40mAZ",
        "outputId": "ae8a767f-ff81-4b01-e032-88f2bddd02db"
      },
      "execution_count": 40,
      "outputs": [
        {
          "output_type": "stream",
          "name": "stdout",
          "text": [
            "Enter your age: 50\n",
            "Age 50: Work group\n"
          ]
        }
      ]
    }
  ]
}