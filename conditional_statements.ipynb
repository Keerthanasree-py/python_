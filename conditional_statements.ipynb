{
  "nbformat": 4,
  "nbformat_minor": 0,
  "metadata": {
    "colab": {
      "provenance": []
    },
    "kernelspec": {
      "name": "python3",
      "display_name": "Python 3"
    },
    "language_info": {
      "name": "python"
    }
  },
  "cells": [
    {
      "cell_type": "markdown",
      "source": [
        "#conditional statements:\n",
        "\n",
        "provide a choice for the control flow based on a condition.\n",
        "It means that the control flow of the Python program will be decided based on the outcome of the condition\n",
        "\n",
        "ends with colon(:)\n",
        "\n",
        "\n",
        "there r 3 types of statements\n",
        "\n",
        "  1. if statement\n",
        "  2. if-else statement\n",
        "  3. elif statement\n"
      ],
      "metadata": {
        "id": "Js0idCDOGWTw"
      }
    },
    {
      "cell_type": "markdown",
      "source": [
        "# if statement:\n",
        "we have only one statement\n",
        "\n",
        "  syntax:\n",
        "\n",
        "        if condition:\n",
        "\n",
        "        print(\"block of statement\")\n"
      ],
      "metadata": {
        "id": "BUMf2hfmHwav"
      }
    },
    {
      "cell_type": "code",
      "source": [
        "num=5\n",
        "if num<10:\n",
        "  print(\"greater\")\n",
        "  print(\"num is lesserthan 10\")"
      ],
      "metadata": {
        "colab": {
          "base_uri": "https://localhost:8080/"
        },
        "id": "fbTj7SkaJCjh",
        "outputId": "a19d728e-49ee-4dcc-f674-4173be5680c7"
      },
      "execution_count": null,
      "outputs": [
        {
          "output_type": "stream",
          "name": "stdout",
          "text": [
            "greater\n",
            "num is lesserthan 10\n"
          ]
        }
      ]
    },
    {
      "cell_type": "code",
      "source": [
        "marks=int(input(\"enter marks:\"))\n",
        "if marks==100:\n",
        "  print(\"pass\")\n",
        "print(\"thanks\")"
      ],
      "metadata": {
        "id": "SpzEE-4iKw4J",
        "colab": {
          "base_uri": "https://localhost:8080/"
        },
        "outputId": "3b6d5f04-0e3d-47c4-91c4-44e2fb462d2c"
      },
      "execution_count": null,
      "outputs": [
        {
          "output_type": "stream",
          "name": "stdout",
          "text": [
            "enter marks:88\n",
            "thanks\n"
          ]
        }
      ]
    },
    {
      "cell_type": "markdown",
      "source": [
        "# if-else statement\n",
        "we have only two statement\n",
        "\n",
        "syntax:\n",
        "\n",
        "     if:\n",
        "        print(\"block of statement\")\n",
        "    else:\n",
        "        print(\"block of statement\")\n"
      ],
      "metadata": {
        "id": "RMaJv9LzKxQY"
      }
    },
    {
      "cell_type": "code",
      "source": [
        "num=100\n",
        "if num<50:\n",
        "  print(\"postive\")\n",
        "else:\n",
        " print(\"negitive\")\n"
      ],
      "metadata": {
        "colab": {
          "base_uri": "https://localhost:8080/"
        },
        "id": "GZw71zUrL91C",
        "outputId": "d3b3b8c5-05f1-4851-fcb2-51e2cc6721ba"
      },
      "execution_count": null,
      "outputs": [
        {
          "output_type": "stream",
          "name": "stdout",
          "text": [
            "negitive\n"
          ]
        }
      ]
    },
    {
      "cell_type": "code",
      "source": [
        "num=100\n",
        "if num>3:\n",
        "  print(\"even\")\n",
        "else:\n",
        "  print(\"odd\")"
      ],
      "metadata": {
        "id": "RvyQDNDmSM69",
        "colab": {
          "base_uri": "https://localhost:8080/"
        },
        "outputId": "0f8b00bd-e509-4833-9473-e29bf0e4166c"
      },
      "execution_count": null,
      "outputs": [
        {
          "output_type": "stream",
          "name": "stdout",
          "text": [
            "even\n"
          ]
        }
      ]
    },
    {
      "cell_type": "code",
      "source": [
        "marks=int(input(\"enter marks:\"))\n",
        "if marks==100:\n",
        "  print(\"pass\")\n",
        "else:\n",
        " print(\"fail\")"
      ],
      "metadata": {
        "colab": {
          "base_uri": "https://localhost:8080/"
        },
        "id": "egDbGU8sXJqh",
        "outputId": "86e328f8-da29-414f-c7b7-cc13c1b3ae8c"
      },
      "execution_count": null,
      "outputs": [
        {
          "output_type": "stream",
          "name": "stdout",
          "text": [
            "enter marks:60\n",
            "fail\n"
          ]
        }
      ]
    },
    {
      "cell_type": "code",
      "source": [
        "num=6\n",
        "if num>3:\n",
        "  print(\"even\")\n",
        "else:\n",
        "  print(\"odd\")"
      ],
      "metadata": {
        "colab": {
          "base_uri": "https://localhost:8080/"
        },
        "id": "AqyDWkHNQpyo",
        "outputId": "c42d2124-666b-4b6b-f733-e2d5466f64fb"
      },
      "execution_count": null,
      "outputs": [
        {
          "output_type": "stream",
          "name": "stdout",
          "text": [
            "even\n"
          ]
        }
      ]
    },
    {
      "cell_type": "markdown",
      "source": [
        "#elif statement:\n",
        "we  have morethan two statemnts\n",
        "\n",
        "syntax:\n",
        "\n",
        "    if:\n",
        "       print(\"block of statement\")\n",
        "    elif:\n",
        "        print(\"block of statement\")\n",
        "    else:\n",
        "        print (\"block of statement\")"
      ],
      "metadata": {
        "id": "QUA-K_LKSNSz"
      }
    },
    {
      "cell_type": "code",
      "source": [
        "vol=(\"a\",\"e\",\"i\",\"o\",\"u\")\n",
        "user=input(\"enter ur chara\")\n",
        "if user in vol:\n",
        "  print(\"its vol\")\n",
        "elif user in vol:\n",
        "  print(\"not vol\")\n",
        "else:\n",
        "  print(\"cap_vol\")\n"
      ],
      "metadata": {
        "colab": {
          "base_uri": "https://localhost:8080/"
        },
        "id": "NAMECc0gL-KD",
        "outputId": "db492b0a-e135-4316-9abb-3a736e2c88fb"
      },
      "execution_count": null,
      "outputs": [
        {
          "output_type": "stream",
          "name": "stdout",
          "text": [
            "enter ur charaA\n",
            "cap_vol\n"
          ]
        }
      ]
    },
    {
      "cell_type": "code",
      "source": [
        "num =34\n",
        "if num<=7:\n",
        "  print(\"even\")\n",
        "elif num<=86:\n",
        "  print(\"even2\")\n",
        "else:\n",
        " print(\"odd\")"
      ],
      "metadata": {
        "id": "M_DX5VEvTStK",
        "colab": {
          "base_uri": "https://localhost:8080/"
        },
        "outputId": "4f788f29-3b0e-4a1c-c1c9-b04466a21f34"
      },
      "execution_count": null,
      "outputs": [
        {
          "output_type": "stream",
          "name": "stdout",
          "text": [
            "even2\n"
          ]
        }
      ]
    },
    {
      "cell_type": "code",
      "source": [
        "x=20\n",
        "y=40\n",
        "z=30\n",
        "if x>y and x>z:\n",
        "  print(\"x is great\")\n",
        "elif y>z:\n",
        "  print(\"y is great\")\n",
        "else:\n",
        "  print(\"z is great\")"
      ],
      "metadata": {
        "id": "hskxHfMzTSvb",
        "colab": {
          "base_uri": "https://localhost:8080/"
        },
        "outputId": "f92942f4-893a-4f9a-f88a-6365aee82e92"
      },
      "execution_count": null,
      "outputs": [
        {
          "output_type": "stream",
          "name": "stdout",
          "text": [
            "y is great\n"
          ]
        }
      ]
    },
    {
      "cell_type": "markdown",
      "source": [
        "1.write a python program to check given year leap or not?"
      ],
      "metadata": {
        "id": "R-G0HATDiqLx"
      }
    },
    {
      "cell_type": "code",
      "source": [
        "year=int(input(\"enter ur year:\"))\n",
        "if year % 4 ==0:\n",
        "  print(\"leap\")\n",
        "else:\n",
        " print(\"not leap\")"
      ],
      "metadata": {
        "id": "V-rMt6MRTSy2",
        "colab": {
          "base_uri": "https://localhost:8080/"
        },
        "outputId": "964c98d7-143f-4cb6-dd10-4c78805039b4"
      },
      "execution_count": null,
      "outputs": [
        {
          "output_type": "stream",
          "name": "stdout",
          "text": [
            "enter ur year:2026\n",
            "not leap\n"
          ]
        }
      ]
    },
    {
      "cell_type": "markdown",
      "source": [
        "2.write a python prog to find a given even or not"
      ],
      "metadata": {
        "id": "rtRs9wwLliZu"
      }
    },
    {
      "cell_type": "code",
      "source": [
        "num=int(input(\"enter the number\"))\n",
        "if num==0:\n",
        "  print(\"even\")\n",
        "else:\n",
        "  print(\"odd\")"
      ],
      "metadata": {
        "colab": {
          "base_uri": "https://localhost:8080/"
        },
        "id": "n-OKQIIhincW",
        "outputId": "2470fe08-a6b1-48ad-c1d5-b64775f51479"
      },
      "execution_count": null,
      "outputs": [
        {
          "output_type": "stream",
          "name": "stdout",
          "text": [
            "enter the number21\n",
            "odd\n"
          ]
        }
      ]
    },
    {
      "cell_type": "markdown",
      "source": [
        "3.python check if a list is empty or not"
      ],
      "metadata": {
        "id": "z1gVFa1emRlW"
      }
    },
    {
      "cell_type": "code",
      "source": [
        "list=[]\n",
        "if not list:\n",
        "  print(\"empty\")\n",
        "else:\n",
        "  print(\"not empty\")"
      ],
      "metadata": {
        "colab": {
          "base_uri": "https://localhost:8080/"
        },
        "id": "uduqOvUTmYbs",
        "outputId": "2ec9bacf-b8e7-4c9d-e230-9bc24b3b7bce"
      },
      "execution_count": null,
      "outputs": [
        {
          "output_type": "stream",
          "name": "stdout",
          "text": [
            "empty\n"
          ]
        }
      ]
    },
    {
      "cell_type": "markdown",
      "source": [
        "4.python to calculate of student marks?"
      ],
      "metadata": {
        "id": "l6sVHXJ5nyy5"
      }
    },
    {
      "cell_type": "code",
      "source": [
        "marks=int(input(\"enter marks:\"))\n",
        "if marks>=90:\n",
        "  print(\"a\")\n",
        "elif marks>=80:\n",
        "  print(\"b\")\n",
        "elif marks>=70:\n",
        "  print(\"c\")\n",
        "elif marks>=60:\n",
        "  print(\"d\")\n",
        "elif marks>=50:\n",
        "  print(\"e\")\n",
        "else:\n",
        " print(\"fail\")"
      ],
      "metadata": {
        "colab": {
          "base_uri": "https://localhost:8080/"
        },
        "id": "GIOrLQASn-jQ",
        "outputId": "0b931828-050b-4588-a145-3e189a5c150a"
      },
      "execution_count": null,
      "outputs": [
        {
          "output_type": "stream",
          "name": "stdout",
          "text": [
            "enter marks:45\n",
            "not fail\n"
          ]
        }
      ]
    },
    {
      "cell_type": "markdown",
      "source": [
        "5.check wheather palidrome or not?\n",
        "\n",
        "6.write python prog to find samallest among three numbers?\n",
        "\n",
        "7.find two second largest no. in list?\n",
        "\n",
        "8.calculate bmi and categories it?\n",
        "\n",
        "9.to check vote eliability?\n",
        "\n",
        "10.find the person belong to which type of group?gruop school lesserthhan 22,\n",
        "work group lesser than 50 , retire  greater than 50?\n",
        "\n"
      ],
      "metadata": {
        "id": "vXs6tT76pxse"
      }
    },
    {
      "cell_type": "code",
      "source": [
        "num = int(input(\"enter the number:\"))\n",
        "reverse = int(str(num)[::-1])\n",
        "\n",
        "if num == reverse:\n",
        "  print('Palindrome')\n",
        "else:\n",
        "  print(\"Not Palindrome\")"
      ],
      "metadata": {
        "id": "tpJwpvCA7l39",
        "colab": {
          "base_uri": "https://localhost:8080/"
        },
        "outputId": "0ef60fb9-2f33-49f2-d608-0e8877283a71"
      },
      "execution_count": 5,
      "outputs": [
        {
          "output_type": "stream",
          "name": "stdout",
          "text": [
            "enter the number:876\n",
            "Not Palindrome\n"
          ]
        }
      ]
    },
    {
      "cell_type": "code",
      "source": [
        "word = input(\"Enter your word: \")\n",
        "if word == word[::-1]:\n",
        "    print(\"The word is a palindrome.\")\n",
        "else:\n",
        "    print(\"The word is not a palindrome.\")"
      ],
      "metadata": {
        "colab": {
          "base_uri": "https://localhost:8080/"
        },
        "id": "_9wUarUDRZmj",
        "outputId": "201e6aee-3f60-4580-9bb5-0945de36aef3"
      },
      "execution_count": 2,
      "outputs": [
        {
          "output_type": "stream",
          "name": "stdout",
          "text": [
            "Enter your word: sssss\n",
            "The word is a palindrome.\n"
          ]
        }
      ]
    },
    {
      "cell_type": "code",
      "source": [
        "x=20\n",
        "y=10\n",
        "z=14\n",
        "if x<y and x<z:\n",
        "  print(\"x is smallest number\")\n",
        "elif z<y:\n",
        "  print(\"z is smallest number\")\n",
        "else:\n",
        "  print(\"y is smallest number\")"
      ],
      "metadata": {
        "colab": {
          "base_uri": "https://localhost:8080/"
        },
        "id": "Xn_fnVC97l64",
        "outputId": "3a2b958d-49b3-4839-8c56-04ad17707e0f"
      },
      "execution_count": null,
      "outputs": [
        {
          "output_type": "stream",
          "name": "stdout",
          "text": [
            "y is smallest number\n"
          ]
        }
      ]
    },
    {
      "cell_type": "code",
      "source": [
        "list=[1,2,3,4]\n",
        "list.sort()\n",
        "print(list[-2])"
      ],
      "metadata": {
        "id": "pCsvKHUG7l95",
        "colab": {
          "base_uri": "https://localhost:8080/"
        },
        "outputId": "43607688-f981-4e0f-be6f-590c1723a860"
      },
      "execution_count": 13,
      "outputs": [
        {
          "output_type": "stream",
          "name": "stdout",
          "text": [
            "3\n"
          ]
        }
      ]
    },
    {
      "cell_type": "code",
      "source": [
        "Height=float(input(\"Enter your height: \"))\n",
        "Weight=float(input(\"Enter your Weight: \"))\n",
        "x = Weight/(Height**2)\n",
        "if x<=18.5:\n",
        "\t\tprint(\"you are underweight\")\n",
        "elif x<=25:\n",
        "\t\tprint(\"you are Healthy\")\n",
        "elif x<=30:\n",
        "\t\tprint(\"you are overweight\")\n",
        "else:\n",
        "\tprint(\"you are obesity\")"
      ],
      "metadata": {
        "id": "BESBORvh7mBT",
        "colab": {
          "base_uri": "https://localhost:8080/"
        },
        "outputId": "40d85c4c-71b6-4d8d-d388-dda3fc16502f"
      },
      "execution_count": 56,
      "outputs": [
        {
          "output_type": "stream",
          "name": "stdout",
          "text": [
            "Enter your height: 1.83\n",
            "Enter your Weight: 85\n",
            "you are overweight\n"
          ]
        }
      ]
    },
    {
      "cell_type": "code",
      "source": [
        "age=int(input(\"enter the age:\"))\n",
        "if age >18:\n",
        "  print(\" you r eliabile\")\n",
        "elif age<18:\n",
        "  print(\"you r not eliabile\")\n",
        "else:\n",
        " print(\"thanks\")"
      ],
      "metadata": {
        "colab": {
          "base_uri": "https://localhost:8080/"
        },
        "id": "QAyUZhZtDpv8",
        "outputId": "94d0c1d6-1185-454c-e757-07d3523d0f3d"
      },
      "execution_count": null,
      "outputs": [
        {
          "output_type": "stream",
          "name": "stdout",
          "text": [
            "enter the age:12\n",
            "you r not eliabile\n"
          ]
        }
      ]
    },
    {
      "cell_type": "code",
      "source": [
        "age=int(input(\"enter the age:\"))\n",
        "if age<=22:\n",
        "  print(\"you r school group\")\n",
        "elif age<=50:\n",
        "  print(\"you r work group\")\n",
        "elif age>=50:\n",
        "  print(\"you r retire group\")\n",
        "else:\n",
        " print(\"thank\")"
      ],
      "metadata": {
        "colab": {
          "base_uri": "https://localhost:8080/"
        },
        "id": "ZmZj32fpDpzP",
        "outputId": "0d276c32-6514-4505-c235-fd6b90211d9d"
      },
      "execution_count": null,
      "outputs": [
        {
          "output_type": "stream",
          "name": "stdout",
          "text": [
            "enter the age:56\n",
            "you r retire group\n"
          ]
        }
      ]
    },
    {
      "cell_type": "markdown",
      "source": [
        "**types of inputs:**\n",
        "\n",
        "1.static input\n",
        "\n",
        "2.dynamic input"
      ],
      "metadata": {
        "id": "ndVkwI74TT1Z"
      }
    },
    {
      "cell_type": "markdown",
      "source": [
        "static:\n",
        "inputs r given by developer\n",
        "\n",
        "Ex:\n",
        "\n",
        "    num=100\n",
        "    if num<50:\n",
        "        print(\"postive\")\n",
        "    else:\n",
        "        print(\"negitive\")\n",
        "\n",
        "    o/p: positive"
      ],
      "metadata": {
        "id": "XLOiKm9HTvKZ"
      }
    },
    {
      "cell_type": "markdown",
      "source": [
        "dynamic: inputs r given by user\n",
        "\n",
        "ex:\n",
        "\n",
        "    user=input(\"Enter your name:\")\n",
        "    print(user)\n",
        "\n",
        "    o/p: user=input(\"Enter your name:\")\n",
        "         print(user)"
      ],
      "metadata": {
        "id": "SIFfjKnwVEKP"
      }
    },
    {
      "cell_type": "code",
      "source": [
        "user=input(\"Enter your name:\")\n",
        "print(user)"
      ],
      "metadata": {
        "colab": {
          "base_uri": "https://localhost:8080/"
        },
        "id": "Q4iHLeT7VZY0",
        "outputId": "69df6494-ac90-45c3-f585-4c9074046eb0"
      },
      "execution_count": null,
      "outputs": [
        {
          "output_type": "stream",
          "name": "stdout",
          "text": [
            "Enter your name:sree\n",
            "sree\n"
          ]
        }
      ]
    }
  ]
}